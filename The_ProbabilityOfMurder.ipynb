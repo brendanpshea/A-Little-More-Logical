{
  "nbformat": 4,
  "nbformat_minor": 0,
  "metadata": {
    "colab": {
      "provenance": [],
      "authorship_tag": "ABX9TyMAtxKu+UTCHVCBenow20SJ",
      "include_colab_link": true
    },
    "kernelspec": {
      "name": "python3",
      "display_name": "Python 3"
    },
    "language_info": {
      "name": "python"
    }
  },
  "cells": [
    {
      "cell_type": "markdown",
      "metadata": {
        "id": "view-in-github",
        "colab_type": "text"
      },
      "source": [
        "<a href=\"https://colab.research.google.com/github/brendanpshea/logic-prolog/blob/main/The_ProbabilityOfMurder.ipynb\" target=\"_parent\"><img src=\"https://colab.research.google.com/assets/colab-badge.svg\" alt=\"Open In Colab\"/></a>"
      ]
    },
    {
      "cell_type": "code",
      "execution_count": 10,
      "metadata": {
        "id": "ECoZc0tFkjnp"
      },
      "outputs": [],
      "source": [
        "def validate_probabilities(*probs):\n",
        "  \"\"\"Validates that each probability value is between 0 and 1.\"\"\"\n",
        "  if any(not 0 <= p <= 1 for p in probs):\n",
        "    raise ValueError(\"Probabilities must be between 0 and 1.\")\n",
        "\n",
        "def complement_rule(pr_e):\n",
        "    \"\"\"Calculates the probability that event E doesn't occur.\"\"\"\n",
        "    validate_probabilities(pr_e)\n",
        "    complement = 1 - pr_e\n",
        "    return f\"P(¬E) = 1 - P(E) = 1 - {pr_e} = {complement}\"\n",
        "\n",
        "def conditional_probability(pr_a, pr_b, pr_a_and_b):\n",
        "    \"\"\"Calcutates the probability of A, given that B is true\"\"\"\n",
        "    validate_probabilities(pr_a, pr_b, pr_a_and_b)\n",
        "    if pr_b == 0:\n",
        "        raise ValueError(\"P(B) cannot be 0.\")\n",
        "    pr_a_given_b = pr_a_and_b / pr_b\n",
        "    return f\"P(A|B) = P(A ∩ B) / P(B) = {pr_a_and_b} / {pr_b} = {pr_a_given_b}\"\n",
        "\n",
        "def complete_addition(pr_e1, pr_e2, pr_e1_and_e2):\n",
        "    \"\"\"Calculates the probability either E1 or E2 occur.\"\"\"\n",
        "    validate_probabilities(pr_e1, pr_e2, pr_e1_and_e2)\n",
        "    result = pr_e1 + pr_e2 - pr_e1_and_e2\n",
        "    return f\"P(E1 ∪ E2) = P(E1) + P(E2) - P(E1 ∩ E2) = {pr_e1} + {pr_e2} - {pr_e1_and_e2} = {result}\"\n",
        "\n",
        "def simple_multiplication(pr_e1, pr_e2):\n",
        "    \"\"\"Calculates the probability both E1 and E2 occur (assumes independence).\"\"\"\n",
        "    validate_probabilities(pr_e1, pr_e2)\n",
        "    result = pr_e1 * pr_e2\n",
        "    return f\"P(E1 ∩ E2) = P(E1) * P(E2) = {pr_e1} * {pr_e2} = {result}\"\n",
        "\n",
        "def complete_multiplication(pr_e1, pr_e2, pr_e1_given_e2):\n",
        "    \"\"\"Calculates the probability bott E1 and E2 occur (may not be indpendent).\"\"\"\n",
        "    validate_probabilities(pr_e1, pr_e2, pr_e1_given_e2)\n",
        "    result = pr_e1_given_e2 * pr_e2\n",
        "    return f\"P(E1 ∩ E2) = P(E1|E2) * P(E2) = {pr_e1_given_e2} * {pr_e2} = {result}\"\n",
        "\n",
        "def total_probability(pr_e_given_h1, pr_h1, pr_e_given_h2, pr_h2):\n",
        "    \"\"\"\n",
        "    Calculates the total probability of an event E given two exclusive hypotheses H1 and H2.\n",
        "    \"\"\"\n",
        "    validate_probabilities(pr_e_given_h1, pr_h1, pr_e_given_h2, pr_h2)\n",
        "    pr_e = pr_e_given_h1 * pr_h1 + pr_e_given_h2 * pr_h2\n",
        "    return (f\"P(E) = P(E|H1) * P(H1) + P(E|H2) * P(H2)\\n\"\n",
        "            f\"     = {pr_e_given_h1} * {pr_h1} + {pr_e_given_h2} * {pr_h2}\\n\"\n",
        "            f\"     = {pr_e}\")\n",
        "def bayes_theorem(p_h, pr_e_given_h, pr_e_given_not_h):\n",
        "    \"\"\"Calculates probability of a hypotheses being true, given some evidence.\"\"\"\n",
        "    validate_probabilities(p_h, pr_e_given_h, pr_e_given_not_h)\n",
        "    p_not_h = 1 - p_h\n",
        "    pr_e = pr_e_given_h * p_h + pr_e_given_not_h * p_not_h\n",
        "    p_h_given_e = (pr_e_given_h * p_h) / pr_e\n",
        "    return (f\"P(H|E) = (P(E|H) * P(H)) / [P(E|H) * P(H) + P(E|not H) * P(not H)]\\n\"\n",
        "            f\"       = ({pr_e_given_h} * {p_h}) / ({pr_e_given_h} * {p_h} + {pr_e_given_not_h} * {p_not_h})\\n\"\n",
        "            f\"       = {round(p_h_given_e,2)}\")\n"
      ]
    },
    {
      "cell_type": "code",
      "source": [
        "print(bayes_theorem(0.5, .9, .2))"
      ],
      "metadata": {
        "colab": {
          "base_uri": "https://localhost:8080/"
        },
        "id": "YwXjKJIcljPH",
        "outputId": "f2692fa4-8968-4440-ecc9-95ab936d5270"
      },
      "execution_count": 11,
      "outputs": [
        {
          "output_type": "stream",
          "name": "stdout",
          "text": [
            "P(H|E) = (P(E|H) * P(H)) / [P(E|H) * P(H) + P(E|not H) * P(not H)]\n",
            "       = (0.9 * 0.5) / (0.9 * 0.5 + 0.2 * 0.5)\n",
            "       = 0.82\n"
          ]
        }
      ]
    }
  ]
}