{
  "nbformat": 4,
  "nbformat_minor": 0,
  "metadata": {
    "colab": {
      "provenance": [],
      "authorship_tag": "ABX9TyOl7vVvd0P7w3KG7tzwWBnj",
      "include_colab_link": true
    },
    "kernelspec": {
      "name": "python3",
      "display_name": "Python 3"
    },
    "language_info": {
      "name": "python"
    }
  },
  "cells": [
    {
      "cell_type": "markdown",
      "metadata": {
        "id": "view-in-github",
        "colab_type": "text"
      },
      "source": [
        "<a href=\"https://colab.research.google.com/github/brendanpshea/logic-prolog/blob/main/Logic_and_Computational_Thinking_With_Python.ipynb\" target=\"_parent\"><img src=\"https://colab.research.google.com/assets/colab-badge.svg\" alt=\"Open In Colab\"/></a>"
      ]
    },
    {
      "cell_type": "code",
      "execution_count": null,
      "metadata": {
        "id": "PPLKiPT-TiKi"
      },
      "outputs": [],
      "source": []
    },
    {
      "cell_type": "markdown",
      "source": [
        "## How Logic Gave Birth to Computers\n",
        "The story of how logic led to the development of computers and computer programming is a fascinating journey that spans over two millennia. It all began with the ancient Greek philosopher Aristotle, who lived from 384 to 322 BCE.\n",
        "\n",
        "Aristotle was a pioneering thinker who laid the foundations for the study of logic. He developed a system of reasoning called **categorical logic**, which focused on the logical relations between categories (using \"All\", \"No\" or \"Some\"). A famous example of a **categorical syllogism** is:\n",
        "1. All men are mortal.\n",
        "2. Socrates is a man.\n",
        "3. Therefore, Socrates is mortal.\"\n",
        "\n",
        "Aristotle's work on logic was the first written attempt to systematically analyze and codify the principles of valid reasoning.\n",
        "\n",
        "For centuries, Aristotle's ideas on logic remained influential, but it wasn't until the 19th century that the next major breakthrough occurred. In 1847, British mathematician George Boole published a book called \"The Mathematical Analysis of Logic,\" in which he introduced a new form of algebraic logic. Boole's system used mathematical symbols to represent logical operations, such as AND, OR, and NOT. This marked the beginning of what we now call **Boolean algebra**, a fundamental concept in computer science.\n",
        "\n",
        "In the early 20th century, philosophers and mathematicians like Bertrand Russell and Alfred North Whitehead further developed formal logic systems. Their work culminated in the \"Principia Mathematica,\" a three-volume treatise that attempted to derive all of mathematics from a set of logical axioms. Although the project was ultimately shown to have limitations by Kurt Gödel's incompleteness theorems, it demonstrated the power and potential of formal logic.\n",
        "\n",
        "The next key figure in this story is Alan Turing, a British mathematician and computer scientist (more on him in the \"Minds that Mattered\" section below. In the 1930s, Turing developed the concept of a universal computing machine, now known as the Turing machine. A Turing machine is a theoretical device that can perform any computation that can be done by an algorithm. Turing's work laid the theoretical foundation for modern computers and showed that machines could be programmed to carry out complex logical operations.\n",
        "\n",
        "During World War II, Turing and other mathematicians worked on breaking German military codes. This led to the development of the first electronic programmable computers, such as the Colossus machine used by the British to decrypt German messages. After the war, computer science began to develop rapidly, building on the ideas of logic and computation that had been developed over the previous decades.\n",
        "\n",
        "In the 1940s and 1950s, pioneers like John von Neumann and Claude Shannon helped establish the field of computer architecture and information theory. They showed how Boolean logic could be implemented using electronic circuits, paving the way for the development of the first general-purpose computers.\n",
        "\n",
        "The first high-level programming languages, such as FORTRAN and LISP, emerged in the 1950s. These languages used logical and mathematical concepts to express computations in a way that was closer to human reasoning than the low-level machine code used by early computers. The development of these languages marked the beginning of modern computer programming. In the 1970s, the first modern languages (such as C) emerged. Python, which we'll be learning about later, is a C-type language.\n",
        "\n",
        "Since then, the field of computer science has grown exponentially, but its foundations in logic remain crucial. From databases to artificial intelligence, many of the key concepts and techniques used in computer science today can be traced back to the ideas of Aristotle, Boole, Turing, and other pioneers who explored the power of logical reasoning."
      ],
      "metadata": {
        "id": "4tCnV_GETuz8"
      }
    },
    {
      "cell_type": "markdown",
      "source": [
        "## Key Concepts of Computations Thinking\n",
        "Later in this chapter, you'll be learning basic ideas of computer programming using Python. There are plenty of practical benefits to this (Python is used in many jobs, by people who aren't professional programmers), but it can also teach some valuable skills about logic/reasoning.\n",
        "\n",
        "At the heart of computer programming lies **computational thinking**. It's a problem-solving approach that involves breaking down complex problems into smaller, manageable parts, and then creating step-by-step solutions (algorithms) to solve them.  This process helps develop logical thinking skills that are valuable not only in programming but in everyday life as well.\n",
        "\n",
        "### Syntax and Semantics\n",
        "A key part of computational thinking (and of formal logic) involves the use **formal languages** with strict rules about what is, and what it is not allowed. This helps eliminate the ambiguities inherent in **nautural languages** like English, Spanish, or Chinese.\n",
        "\n",
        "So,f for example, Let's imagine you have a cute cartoon robot friend named Robo. Robo loves to help with tasks but needs clear, step-by-step instructions to perform them effectively.  This means that, when giving instructions to Robo, you need to use a language that Robo understands.\n",
        "\n",
        "In both computer programming and formal logic, this formal language is defined by its syntax and semantics. **Syntax** refers to the structure and rules of the language, while **semantics** refers to the meaning behind the instructions.\n",
        "\n",
        "For example, in Python, you can print a message to Robo like this:\n",
        "\n",
        "```python\n",
        "print(\"Hello, Robo!\")\n",
        "```\n",
        "\n",
        "The syntax here includes the use of the `print` function, parentheses `()`, and quotation marks `\"\"`. The semantics is that this line of code will display the message \"Hello, Robo!\" on the screen.\n",
        "\n",
        "When we make mistakes in programs (called **bugs**), these can either be **syntax errors** (where we didn't follow the \"rules of the language) or **semantic errors** (where we gave the computer a valid command, but it wasn't what we \"intedned\" to do). Syntax errors will generally cause the computer progam to crash or throw as \"exception.\" Semantic errors, by contrast, mean the computer program will \"run\" perfectly fine--it just will be makign mistakes.\n",
        "\n",
        "### Algorithms\n",
        "The ultimate goal of using languages with strick rules of syntax is to allow us to write algorithsms that will solve problems. Here, an **algorithm** is a set of step-by-step instructions to solve a problem or accomplish a task. Let's say you want Robo to count the number of red apples in a basket. The algorithm could be:\n",
        "\n",
        "1.  Set a variable `count` to 0\n",
        "2.  For each apple in the basket:\n",
        "    -   If the apple is red, increase `count` by 1\n",
        "3.  Print the final value of `count`\n",
        "\n",
        "In Python, this algorithm could be implemented as:\n",
        "\n",
        "```python\n",
        "count = 0\n",
        "for apple in basket:\n",
        "    if apple.color == \"red\":\n",
        "        count += 1\n",
        "print(\"Number of red apples:\", count)\n",
        "```\n",
        "\n",
        "In the rest of this chapter, we'll explore how we can use basic Python programming to implement some simple programs of our own."
      ],
      "metadata": {
        "id": "gwgA3Kl4WM2U"
      }
    },
    {
      "cell_type": "markdown",
      "source": [
        "## An Intro to Python and Colab\n",
        "This chapter is written using the programming language Python, and is delivered using Google Colab, which lets you write and run Python code for free (so long as you have a Google account).\n",
        "\n",
        "**Python** is a high-level, general-purpose programming language known for its simplicity and readability. It was created by Guido van Rossum and first released in 1991. Python emphasizes code readability and allows you to express concepts in fewer lines of code compared to other programming languages. Python is widely used in various domains, including web development, data analysis, artificial intelligence, scientific computing, and more.\n",
        "\n",
        "**Colab**, short for \"Colaboratory,\" is a free cloud-based Jupyter notebook environment provided by Google. It allows you to write, run, and share Python code directly in your web browser without the need for any local setup or installation.\n",
        "\n",
        "This chapter you are reading is Google Colab document you can access here [LINK]. (Note: If  prompted, agree to \"trust\" the notebook. I promise nothing bad will happen to your computer). To get started with Colab, follow these steps:\n",
        "\n",
        "1.  Go to the Colab website: <https://colab.research.google.com/>\n",
        "2.  Click on \"New Notebook\" to create a new notebook or \"Upload\" to upload an existing notebook from your computer.\n",
        "3.  Once your notebook is created, you'll see a cell where you can start writing Python code.\n",
        "4.  To execute a code cell, click on the cell and press Shift+Enter or click the play button on the left side of the cell.\n",
        "5.  The output of the code will be displayed below the cell.\n",
        "\n",
        "Here's a simple example to get you started (you can simply \"run\" this cell)."
      ],
      "metadata": {
        "id": "WqbMlzl4ZgXV"
      }
    },
    {
      "cell_type": "code",
      "source": [
        "print(\"Hello, Robo!\")\n",
        "print(\"Welcome to the world of Python programming!\")"
      ],
      "metadata": {
        "colab": {
          "base_uri": "https://localhost:8080/"
        },
        "id": "sJQfg7oKZljO",
        "outputId": "3ff33de3-d0e2-47fd-9c38-4a85f57ee4cb"
      },
      "execution_count": 1,
      "outputs": [
        {
          "output_type": "stream",
          "name": "stdout",
          "text": [
            "Hello, Robo!\n",
            "Welcome to the world of Python programming!\n"
          ]
        }
      ]
    },
    {
      "cell_type": "markdown",
      "source": [
        "Now, try edithing cell, so it says something besides \"Hello, Robo\" and try to run the cell again.\n",
        "\n",
        "Did you succeed? If so, congratulations! You've just written and executed your first Python code in Colab.\n",
        "\n",
        "Throughout this learning journey, we'll be using Colab to explore various Python concepts and build exciting projects together. So, fasten your seatbelts, and let's dive into the amazing world of Python programming!"
      ],
      "metadata": {
        "id": "kG1pDXkdZqPY"
      }
    },
    {
      "cell_type": "markdown",
      "source": [],
      "metadata": {
        "id": "_NrfW4imZqbs"
      }
    },
    {
      "cell_type": "code",
      "source": [],
      "metadata": {
        "id": "KCYeBlcDUqmQ"
      },
      "execution_count": null,
      "outputs": []
    }
  ]
}