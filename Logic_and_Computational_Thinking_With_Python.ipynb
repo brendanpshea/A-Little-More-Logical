{
  "nbformat": 4,
  "nbformat_minor": 0,
  "metadata": {
    "colab": {
      "provenance": [],
      "authorship_tag": "ABX9TyN1ca1PVfQ8+xPFUl9IdcV0",
      "include_colab_link": true
    },
    "kernelspec": {
      "name": "python3",
      "display_name": "Python 3"
    },
    "language_info": {
      "name": "python"
    }
  },
  "cells": [
    {
      "cell_type": "markdown",
      "metadata": {
        "id": "view-in-github",
        "colab_type": "text"
      },
      "source": [
        "<a href=\"https://colab.research.google.com/github/brendanpshea/logic-prolog/blob/main/Logic_and_Computational_Thinking_With_Python.ipynb\" target=\"_parent\"><img src=\"https://colab.research.google.com/assets/colab-badge.svg\" alt=\"Open In Colab\"/></a>"
      ]
    },
    {
      "cell_type": "code",
      "execution_count": null,
      "metadata": {
        "id": "PPLKiPT-TiKi"
      },
      "outputs": [],
      "source": []
    },
    {
      "cell_type": "markdown",
      "source": [
        "## How Logic Gave Birth to Computers\n",
        "The story of how logic led to the development of computers and computer programming is a fascinating journey that spans over two millennia. It all began with the ancient Greek philosopher Aristotle, who lived from 384 to 322 BCE.\n",
        "\n",
        "Aristotle was a pioneering thinker who laid the foundations for the study of logic. He developed a system of reasoning called **categorical logic**, which focused on the logical relations between categories (using \"All\", \"No\" or \"Some\"). A famous example of a **categorical syllogism** is:\n",
        "1. All men are mortal.\n",
        "2. Socrates is a man.\n",
        "3. Therefore, Socrates is mortal.\"\n",
        "\n",
        "Aristotle's work on logic was the first written attempt to systematically analyze and codify the principles of valid reasoning.\n",
        "\n",
        "For centuries, Aristotle's ideas on logic remained influential, but it wasn't until the 19th century that the next major breakthrough occurred. In 1847, British mathematician George Boole published a book called \"The Mathematical Analysis of Logic,\" in which he introduced a new form of algebraic logic. Boole's system used mathematical symbols to represent logical operations, such as AND, OR, and NOT. This marked the beginning of what we now call **Boolean algebra**, a fundamental concept in computer science.\n",
        "\n",
        "In the early 20th century, philosophers and mathematicians like Bertrand Russell and Alfred North Whitehead further developed formal logic systems. Their work culminated in the \"Principia Mathematica,\" a three-volume treatise that attempted to derive all of mathematics from a set of logical axioms. Although the project was ultimately shown to have limitations by Kurt Gödel's incompleteness theorems, it demonstrated the power and potential of formal logic.\n",
        "\n",
        "The next key figure in this story is Alan Turing, a British mathematician and computer scientist (more on him in the \"Minds that Mattered\" section below. In the 1930s, Turing developed the concept of a universal computing machine, now known as the Turing machine. A Turing machine is a theoretical device that can perform any computation that can be done by an algorithm. Turing's work laid the theoretical foundation for modern computers and showed that machines could be programmed to carry out complex logical operations.\n",
        "\n",
        "During World War II, Turing and other mathematicians worked on breaking German military codes. This led to the development of the first electronic programmable computers, such as the Colossus machine used by the British to decrypt German messages. After the war, computer science began to develop rapidly, building on the ideas of logic and computation that had been developed over the previous decades.\n",
        "\n",
        "In the 1940s and 1950s, pioneers like John von Neumann and Claude Shannon helped establish the field of computer architecture and information theory. They showed how Boolean logic could be implemented using electronic circuits, paving the way for the development of the first general-purpose computers.\n",
        "\n",
        "The first high-level programming languages, such as FORTRAN and LISP, emerged in the 1950s. These languages used logical and mathematical concepts to express computations in a way that was closer to human reasoning than the low-level machine code used by early computers. The development of these languages marked the beginning of modern computer programming. In the 1970s, the first modern languages (such as C) emerged. Python, which we'll be learning about later, is a C-type language.\n",
        "\n",
        "Since then, the field of computer science has grown exponentially, but its foundations in logic remain crucial. From databases to artificial intelligence, many of the key concepts and techniques used in computer science today can be traced back to the ideas of Aristotle, Boole, Turing, and other pioneers who explored the power of logical reasoning."
      ],
      "metadata": {
        "id": "4tCnV_GETuz8"
      }
    },
    {
      "cell_type": "code",
      "source": [],
      "metadata": {
        "id": "KCYeBlcDUqmQ"
      },
      "execution_count": null,
      "outputs": []
    }
  ]
}