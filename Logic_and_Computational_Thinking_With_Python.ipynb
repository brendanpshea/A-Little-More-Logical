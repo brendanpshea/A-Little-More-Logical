{
  "nbformat": 4,
  "nbformat_minor": 0,
  "metadata": {
    "colab": {
      "provenance": [],
      "authorship_tag": "ABX9TyNrD4Jh4WFMDGH1J6YCAXa2",
      "include_colab_link": true
    },
    "kernelspec": {
      "name": "python3",
      "display_name": "Python 3"
    },
    "language_info": {
      "name": "python"
    }
  },
  "cells": [
    {
      "cell_type": "markdown",
      "metadata": {
        "id": "view-in-github",
        "colab_type": "text"
      },
      "source": [
        "<a href=\"https://colab.research.google.com/github/brendanpshea/logic-prolog/blob/main/Logic_and_Computational_Thinking_With_Python.ipynb\" target=\"_parent\"><img src=\"https://colab.research.google.com/assets/colab-badge.svg\" alt=\"Open In Colab\"/></a>"
      ]
    },
    {
      "cell_type": "markdown",
      "source": [
        "## How Logic Gave Birth to Computers\n",
        "The story of how logic led to the development of computers and computer programming is a fascinating journey that spans over two millennia. It all began with the ancient Greek philosopher Aristotle, who lived from 384 to 322 BCE.\n",
        "\n",
        "Aristotle was a pioneering thinker who laid the foundations for the study of logic. He developed a system of reasoning called **categorical logic**, which focused on the logical relations between categories (using \"All\", \"No\" or \"Some\"). A famous example of a **categorical syllogism** is:\n",
        "1. All men are mortal.\n",
        "2. Socrates is a man.\n",
        "3. Therefore, Socrates is mortal.\"\n",
        "\n",
        "Aristotle's work on logic was the first written attempt to systematically analyze and codify the principles of valid reasoning.\n",
        "\n",
        "For centuries, Aristotle's ideas on logic remained influential, but it wasn't until the 19th century that the next major breakthrough occurred. In 1847, British mathematician George Boole published a book called \"The Mathematical Analysis of Logic,\" in which he introduced a new form of algebraic logic. Boole's system used mathematical symbols to represent logical operations, such as AND, OR, and NOT. This marked the beginning of what we now call **Boolean algebra**, a fundamental concept in computer science.\n",
        "\n",
        "In the early 20th century, philosophers and mathematicians like Bertrand Russell and Alfred North Whitehead further developed formal logic systems. Their work culminated in the \"Principia Mathematica,\" a three-volume treatise that attempted to derive all of mathematics from a set of logical axioms. Although the project was ultimately shown to have limitations by Kurt Gödel's incompleteness theorems, it demonstrated the power and potential of formal logic.\n",
        "\n",
        "The next key figure in this story is Alan Turing, a British mathematician and computer scientist (more on him in the \"Minds that Mattered\" section below. In the 1930s, Turing developed the concept of a universal computing machine, now known as the Turing machine. A Turing machine is a theoretical device that can perform any computation that can be done by an algorithm. Turing's work laid the theoretical foundation for modern computers and showed that machines could be programmed to carry out complex logical operations.\n",
        "\n",
        "During World War II, Turing and other mathematicians worked on breaking German military codes. This led to the development of the first electronic programmable computers, such as the Colossus machine used by the British to decrypt German messages. After the war, computer science began to develop rapidly, building on the ideas of logic and computation that had been developed over the previous decades.\n",
        "\n",
        "In the 1940s and 1950s, pioneers like John von Neumann and Claude Shannon helped establish the field of computer architecture and information theory. They showed how Boolean logic could be implemented using electronic circuits, paving the way for the development of the first general-purpose computers.\n",
        "\n",
        "The first high-level programming languages, such as FORTRAN and LISP, emerged in the 1950s. These languages used logical and mathematical concepts to express computations in a way that was closer to human reasoning than the low-level machine code used by early computers. The development of these languages marked the beginning of modern computer programming. In the 1970s, the first modern languages (such as C) emerged. Python, which we'll be learning about later, is a C-type language.\n",
        "\n",
        "Since then, the field of computer science has grown exponentially, but its foundations in logic remain crucial. From databases to artificial intelligence, many of the key concepts and techniques used in computer science today can be traced back to the ideas of Aristotle, Boole, Turing, and other pioneers who explored the power of logical reasoning."
      ],
      "metadata": {
        "id": "4tCnV_GETuz8"
      }
    },
    {
      "cell_type": "markdown",
      "source": [
        "## Key Concepts of Computations Thinking\n",
        "Later in this chapter, you'll be learning basic ideas of computer programming using Python. There are plenty of practical benefits to this (Python is used in many jobs, by people who aren't professional programmers), but it can also teach some valuable skills about logic/reasoning.\n",
        "\n",
        "At the heart of computer programming lies **computational thinking**. It's a problem-solving approach that involves breaking down complex problems into smaller, manageable parts, and then creating step-by-step solutions (algorithms) to solve them.  This process helps develop logical thinking skills that are valuable not only in programming but in everyday life as well.\n",
        "\n",
        "### Syntax and Semantics\n",
        "A key part of computational thinking (and of formal logic) involves the use **formal languages** with strict rules about what is, and what it is not allowed. This helps eliminate the ambiguities inherent in **nautural languages** like English, Spanish, or Chinese.\n",
        "\n",
        "So,f for example, Let's imagine you have a cute cartoon robot friend named Robo. Robo loves to help with tasks but needs clear, step-by-step instructions to perform them effectively.  This means that, when giving instructions to Robo, you need to use a language that Robo understands.\n",
        "\n",
        "In both computer programming and formal logic, this formal language is defined by its syntax and semantics. **Syntax** refers to the structure and rules of the language, while **semantics** refers to the meaning behind the instructions.\n",
        "\n",
        "For example, in Python, you can print a message to Robo like this:\n",
        "\n",
        "```python\n",
        "print(\"Hello, Robo!\")\n",
        "```\n",
        "\n",
        "The syntax here includes the use of the `print` function, parentheses `()`, and quotation marks `\"\"`. The semantics is that this line of code will display the message \"Hello, Robo!\" on the screen.\n",
        "\n",
        "When we make mistakes in programs (called **bugs**), these can either be **syntax errors** (where we didn't follow the \"rules of the language) or **semantic errors** (where we gave the computer a valid command, but it wasn't what we \"intedned\" to do). Syntax errors will generally cause the computer progam to crash or throw as \"exception.\" Semantic errors, by contrast, mean the computer program will \"run\" perfectly fine--it just will be makign mistakes.\n",
        "\n",
        "### Algorithms\n",
        "The ultimate goal of using languages with strick rules of syntax is to allow us to write algorithsms that will solve problems. Here, an **algorithm** is a set of step-by-step instructions to solve a problem or accomplish a task. Let's say you want Robo to count the number of red apples in a basket. The algorithm could be:\n",
        "\n",
        "1.  Set a variable `count` to 0\n",
        "2.  For each apple in the basket:\n",
        "    -   If the apple is red, increase `count` by 1\n",
        "3.  Print the final value of `count`\n",
        "\n",
        "In Python, this algorithm could be implemented as:\n",
        "\n",
        "```python\n",
        "count = 0\n",
        "for apple in basket:\n",
        "    if apple.color == \"red\":\n",
        "        count += 1\n",
        "print(\"Number of red apples:\", count)\n",
        "```\n",
        "\n",
        "In the rest of this chapter, we'll explore how we can use basic Python programming to implement some simple programs of our own."
      ],
      "metadata": {
        "id": "gwgA3Kl4WM2U"
      }
    },
    {
      "cell_type": "markdown",
      "source": [
        "## An Intro to Python and Colab\n",
        "This chapter is written using the programming language Python, and is delivered using Google Colab, which lets you write and run Python code for free (so long as you have a Google account).\n",
        "\n",
        "**Python** is a high-level, general-purpose programming language known for its simplicity and readability. It was created by Guido van Rossum and first released in 1991. Python emphasizes code readability and allows you to express concepts in fewer lines of code compared to other programming languages. Python is widely used in various domains, including web development, data analysis, artificial intelligence, scientific computing, and more.\n",
        "\n",
        "**Colab**, short for \"Colaboratory,\" is a free cloud-based Jupyter notebook environment provided by Google. It allows you to write, run, and share Python code directly in your web browser without the need for any local setup or installation.\n",
        "\n",
        "**This chapter you are reading is a Google Colab document you can access here [LINK]. (Note: If  prompted, agree to \"trust\" the notebook. I promise nothing bad will happen to your computer).**\n",
        "\n",
        "\n",
        "If you want to create your own Colab notebook, follow these steps:\n",
        "\n",
        "1.  Go to the Colab website: <https://colab.research.google.com/>\n",
        "2.  Click on \"New Notebook\" to create a new notebook or \"Upload\" to upload an existing notebook from your computer.\n",
        "3.  Once your notebook is created, you'll see a cell where you can start writing Python code.\n",
        "4.  To execute a code cell, click on the cell and press Shift+Enter or click the play button on the left side of the cell.\n",
        "5.  The output of the code will be displayed below the cell.\n",
        "\n",
        "Here's a simple example to get you started (you can simply \"run\" this cell)."
      ],
      "metadata": {
        "id": "WqbMlzl4ZgXV"
      }
    },
    {
      "cell_type": "code",
      "source": [
        "print(\"Hello, Robo!\")\n",
        "print(\"Welcome to the world of Python programming!\")"
      ],
      "metadata": {
        "colab": {
          "base_uri": "https://localhost:8080/"
        },
        "id": "sJQfg7oKZljO",
        "outputId": "3ff33de3-d0e2-47fd-9c38-4a85f57ee4cb"
      },
      "execution_count": null,
      "outputs": [
        {
          "output_type": "stream",
          "name": "stdout",
          "text": [
            "Hello, Robo!\n",
            "Welcome to the world of Python programming!\n"
          ]
        }
      ]
    },
    {
      "cell_type": "markdown",
      "source": [
        "Now, try edithing cell, so it says something besides \"Hello, Robo\" and try to run the cell again.\n",
        "\n",
        "Did you succeed? If so, congratulations! You've just written and executed your first Python code in Colab.\n",
        "\n",
        "Throughout this learning journey, we'll be using Colab to explore various Python concepts and build exciting projects together. So, fasten your seatbelts, and let's dive into the amazing world of Python programming!"
      ],
      "metadata": {
        "id": "kG1pDXkdZqPY"
      }
    },
    {
      "cell_type": "markdown",
      "source": [
        "## Introduction to Python Variables and Data Types\n",
        "\n",
        "Welcome, aspiring programmers! In this guide, we'll explore the fundamental concepts of variables, data types, and assignment statements in Python. These concepts are essential building blocks for creating programs that can store, manipulate, and process data. Let's dive in and see how the robots from Wall-E can help us understand these concepts!\n",
        "\n",
        "### Variables\n",
        "\n",
        "In programming, a variable is like a container that holds a value. Just like how Wall-E stores important items he finds during his cleanup tasks, variables in Python allow us to store different types of data, such as numbers, text, or Boolean values (true or false).\n",
        "\n",
        "Think of a variable as a labeled box. You can put something inside the box (a value) and give the box a name (the variable name). Whenever you want to use the value inside the box, you simply refer to it by its name.\n",
        "\n",
        "For example, let's say we want to store Wall-E's favorite plant:"
      ],
      "metadata": {
        "id": "_NrfW4imZqbs"
      }
    },
    {
      "cell_type": "code",
      "source": [
        "# Example of variable assignment\n",
        "favorite_plant = \"Green Leaf\""
      ],
      "metadata": {
        "id": "fW1Blu5M08NB"
      },
      "execution_count": null,
      "outputs": []
    },
    {
      "cell_type": "markdown",
      "source": [
        "In this case, `favorite_plant` is the variable name, and \"Green Leaf\" is the value stored inside the variable. The `#` at the top represents a **comment** that is ignored by computer.\n",
        "\n",
        "Now, we can print this variable to the screen as follows:"
      ],
      "metadata": {
        "id": "dd44ovDT0_Lj"
      }
    },
    {
      "cell_type": "code",
      "source": [
        "# pringint a variable\n",
        "print(\"Wall-E's favorite plant is: \", favorite_plant)"
      ],
      "metadata": {
        "colab": {
          "base_uri": "https://localhost:8080/"
        },
        "id": "AdMLOkkh1KCW",
        "outputId": "7144813f-2dd3-4ed5-bfa9-9b36668591c5"
      },
      "execution_count": null,
      "outputs": [
        {
          "output_type": "stream",
          "name": "stdout",
          "text": [
            "Wall-E's favorite plant is:  Green Leaf\n"
          ]
        }
      ]
    },
    {
      "cell_type": "markdown",
      "source": [
        "\n",
        "## Data Types\n",
        "Data types define the kind of data that a variable can hold. Python has several built-in data types, but let's focus on four commonly used ones: integers (`int`), floating-point numbers (`float`), Boolean values (`bool`), and strings (`str`).\n",
        "\n",
        "### Integers (int)\n",
        "\n",
        "Integers are whole numbers, positive or negative, without any decimal points. They are used to represent quantities, counts, or discrete values.\n",
        "\n",
        "Example:"
      ],
      "metadata": {
        "id": "RF2QGMX41len"
      }
    },
    {
      "cell_type": "code",
      "source": [
        "# Integer variables\n",
        "cube_length = 10\n",
        "cube_height = 5\n",
        "cube_depth = 3\n",
        "cube_volume = cube_length * cube_height * cube_depth\n",
        "print(\"The volume of the cube is:\", cube_volume)"
      ],
      "metadata": {
        "colab": {
          "base_uri": "https://localhost:8080/"
        },
        "id": "ZvuzcocQ2FVY",
        "outputId": "67be8c14-6b61-4703-9c29-11be360a6798"
      },
      "execution_count": null,
      "outputs": [
        {
          "output_type": "stream",
          "name": "stdout",
          "text": [
            "The volume of the cube is: 150\n"
          ]
        }
      ]
    },
    {
      "cell_type": "markdown",
      "source": [
        "Here we declare 3 integer variables, and then use these to calculate the value of a new integer variable."
      ],
      "metadata": {
        "id": "37A8wOvK3VEG"
      }
    },
    {
      "cell_type": "markdown",
      "source": [
        "### Floats (float)\n",
        "\n",
        "Floats are decimal numbers used to represent continuous values or measurements. They are essential for calculations that require precision.\n",
        "\n",
        "Example:"
      ],
      "metadata": {
        "id": "cLPVHnUF4E-w"
      }
    },
    {
      "cell_type": "code",
      "source": [
        "# Float variables\n",
        "wall_e_weight = 135.5\n",
        "eve_weight = 72.3\n",
        "total_weight = wall_e_weight + eve_weight\n",
        "\n",
        "print(\"The total weight of Wall-E and Eve is:\", total_weight)"
      ],
      "metadata": {
        "colab": {
          "base_uri": "https://localhost:8080/"
        },
        "id": "PwjqjHrd4Gs2",
        "outputId": "35a237c5-97e0-42d5-d9ed-4ceb5f36564b"
      },
      "execution_count": null,
      "outputs": [
        {
          "output_type": "stream",
          "name": "stdout",
          "text": [
            "The total weight of Wall-E and Eve is: 207.8\n"
          ]
        }
      ]
    },
    {
      "cell_type": "markdown",
      "source": [
        "In this example, we declare two float variables representing the weights of Wall-E and Eve. We then calculate the total weight by adding these variables together."
      ],
      "metadata": {
        "id": "VNBmkQWP20Xd"
      }
    },
    {
      "cell_type": "markdown",
      "source": [
        "### Booleans (bool)\n",
        "Booleans represent truth values, either True or False. They are often used in conditional statements and logical operations.\n",
        "\n",
        "Example:"
      ],
      "metadata": {
        "id": "ulbb0FnB4TPO"
      }
    },
    {
      "cell_type": "code",
      "source": [
        "# Boolean variables\n",
        "wall_e_operational = True\n",
        "eve_operational = False\n",
        "is_both_operational = wall_e_operational and eve_operational\n",
        "\n",
        "print(\"Is Wall-E operational?\", wall_e_operational)\n",
        "print(\"Is Eve operational?\", eve_operational)\n",
        "print(\"Are both robots operational?\", is_both_operational)"
      ],
      "metadata": {
        "id": "KCYeBlcDUqmQ",
        "colab": {
          "base_uri": "https://localhost:8080/"
        },
        "outputId": "14b924bb-3bbf-48ef-bd0e-2d6475b9a524"
      },
      "execution_count": null,
      "outputs": [
        {
          "output_type": "stream",
          "name": "stdout",
          "text": [
            "Is Wall-E operational? True\n",
            "Is Eve operational? False\n",
            "Are both robots operational? False\n"
          ]
        }
      ]
    },
    {
      "cell_type": "markdown",
      "source": [
        "Here, we define two boolean variables indicating the operational status of Wall-E and Eve. We then print the individual statuses and use the and operator to check if both robots are operational."
      ],
      "metadata": {
        "id": "FSG0jZOa5brp"
      }
    },
    {
      "cell_type": "markdown",
      "source": [
        "### Strings (str)\n",
        "Strings are sequences of characters used to represent text. They are enclosed in either single quotes ('') or double quotes (\"\").\n",
        "\n",
        "Example:"
      ],
      "metadata": {
        "id": "UwICVeg35caD"
      }
    },
    {
      "cell_type": "code",
      "source": [
        "# String variables\n",
        "wall_e_greeting = \"Wall-E says: 'Eeeee-va!'\"\n",
        "eve_response = 'Eve replies: \"Directive?\"'\n",
        "dialogue = wall_e_greeting + \"\\n\" + eve_response\n",
        "\n",
        "print(dialogue)"
      ],
      "metadata": {
        "colab": {
          "base_uri": "https://localhost:8080/"
        },
        "id": "gp5sGUeI5gc-",
        "outputId": "6a062daf-a173-4036-d045-77ad0b2fa252"
      },
      "execution_count": 1,
      "outputs": [
        {
          "output_type": "stream",
          "name": "stdout",
          "text": [
            "Wall-E says: 'Eeeee-va!'\n",
            "Eve replies: \"Directive?\"\n"
          ]
        }
      ]
    },
    {
      "cell_type": "markdown",
      "source": [
        "In this example, we create two string variables representing a dialogue between Wall-E and Eve. We concatenate the strings using the + operator and print the resulting dialogue.\n",
        "\n",
        "Here, the \"\\n\" character prints a newline (basically, it hints \"enter.\").  "
      ],
      "metadata": {
        "id": "XboDINJA5p6b"
      }
    },
    {
      "cell_type": "markdown",
      "source": [
        "## Getting to Know the Print Function\n",
        "\n",
        "We've already see the `print()` function a few times. This is a fundamental tool in Python used to display output on the console. It allows you to communicate information to the user or debug your code. Let's explore the `print()` function using examples featuring Bender from Futurama.\n",
        "\n",
        "The basic syntax of the `print()` function is as follows:\n",
        "\n"
      ],
      "metadata": {
        "id": "8CYVYWwT6kdX"
      }
    },
    {
      "cell_type": "code",
      "source": [
        "# Basic printing\n",
        "print(\"Hello, meatbags!\")"
      ],
      "metadata": {
        "colab": {
          "base_uri": "https://localhost:8080/"
        },
        "id": "3hWz_2BT6pr-",
        "outputId": "14b39d52-054a-49a9-c541-eca01598acdd"
      },
      "execution_count": null,
      "outputs": [
        {
          "output_type": "stream",
          "name": "stdout",
          "text": [
            "Hello, meatbags!\n"
          ]
        }
      ]
    },
    {
      "cell_type": "markdown",
      "source": [
        "In this example, the text \"Hello, meatbags!\" is passed as an argument to the print() function. The function then displays the text on the"
      ],
      "metadata": {
        "id": "C25FQlB_6uet"
      }
    },
    {
      "cell_type": "markdown",
      "source": [
        "### Concetenating Strings\n",
        "You can **concatenate** (join) multiple strings together using the + operator within the print() function."
      ],
      "metadata": {
        "id": "lhygjfqZgfop"
      }
    },
    {
      "cell_type": "code",
      "source": [
        "name = \"Bender\"\n",
        "print(\"Bite my shiny metal \" + name + \"!\")"
      ],
      "metadata": {
        "colab": {
          "base_uri": "https://localhost:8080/"
        },
        "id": "jk_gAm3IggNN",
        "outputId": "8ca8a00e-a092-48da-a186-b4b22a8f848e"
      },
      "execution_count": 2,
      "outputs": [
        {
          "output_type": "stream",
          "name": "stdout",
          "text": [
            "Bite my shiny metal Bender!\n"
          ]
        }
      ]
    },
    {
      "cell_type": "markdown",
      "source": [
        "Here, we define a variable `name` with the value \"Bender\". Inside the `print()` function, we concatenate three strings: \"Bite my shiny metal \", the value of the `name` variable, and \"!\". The resulting string is then displayed on the console."
      ],
      "metadata": {
        "id": "xIXvhTdqgnwK"
      }
    },
    {
      "cell_type": "markdown",
      "source": [
        "### Printing with f-strings (Formatted String Literals)\n",
        "Python 3.6 introduced f-strings, which provide a more concise and readable way to include variables within strings."
      ],
      "metadata": {
        "id": "rDH-kqAOgoXA"
      }
    },
    {
      "cell_type": "code",
      "source": [
        "# Example: f-strings\n",
        "beer_count = 99\n",
        "print(f\"I'm {name}, baby! I can drink {beer_count} beers without shutting down.\")"
      ],
      "metadata": {
        "colab": {
          "base_uri": "https://localhost:8080/"
        },
        "id": "AVUIm_XfgsTm",
        "outputId": "03640a3b-d90a-41c0-a1b2-d432839eb217"
      },
      "execution_count": 4,
      "outputs": [
        {
          "output_type": "stream",
          "name": "stdout",
          "text": [
            "I'm Bender, baby! I can drink 99 beers without shutting down.\n"
          ]
        }
      ]
    },
    {
      "cell_type": "markdown",
      "source": [
        "In this example, we use an f-string by prefixing the string with the letter `f`. Inside the string, we place the variables `name` and `beer_count` within curly braces `{}`. Python automatically replaces the variables with their corresponding values when the `print()` function is called."
      ],
      "metadata": {
        "id": "ZyjheuuIgvhx"
      }
    },
    {
      "cell_type": "markdown",
      "source": [
        "### Printing Multiple Items with Commas\n",
        "You can print multiple items by separating them with commas within the `print()` function."
      ],
      "metadata": {
        "id": "4QIVF9obhOd6"
      }
    },
    {
      "cell_type": "code",
      "source": [
        "# Example: Printing multiple items with commas\n",
        "print(\"I'm\", name, \", baby!\")\n",
        "print(\"I can drink\", beer_count, \"beers without shutting down.\")"
      ],
      "metadata": {
        "colab": {
          "base_uri": "https://localhost:8080/"
        },
        "id": "7OVLFgtEhPAT",
        "outputId": "9dd29fe4-aa83-4125-a205-aab61de116f4"
      },
      "execution_count": 5,
      "outputs": [
        {
          "output_type": "stream",
          "name": "stdout",
          "text": [
            "I'm Bender , baby!\n",
            "I can drink 99 beers without shutting down.\n"
          ]
        }
      ]
    },
    {
      "cell_type": "markdown",
      "source": [
        "Here, we pass multiple items to the `print()` function: strings and variables. By default, the `print()` function separates these items with spaces when displaying them on the console."
      ],
      "metadata": {
        "id": "KuVB3MfehhKJ"
      }
    },
    {
      "cell_type": "markdown",
      "source": [
        "## Getting Input from the User\n",
        "\n",
        "In Python, you can get input from the user using the `input()` function. This function allows you to prompt the user to enter data from the console and retrieve that data in your program.\n",
        "\n",
        "The basic syntax of the `input()` function is as follows:\n",
        "\n",
        "```python\n",
        "user_input = input(\"Enter something: \")\n",
        "```\n",
        "\n",
        "In this example, the `input()` function displays the prompt \"Enter something: \" on the console and waits for the user to enter data. Once the user presses the Enter key, the entered data is stored in the `user_input` variable as a string.\n",
        "\n",
        "For example, let's say we would like to give Bender some input:"
      ],
      "metadata": {
        "id": "fKBdji1OhmlV"
      }
    },
    {
      "cell_type": "code",
      "source": [
        "# Example: Getting input\n",
        "name = input(\"Bender: Hey, meatbag! What's your name?\")\n",
        "print(f\"Bender: Nice to meet you, {name}. Wanna grab a beer?\")"
      ],
      "metadata": {
        "colab": {
          "base_uri": "https://localhost:8080/"
        },
        "id": "xobmfheCh4aj",
        "outputId": "1d2f41d3-2c61-4760-8a7d-25c638168fa5"
      },
      "execution_count": 11,
      "outputs": [
        {
          "output_type": "stream",
          "name": "stdout",
          "text": [
            "Bender: Hey, meatbag! What's your name?Brendan\n",
            "Bender: Nice to meet you, Brendan. Wanna grab a beer?\n"
          ]
        }
      ]
    },
    {
      "cell_type": "markdown",
      "source": [
        "In this example, Bender prompts the user to enter their name using the `input()` function. The entered name is stored in the `name` variable. Bender then uses an f-string to greet the user by their name and asks if they want to grab a beer.\n",
        "\n",
        "### Casting Input\n",
        "By default, the `input()` function returns the user's input as a string. However, you can cast (convert) the input to a different data type using type casting functions like `int()`, `float()`, or `bool()`.\n",
        "\n",
        "For example:"
      ],
      "metadata": {
        "id": "XFMkFUeNiALm"
      }
    },
    {
      "cell_type": "code",
      "source": [
        "number = 7\n",
        "print(\"Bender: I'm thinking of a number between 1 and 10.\")\n",
        "\n",
        "# Example: Casting input to an integer\n",
        "guess = int(input(\"Enter your guess: \"))\n",
        "print(f\"Bender: Your guess is {guess}. I was thinking of {number}.\")"
      ],
      "metadata": {
        "colab": {
          "base_uri": "https://localhost:8080/"
        },
        "id": "atkcKnyOiID0",
        "outputId": "4921cb8d-2145-4456-fe8b-0ac11c742ec1"
      },
      "execution_count": 8,
      "outputs": [
        {
          "output_type": "stream",
          "name": "stdout",
          "text": [
            "Bender: I'm thinking of a number between 1 and 10.\n",
            "Enter your guess: 4\n",
            "Bender: Your guess is 4. I was thinking of 7.\n"
          ]
        }
      ]
    },
    {
      "cell_type": "markdown",
      "source": [
        "In this example, Bender asks the user to guess a number. The `input()` function is used to get the user's guess, and the `int()` function is used to cast the input to an integer. The guess is then stored in the `guess` variable, and Bender responds with the user's guess.\n",
        "\n",
        "You can also cast input to other data types, such as `float()` for decimal numbers or `bool()` for boolean values."
      ],
      "metadata": {
        "id": "8ExyU4uriUqP"
      }
    },
    {
      "cell_type": "code",
      "source": [
        "# Example: Casting input to a float or bool\n",
        "height = float(input(\"Enter your height in meters: \"))\n",
        "is_robot = bool(input(\"Are you a robot? (True/False): \"))\n",
        "\n",
        "# Print results\n",
        "print(f\"Your height is {height} meters.\")\n",
        "print(f\"Are you a robot? {is_robot}\")"
      ],
      "metadata": {
        "colab": {
          "base_uri": "https://localhost:8080/"
        },
        "id": "wIou1_F3ikzj",
        "outputId": "20bea861-8be5-4ff8-dea9-9355d1356652"
      },
      "execution_count": 10,
      "outputs": [
        {
          "output_type": "stream",
          "name": "stdout",
          "text": [
            "Enter your height in meters: 2.3\n",
            "Are you a robot? (True/False): False\n",
            "Your height is 2.3 meters.\n",
            "Are you a robot? True\n"
          ]
        }
      ]
    },
    {
      "cell_type": "markdown",
      "source": [
        "## Conditional Statements\n",
        "\n",
        "Conditional statements in Python allow you to execute different blocks of code based on certain conditions. They help you control the flow of your program and make decisions based on specific criteria.\n",
        "\n",
        "### If Statement\n",
        "The `if` statement is used to execute a block of code if a specified condition is true. The general format is:\n",
        "\n",
        "```python\n",
        "if condition:\n",
        "  # do something\n",
        "```\n",
        "Note that you must have a `:` after the if, and that you must indent the \"body\" of the conditional. For example:"
      ],
      "metadata": {
        "id": "E8kwgKcSkeFJ"
      }
    },
    {
      "cell_type": "code",
      "source": [
        "# Example Conditionals\n",
        "battery_level = 75\n",
        "if battery_level > 50:\n",
        "    print(\"R2-D2: Beep beep! Battery level is sufficient.\")"
      ],
      "metadata": {
        "colab": {
          "base_uri": "https://localhost:8080/"
        },
        "id": "8AcsDmZqk1Qx",
        "outputId": "d432876a-dd9a-4011-d51b-2ad79cc95f97"
      },
      "execution_count": 12,
      "outputs": [
        {
          "output_type": "stream",
          "name": "stdout",
          "text": [
            "R2-D2: Beep beep! Battery level is sufficient.\n"
          ]
        }
      ]
    },
    {
      "cell_type": "markdown",
      "source": [
        "In this example, if the battery_level is greater than 50, R2-D2 will print a message indicating that the battery level is sufficient."
      ],
      "metadata": {
        "id": "8-PNuhtKlH1v"
      }
    },
    {
      "cell_type": "markdown",
      "source": [
        "### If-Else Statement\n",
        "The `if-else` statement allows you to specify an alternative block of code to execute if the condition in the `if` statement is false."
      ],
      "metadata": {
        "id": "FempaiQglC36"
      }
    },
    {
      "cell_type": "code",
      "source": [
        "# Example: if and else\n",
        "battery_level = 30\n",
        "if battery_level > 50:\n",
        "    print(\"R2-D2: Beep beep! Battery level is sufficient.\")\n",
        "else:\n",
        "    print(\"R2-D2: Beep beep! Battery level is low.\")"
      ],
      "metadata": {
        "colab": {
          "base_uri": "https://localhost:8080/"
        },
        "id": "UlYiv6wNlDpP",
        "outputId": "7371ffde-306d-4b9d-9684-b100a73d1c70"
      },
      "execution_count": 13,
      "outputs": [
        {
          "output_type": "stream",
          "name": "stdout",
          "text": [
            "R2-D2: Beep beep! Battery level is low.\n"
          ]
        }
      ]
    },
    {
      "cell_type": "markdown",
      "source": [
        "### If-Elif-Else Statement\n",
        "Finally, we can use `if` with `elif` (\"else if\") to check for multiple possible conditions."
      ],
      "metadata": {
        "id": "d_Y-NfW2lS0u"
      }
    },
    {
      "cell_type": "code",
      "source": [
        "# Example: if with multiple elifs\n",
        "battery_level = 30\n",
        "if battery_level > 50:\n",
        "    print(\"R2-D2: Beep beep! Battery level is sufficient.\")\n",
        "elif battery_level > 20:\n",
        "    print(\"R2-D2: Beep beep! Battery level is low.\")\n",
        "else:\n",
        "    print(\"R2-D2: Beep beep! Battery level is critically low.\")"
      ],
      "metadata": {
        "colab": {
          "base_uri": "https://localhost:8080/"
        },
        "id": "Yp50FL3tleXm",
        "outputId": "30305d3e-9be6-4bd7-a830-14ee7678d8fb"
      },
      "execution_count": 14,
      "outputs": [
        {
          "output_type": "stream",
          "name": "stdout",
          "text": [
            "R2-D2: Beep beep! Battery level is low.\n"
          ]
        }
      ]
    },
    {
      "cell_type": "markdown",
      "source": [
        "## Operators and Expressions\n",
        "\n",
        "In this section, we'll explore the various operators and expressions in Python that allow you to perform calculations, make comparisons, and combine logical conditions. Understanding these operators and expressions is essential for manipulating data and making decisions in your programs.\n",
        "\n",
        "### Arithmetic Operators\n",
        "\n",
        "Arithmetic operators are used to perform mathematical calculations on numeric values. Python provides the following arithmetic operators:\n",
        "\n",
        "-   Addition (`+`): Adds two values together.\n",
        "-   Subtraction (`-`): Subtracts one value from another.\n",
        "-   Multiplication (`*`): Multiplies two values.\n",
        "-   Division (`/`): Divides one value by another and returns the quotient as a floating-point number.\n",
        "-   Floor Division (`//`): Divides one value by another and returns the quotient as an integer, discarding the decimal part.\n",
        "-   Modulo (`%`): Returns the remainder of a division operation.\n",
        "-   Exponentiation (`**`): Raises a value to the power of another.\n",
        "\n",
        "Let's consider an example where WALL-E performs some arithmetic calculations:"
      ],
      "metadata": {
        "id": "A9UnJdisiAWB"
      }
    },
    {
      "cell_type": "code",
      "source": [
        "battery_level = 80\n",
        "charging_time = 30\n",
        "total_battery = battery_level + charging_time\n",
        "print(f\"WALL-E's total battery level is {total_battery}%\")\n",
        "\n",
        "distance_traveled = 100\n",
        "time_taken = 5\n",
        "speed = distance_traveled / time_taken\n",
        "print(f\"WALL-E's speed is {speed} units per second\")"
      ],
      "metadata": {
        "id": "ZZgYnEBhjnoy"
      },
      "execution_count": null,
      "outputs": []
    },
    {
      "cell_type": "markdown",
      "source": [
        "In this example, we use the addition operator (`+`) to calculate WALL-E's total battery level by adding the current battery level and the charging time. We also use the division operator (`/`) to calculate WALL-E's speed by dividing the distance traveled by the time taken."
      ],
      "metadata": {
        "id": "fEIAdNI2jrFT"
      }
    },
    {
      "cell_type": "markdown",
      "source": [
        "### Comparison Operators\n",
        "\n",
        "Comparison operators are used to compare two values and return a Boolean result (`True` or `False`). Python provides the following comparison operators:\n",
        "\n",
        "-   Equal to (`==`): Returns `True` if two values are equal.\n",
        "-   Not equal to (`!=`): Returns `True` if two values are not equal.\n",
        "-   Greater than (`>`): Returns `True` if the left value is greater than the right value.\n",
        "-   Less than (`<`): Returns `True` if the left value is less than the right value.\n",
        "-   Greater than or equal to (`>=`): Returns `True` if the left value is greater than or equal to the right value.\n",
        "-   Less than or equal to (`<=`): Returns `True` if the left value is less than or equal to the right value.\n",
        "\n",
        "Let's consider an example where HAL compares some values:"
      ],
      "metadata": {
        "id": "3cfxBUZIjuw5"
      }
    },
    {
      "cell_type": "code",
      "source": [
        "temperature = 25\n",
        "threshold = 30\n",
        "\n",
        "if temperature > threshold:\n",
        "    print(\"Warning! Temperature exceeds the threshold.\")\n",
        "else:\n",
        "    print(\"Temperature is within the normal range.\")"
      ],
      "metadata": {
        "id": "LMfVJfrvj20d"
      },
      "execution_count": null,
      "outputs": []
    },
    {
      "cell_type": "markdown",
      "source": [
        "In this example, we use the greater than operator (`>`) to compare the `temperature` value with the `threshold` value. If the temperature is greater than the threshold, HAL prints a warning message; otherwise, it prints a message indicating that the temperature is within the normal range."
      ],
      "metadata": {
        "id": "8JdFFz9jj2Np"
      }
    },
    {
      "cell_type": "markdown",
      "source": [
        "### Logical Operators\n",
        "\n",
        "Logical operators are used to combine multiple conditions and return a Boolean result based on the logical evaluation. Python provides the following logical operators:\n",
        "\n",
        "-   Logical AND (`and`): Returns `True` if both conditions are true.\n",
        "-   Logical OR (`or`): Returns `True` if at least one of the conditions is true.\n",
        "-   Logical NOT (`not`): Returns the opposite Boolean value of a condition.\n",
        "\n",
        "Let's consider an example where Bender makes a decision based on logical conditions:"
      ],
      "metadata": {
        "id": "Dhy_XLLVkGrG"
      }
    },
    {
      "cell_type": "code",
      "source": [
        "battery_level = 50\n",
        "has_internet_connection = True\n",
        "\n",
        "if battery_level > 20 and has_internet_connection:\n",
        "    print(\"Bender is ready to surf the web!\")\n",
        "else:\n",
        "    print(\"Bender needs to charge or check the internet connection.\")"
      ],
      "metadata": {
        "id": "RQRzWHaokJq7"
      },
      "execution_count": null,
      "outputs": []
    },
    {
      "cell_type": "markdown",
      "source": [
        "In this example, we use the logical AND operator (`and`) to combine two conditions: `battery_level > 20` and `has_internet_connection`. If both conditions are true, Bender prints a message indicating that it is ready to surf the web. Otherwise, it prints a message suggesting that it needs to charge or check the internet connection.\n",
        "\n",
        "Let's put these concepts into practice with a small program:"
      ],
      "metadata": {
        "id": "tuU9WdGYkGyI"
      }
    },
    {
      "cell_type": "code",
      "source": [
        "# Exercise: Robot Power Checker\n",
        "print(\"Welcome to the Robot Power Checker!\")\n",
        "battery_percentage = float(input(\"Enter the battery percentage: \"))\n",
        "solar_panels_active = input(\"Are the solar panels active? (yes/no): \")\n",
        "\n",
        "if battery_percentage >= 50 or solar_panels_active == \"yes\":\n",
        "    print(\"The robot has sufficient power to operate.\")\n",
        "else:\n",
        "    print(\"The robot needs to conserve energy.\")"
      ],
      "metadata": {
        "id": "Xyz4NoFymE82"
      },
      "execution_count": null,
      "outputs": []
    },
    {
      "cell_type": "markdown",
      "source": [
        "In this program, we prompt the user to enter the battery percentage and whether the solar panels are active. We then use the logical OR operator (`or`) to check if either the battery percentage is greater than or equal to 50 or the solar panels are active. Based on the condition, we print a message indicating whether the robot has sufficient power or needs to conserve energy."
      ],
      "metadata": {
        "id": "BrP3TpXImJz1"
      }
    },
    {
      "cell_type": "markdown",
      "source": [
        "## Lists and For Loops\n",
        "\n",
        "Lists in Python are used to store multiple items in a single variable. They allow you to organize and manipulate collections of data.\n",
        "\n",
        "### Creating a List\n",
        "To create a list in Python, you enclose a comma-separated sequence of elements in square brackets `[]`. For example:"
      ],
      "metadata": {
        "id": "7UiYBOzEmt0r"
      }
    },
    {
      "cell_type": "code",
      "source": [
        "# list of famous robots\n",
        "famous_robots = [\"R2-D2\", \"C-3PO\", \"HAL9000\"]\n",
        "print(famous_robots)"
      ],
      "metadata": {
        "colab": {
          "base_uri": "https://localhost:8080/"
        },
        "id": "1XMD9TLim4Ft",
        "outputId": "3f773bf8-867d-41ac-ef13-c4882027805e"
      },
      "execution_count": 15,
      "outputs": [
        {
          "output_type": "stream",
          "name": "stdout",
          "text": [
            "['R2-D2', 'C-3PO', 'HAL9000']\n"
          ]
        }
      ]
    },
    {
      "cell_type": "markdown",
      "source": [
        "In this example, we create a list called `famous_robots` that contains the names of some robots.\n",
        "\n",
        "### Accessing List Elements\n",
        "You can access individual elements of a list using their index. Python uses zero-based indexing, meaning the first element has an index of 0."
      ],
      "metadata": {
        "id": "wsN1UiFunWFx"
      }
    },
    {
      "cell_type": "code",
      "source": [
        "# print the first robot\n",
        "print(famous_robots[0])\n",
        "\n",
        "# print the second robot\n",
        "print(famous_robots[1])\n",
        "\n",
        "# print the last robot\n",
        "print(famous_robots[-1])"
      ],
      "metadata": {
        "colab": {
          "base_uri": "https://localhost:8080/"
        },
        "id": "5y2EzX2FndBb",
        "outputId": "c92f72dd-cb25-42df-cbde-66a9c05a6149"
      },
      "execution_count": 18,
      "outputs": [
        {
          "output_type": "stream",
          "name": "stdout",
          "text": [
            "R2-D2\n",
            "C-3PO\n",
            "HAL9000\n"
          ]
        }
      ]
    },
    {
      "cell_type": "markdown",
      "source": [
        "If you look closely, you notice we can use \"negative indexing\" to start at the back of the list (so `-1` means \"the last item.\")."
      ],
      "metadata": {
        "id": "fJL5_xransbc"
      }
    },
    {
      "cell_type": "markdown",
      "source": [
        "## For Loop\n",
        "The `for` loop is used to iterate over a sequence of elements, such as a list. It allows you to perform a specific action for each element in the list.\n",
        "\n",
        "The basic syntax is:\n",
        "\n",
        "```python\n",
        "for element in list:\n",
        "    # Code to be executed for each element\n",
        "```\n",
        "\n",
        "Example:"
      ],
      "metadata": {
        "id": "Kfxl60ncnqeT"
      }
    },
    {
      "cell_type": "code",
      "source": [
        "# Loop through robots\n",
        "for robot in famous_robots:\n",
        "    print(robot)"
      ],
      "metadata": {
        "colab": {
          "base_uri": "https://localhost:8080/"
        },
        "id": "aAht8LH7j_Wj",
        "outputId": "627836e7-4405-4eb6-9142-5c834597d0c4"
      },
      "execution_count": 19,
      "outputs": [
        {
          "output_type": "stream",
          "name": "stdout",
          "text": [
            "R2-D2\n",
            "C-3PO\n",
            "HAL9000\n"
          ]
        }
      ]
    },
    {
      "cell_type": "markdown",
      "source": [
        "In this simple example, we loop through the robots and print their name. We can also can combine lists with conditionals."
      ],
      "metadata": {
        "id": "TeSbD3PIoRw6"
      }
    },
    {
      "cell_type": "code",
      "source": [
        "# Example: combining for loop and if\n",
        "for robot in famous_robots:\n",
        "    if robot == \"HAL9000\":\n",
        "        print(f\"I'm scared of {robot}\")\n",
        "    else:\n",
        "        print(f\"{robot} seems friendly\")"
      ],
      "metadata": {
        "colab": {
          "base_uri": "https://localhost:8080/"
        },
        "id": "CwT84Hm6oZpW",
        "outputId": "b1ce8113-67bb-44ea-c44f-6105ce5f8aab"
      },
      "execution_count": 21,
      "outputs": [
        {
          "output_type": "stream",
          "name": "stdout",
          "text": [
            "R2-D2 seems friendly\n",
            "C-3PO seems friendly\n",
            "I'm scared of HAL9000\n"
          ]
        }
      ]
    },
    {
      "cell_type": "markdown",
      "source": [
        "Here, we loop through the list of robots, and check whether each is eqaul to HAL9000 (who scares us)."
      ],
      "metadata": {
        "id": "RMgau-byopqx"
      }
    },
    {
      "cell_type": "markdown",
      "source": [
        "### Using For Loops with Range\n",
        "In Python, the `range()` function is used to generate a sequence of numbers. It is commonly used in for loops to control the number of iterations.\n",
        "\n",
        "The syntax is\n",
        "\n",
        "```python\n",
        "range(start, stop, step)\n",
        "```\n",
        "\n",
        "-   `start`: The starting number of the sequence (inclusive). If omitted, it defaults to 0.\n",
        "-   `stop`: The ending number of the sequence (exclusive). This is a required argument.\n",
        "-   `step`: The increment between each number in the sequence. If omitted, it defaults to 1.\n",
        "\n",
        "While this may seem a little complex, in practice it's actually pretty intuitive:\n"
      ],
      "metadata": {
        "id": "xAdrRws1pUsh"
      }
    },
    {
      "cell_type": "code",
      "source": [
        "# Example: Eve counts 0 to 9\n",
        "for i in range(10):\n",
        "    print(f\"Eve has found {i} plants.\")"
      ],
      "metadata": {
        "id": "UXxQU-3ppzDY",
        "outputId": "ee0107bc-b259-4704-e5c8-cd85ca47ad88",
        "colab": {
          "base_uri": "https://localhost:8080/"
        }
      },
      "execution_count": 23,
      "outputs": [
        {
          "output_type": "stream",
          "name": "stdout",
          "text": [
            "Eve has found 0 plants.\n",
            "Eve has found 1 plants.\n",
            "Eve has found 2 plants.\n",
            "Eve has found 3 plants.\n",
            "Eve has found 4 plants.\n",
            "Eve has found 5 plants.\n",
            "Eve has found 6 plants.\n",
            "Eve has found 7 plants.\n",
            "Eve has found 8 plants.\n",
            "Eve has found 9 plants.\n"
          ]
        }
      ]
    },
    {
      "cell_type": "markdown",
      "source": [
        "In this example, the `range(10)` function generates a sequence of numbers from 0 to 10 (exclusive). The for loop iterates over each number in the sequence, and the value of i is used to print the number of plants Eve has found."
      ],
      "metadata": {
        "id": "S-FQVU-CqQ9o"
      }
    },
    {
      "cell_type": "markdown",
      "source": [
        "### Nested Loops\n",
        "Nested loops are loops inside other loops. They allow you to perform iterations within iterations, enabling you to work with multi-dimensional data or perform complex operations."
      ],
      "metadata": {
        "id": "mHy1u4NTqcRn"
      }
    },
    {
      "cell_type": "code",
      "source": [
        "doctor_incarnations = [\"Ninth\", \"Tenth\", \"Eleventh\"]\n",
        "tardis_rooms = [\"Console Room\", \"Library\", \"Swimming Pool\"]\n",
        "\n",
        "for doctor in doctor_incarnations:\n",
        "    print(f\"The {doctor} Doctor enters the TARDIS.\")\n",
        "    for room in tardis_rooms:\n",
        "        print(f\"The Doctor visits the {room}.\")\n",
        "    print(\"The Doctor sets off on a new adventure!\")\n",
        "    print()"
      ],
      "metadata": {
        "id": "gmySmY4PqiNg",
        "outputId": "98f01900-2587-4277-c366-84d02fbe4f0d",
        "colab": {
          "base_uri": "https://localhost:8080/"
        }
      },
      "execution_count": 24,
      "outputs": [
        {
          "output_type": "stream",
          "name": "stdout",
          "text": [
            "The Ninth Doctor enters the TARDIS.\n",
            "The Doctor visits the Console Room.\n",
            "The Doctor visits the Library.\n",
            "The Doctor visits the Swimming Pool.\n",
            "The Doctor sets off on a new adventure!\n",
            "\n",
            "The Tenth Doctor enters the TARDIS.\n",
            "The Doctor visits the Console Room.\n",
            "The Doctor visits the Library.\n",
            "The Doctor visits the Swimming Pool.\n",
            "The Doctor sets off on a new adventure!\n",
            "\n",
            "The Eleventh Doctor enters the TARDIS.\n",
            "The Doctor visits the Console Room.\n",
            "The Doctor visits the Library.\n",
            "The Doctor visits the Swimming Pool.\n",
            "The Doctor sets off on a new adventure!\n",
            "\n"
          ]
        }
      ]
    },
    {
      "cell_type": "markdown",
      "source": [
        "In this example, we have two lists: `doctor_incarnations` and `tardis_rooms`. We use nested `for` loops to iterate over each Doctor incarnation and each room in the TARDIS. The outer loop iterates over the Doctors, while the inner loop iterates over the rooms. For each Doctor, we print a message indicating that they enter the TARDIS, and then we use the inner loop to print a message for each room the Doctor visits. Finally, we print a message about the Doctor setting off on a new adventure and add an empty line for readability."
      ],
      "metadata": {
        "id": "tCA-P76GqqxR"
      }
    },
    {
      "cell_type": "code",
      "source": [],
      "metadata": {
        "id": "3P94UOj-pvTz"
      },
      "execution_count": null,
      "outputs": []
    },
    {
      "cell_type": "markdown",
      "source": [],
      "metadata": {
        "id": "R3SQO1aWo0jL"
      }
    }
  ]
}