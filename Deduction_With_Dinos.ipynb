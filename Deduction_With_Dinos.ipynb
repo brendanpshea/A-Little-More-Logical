{
  "nbformat": 4,
  "nbformat_minor": 0,
  "metadata": {
    "colab": {
      "provenance": [],
      "authorship_tag": "ABX9TyPAxsNPb0QtW+MlGjNB5BC9",
      "include_colab_link": true
    },
    "kernelspec": {
      "name": "python3",
      "display_name": "Python 3"
    },
    "language_info": {
      "name": "python"
    }
  },
  "cells": [
    {
      "cell_type": "markdown",
      "metadata": {
        "id": "view-in-github",
        "colab_type": "text"
      },
      "source": [
        "<a href=\"https://colab.research.google.com/github/brendanpshea/logic-prolog/blob/main/Deduction_With_Dinos.ipynb\" target=\"_parent\"><img src=\"https://colab.research.google.com/assets/colab-badge.svg\" alt=\"Open In Colab\"/></a>"
      ]
    },
    {
      "cell_type": "code",
      "execution_count": 1,
      "metadata": {
        "colab": {
          "base_uri": "https://localhost:8080/"
        },
        "id": "GXgewnHLZ6Cz",
        "outputId": "e423e205-bc83-44de-f14b-580724bd6c41"
      },
      "outputs": [
        {
          "output_type": "stream",
          "name": "stdout",
          "text": [
            "Collecting pytholog\n",
            "  Downloading pytholog-2.4.1-py3-none-any.whl (16 kB)\n",
            "Requirement already satisfied: more-itertools in /usr/local/lib/python3.10/dist-packages (from pytholog) (10.1.0)\n",
            "Installing collected packages: pytholog\n",
            "Successfully installed pytholog-2.4.1\n"
          ]
        }
      ],
      "source": [
        "# This cells installs the \"libraries\"\n",
        "# that allow us to do \"logic programming\"\n",
        "!pip install pytholog\n",
        "import pytholog as pl"
      ]
    },
    {
      "cell_type": "markdown",
      "source": [
        "## What is the History of Formal Logic?\n",
        "\n",
        "**Formal logic**, the systematic study of valid deductive inference, has ahistory that dates back to ancient civilizations. It primarily involves the analysis of arguments, where an argument is a set of statements or propositions, with one or more premises leading to a conclusion. Formal logic provides a framework to evaluate whether a given deductive argument is **valid,** meaning that the the truth of the premises guarantees the truth of the conclusion. (In other words, in a valid arguments, IF the premises are true, then conclusion must be true as well. The only possible way to have a false conclusion would be to have false premises.)\n",
        "\n",
        "The journey of formal logic begins with Aristotelian logic or **categorical logic**, developed by Aristotle in Ancient Greece. This was the first systematic study of the principles of valid argument and deduction. In this version of formal logic, different categories are related through quantifiers like 'all', 'some', or 'none'. For example, \"All mammals are animals\" is a categorical proposition.\n",
        "\n",
        "In the late medieval period, scholars like Peter Abelard and William of Ockham expanded on Aristotelian logic. The Renaissance and later periods saw a gradual shift towards mathematical logic, which sought greater precision and symbolic representation.\n",
        "\n",
        "The 19th and 20th centuries marked significant advancements with the development of propositional logic and predicate logic. **Propositional** logic, also known as sentential logic, deals with sentences that can be true or false but does not involve the internal structure of the sentences. It operates using logical connectives like 'and', 'or', 'not', and 'if... then...'.\n",
        "\n",
        "Gottlob Frege, a German mathematician, logician, and philosopher, is often credited with being the father of modern logic, especially for his work on predicate logic, which extended the scope of logic to include quantifiers and predicates, allowing for more complex and abstract formulations. We'll have more to say about predicate logic in a later section.\n",
        "\n",
        "### Example: Formal Deductive Logic in the World of Dinosaurs\n",
        "\n",
        "Imagine a world where different species of dinosaurs coexist, much like in the \"Jurassic Park\" series or \"The Land Before Time\". Using the principles of categorical logic, we could form statements like:\n",
        "\n",
        "-   \"All Velociraptors are carnivorous.\"\n",
        "-   \"Some dinosaurs are herbivores.\"\n",
        "\n",
        "In propositional logic, we might encounter scenarios such as:\n",
        "\n",
        "-   \"If it is a T-Rex, then it is dangerous.\"\n",
        "-   \"Either the Brachiosaurus is near the lake or the Triceratops is in the forest.\"\n",
        "\n",
        "Each of these statements, rooted in the principles of formal logic, reflects how logical structures can be applied to any domain -- even a fantastical one like that of dinosaurs -- to analyze relationships, characteristics, and scenarios in a clear, precise, and logical manner."
      ],
      "metadata": {
        "id": "cpDF-zSKeM5J"
      }
    },
    {
      "cell_type": "markdown",
      "source": [
        "## What is Predicate Logic?\n",
        "\n",
        "**Predicate logic** is an extension of propositional logic and is crucial in understanding the fundamentals of logic programming. Unlike propositional logic, which deals with simple, declarative propositions, predicate logic uses predicates and quantifiers to express more complex statements about objects. A **predicate** is essentially a function that returns a truth value. It can take one or more **arguments**, representing objects or entities, and asserts a certain property or relationship about them.\n",
        "\n",
        "Two key types of quantifiers in predicate logic are the **universal quantifier** (denoted as ∀, meaning \"for all\") and the **existential quantifier** (denoted as ∃, meaning \"there exists\"). The universal quantifier is used to state that a particular property holds for all members of a certain set, while the existential quantifier states that there is at least one member in the set for which the property holds. In addition to these, predicate logic uses logical connectives such as and ( ∧ ), or ( ∨ ), not ( ¬ ), and implies ( → ), which help in building more complex logical expressions.\n",
        "\n",
        "### Example: Jurassic Park and Predicate Logic\n",
        "\n",
        "Let's use the world of \"Jurassic Park\" as an example. Suppose we have different species of dinosaurs, and we want to express certain facts and relationships about them.\n",
        "\n",
        "1.  We can define a predicate like `IsCarnivore(dinosaur)` which returns true if `dinosaur` is a carnivore.\n",
        "\n",
        "2.  We can know make statements using quantifiers and logical connectives:\n",
        "\n",
        "    -   Universal Quantifier: \"All T-Rexes are carnivores\"  can be expressed as \"∀x (IsTRex(x) → IsCarnivore(x))\".\n",
        "    -   Existential Quantifier: \"There's at least one herbivorous dinosaur in the Lagoon\"  could be \"∃x (IsHerbivore(x) ∧ LivesInLagoon(x))\".\n",
        "\n",
        "In this way, using predicate logic, we can construct a detailed and logical description of the relationships and characteristics within the dinosaur ecosystem of Jurassic Park. This forms the basis for logic programming, where such expressions are used to query and manipulate knowledge bases."
      ],
      "metadata": {
        "id": "kKS5e7EdcMBN"
      }
    }
  ]
}