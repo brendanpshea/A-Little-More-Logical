{
  "nbformat": 4,
  "nbformat_minor": 0,
  "metadata": {
    "colab": {
      "provenance": [],
      "authorship_tag": "ABX9TyM61uIuHzhuRhIyaqANmwOV",
      "include_colab_link": true
    },
    "kernelspec": {
      "name": "python3",
      "display_name": "Python 3"
    },
    "language_info": {
      "name": "python"
    }
  },
  "cells": [
    {
      "cell_type": "markdown",
      "metadata": {
        "id": "view-in-github",
        "colab_type": "text"
      },
      "source": [
        "<a href=\"https://colab.research.google.com/github/brendanpshea/logic-prolog/blob/main/Deduction_With_Dinos.ipynb\" target=\"_parent\"><img src=\"https://colab.research.google.com/assets/colab-badge.svg\" alt=\"Open In Colab\"/></a>"
      ]
    },
    {
      "cell_type": "markdown",
      "source": [
        "## What is the History of Formal Logic?\n",
        "\n",
        "**Formal logic**, the systematic study of valid deductive inference, has ahistory that dates back to ancient civilizations. It primarily involves the analysis of arguments, where an argument is a set of statements or propositions, with one or more premises leading to a conclusion. Formal logic provides a framework to evaluate whether a given deductive argument is **valid,** meaning that the the truth of the premises guarantees the truth of the conclusion. (In other words, in a valid arguments, IF the premises are true, then conclusion must be true as well. The only possible way to have a false conclusion would be to have false premises.)\n",
        "\n",
        "The journey of formal logic begins with Aristotelian logic or **categorical logic**, developed by Aristotle in Ancient Greece. This was the first systematic study of the principles of valid argument and deduction. In this version of formal logic, different categories are related through quantifiers like 'all', 'some', or 'none'. For example, \"All mammals are animals\" is a categorical proposition.\n",
        "\n",
        "In the late medieval period, scholars like Peter Abelard and William of Ockham expanded on Aristotelian logic. The Renaissance and later periods saw a gradual shift towards mathematical logic, which sought greater precision and symbolic representation.\n",
        "\n",
        "The 19th and 20th centuries marked significant advancements with the development of propositional logic and predicate logic. **Propositional** logic, also known as sentential logic, deals with sentences that can be true or false but does not involve the internal structure of the sentences. It operates using logical connectives like 'and', 'or', 'not', and 'if... then...'.\n",
        "\n",
        "Gottlob Frege, a German mathematician, logician, and philosopher, is often credited with being the father of modern logic, especially for his work on predicate logic, which extended the scope of logic to include quantifiers and predicates, allowing for more complex and abstract formulations. We'll have more to say about predicate logic in a later section.\n",
        "\n",
        "### Example: Formal Deductive Logic in the World of Dinosaurs\n",
        "\n",
        "Imagine a world where different species of dinosaurs coexist, much like in the \"Jurassic Park\" series or \"The Land Before Time\". Using the principles of categorical logic, we could form statements like:\n",
        "\n",
        "-   \"All Velociraptors are carnivorous.\"\n",
        "-   \"Some dinosaurs are herbivores.\"\n",
        "\n",
        "In propositional logic, we might encounter scenarios such as:\n",
        "\n",
        "-   \"If it is a T-Rex, then it is dangerous.\"\n",
        "-   \"Either the Brachiosaurus is near the lake or the Triceratops is in the forest.\"\n",
        "\n",
        "Each of these statements, rooted in the principles of formal logic, reflects how logical structures can be applied to any domain -- even a fantastical one like that of dinosaurs -- to analyze relationships, characteristics, and scenarios in a clear, precise, and logical manner."
      ],
      "metadata": {
        "id": "cpDF-zSKeM5J"
      }
    },
    {
      "cell_type": "markdown",
      "source": [
        "## Logical Connectives and Truth Tables\n",
        "\n",
        "Logical connectives are fundamental tools in propositional and predicate logic, used to combine or alter statements to form more complex expressions. Understanding these connectives is crucial, and truth tables are a valuable tool for this. They list all possible combinations of truth values for logical variables (True or False) and show the result of the operation.\n",
        "\n",
        "### AND (Conjunction)\n",
        "\n",
        "- Symbol: $∧$\n",
        "- Description: $P ∧ Q$ is True only if both P and Q are True.\n",
        "- Truth Table for AND:\n",
        "\n",
        "| P | Q | P ∧ Q |\n",
        "|---|---|-------|\n",
        "| True | True | True |\n",
        "| True | False | False |\n",
        "| False | True | False |\n",
        "| False | False | False |\n",
        "\n",
        "- Example 1: If P represents \"Dino roars\" (True) and Q represents \"Dino has teeth\" (True), then P ∧ Q (Dino roars AND Dino has teeth) is True.\n",
        "- Example 2: If P is True (Dino roars) and Q is False (Dino is sleeping), then P ∧ Q (Dino roars AND Dino is sleeping) is False.\n",
        "\n",
        "### OR (Disjunction)\n",
        "- Symbol: $\\vee$\n",
        "- Description: $P \\vee Q$ is True only if both P and Q are True.\n",
        "- Truth Table for OR:\n",
        "\n",
        "| P | Q | P ∨ Q |\n",
        "|---|---|-------|\n",
        "| True | True | True |\n",
        "| True | False | True |\n",
        "| False | True | True |\n",
        "| False | False | False |\n",
        "\n",
        "- Example 1: If P represents \"Dino roars\" (True) and Q represents \"Dino has teeth\" (True), then P ∨ Q (Dino roars OR Dino has teeth) is True.\n",
        "- Example 2: If P is False (Dino is quiet) and Q is False (Dino is sleeping), then P ∨ Q (Dino is quiet OR Dino is sleeping) is False.\n",
        "\n",
        "### NOT (Negation)\n",
        "- Symbol: $\\neg$\n",
        "- Description:$\\neg P$ is True if and only if $P$ is False.\n",
        "- Truth Table for NOT:\n",
        "\n",
        "| P | ¬P |\n",
        "|---|---|\n",
        "| True | False |\n",
        "| False | True |\n",
        "\n",
        "- Example 1: If P represents \"Dino roars\" (True), then ¬P (¬Dino roars, i.e., Dino is not roaring) is False.\n",
        "- Example 2: If P is False (Dino is quiet), then ¬P (¬Dino is quiet, i.e., Dino is not quiet) is True.\n",
        "\n",
        "### IF-THEN (Implication)\n",
        "- Symbol: $→$\n",
        "- Description: $P \\rightarrow Q$ is False only when the $P$ is True and the $Q$ is False.\n",
        "- Truth Table for IF-THEN:\n",
        "\n",
        "| P | Q | P → Q |\n",
        "|---|---|-------|\n",
        "| True | True | True |\n",
        "| True | False | False |\n",
        "| False | True | True |\n",
        "| False | False | True |\n",
        "\n",
        "- Example 1: If P represents \"Dino roars\" (True) and Q represents \"Ground shakes\" (True), then P → Q (If Dino roars, THEN Ground shakes) is True.\n",
        "- Example 2: If P is True (Dino roars) and Q is False (No ground shake), then P → Q (If Dino roars, THEN No ground shake) is False.\n",
        "\n",
        "These logical connectives and their truth tables form the basis for all deductive inference. They are also at the heart of the way modern computers \"work\", both at the physical level (where series of transistors are made into \"logic gates\" that allow them to do deductive inference) and the level of \"computer programming\" (where the logical connectives are used to control how computers \"make decisions.\").\n"
      ],
      "metadata": {
        "id": "tqklDMcEVKRA"
      }
    },
    {
      "cell_type": "markdown",
      "source": [
        "## What is Predicate Logic?\n",
        "\n",
        "**Predicate logic** is an extension of propositional logic and is crucial in understanding the fundamentals of logic programming. Unlike propositional logic, which deals with simple, declarative propositions, predicate logic uses predicates and quantifiers to express more complex statements about objects. A **predicate** is essentially a function that returns a truth value. It can take one or more **arguments**, representing objects or entities, and asserts a certain property or relationship about them.\n",
        "\n",
        "Two key types of quantifiers in predicate logic are the **universal quantifier** (denoted as ∀, meaning \"for all\") and the **existential quantifier** (denoted as ∃, meaning \"there exists\"). The universal quantifier is used to state that a particular property holds for all members of a certain set, while the existential quantifier states that there is at least one member in the set for which the property holds. In addition to these, predicate logic uses logical connectives such as and ( ∧ ), or ( ∨ ), not ( ¬ ), and implies ( → ), which help in building more complex logical expressions.\n",
        "\n",
        "### Example: Jurassic Park and Predicate Logic\n",
        "\n",
        "Let's use the world of \"Jurassic Park\" as an example. Suppose we have different species of dinosaurs, and we want to express certain facts and relationships about them.\n",
        "\n",
        "1.  We can define a predicate like `IsCarnivore(dinosaur)` which returns true if `dinosaur` is a carnivore.\n",
        "\n",
        "2.  We can know make statements using quantifiers and logical connectives:\n",
        "\n",
        "    -   Universal Quantifier: \"All T-Rexes are carnivores\"  can be expressed as \"∀x (IsTRex(x) → IsCarnivore(x))\".\n",
        "    -   Existential Quantifier: \"There's at least one herbivorous dinosaur in the Lagoon\"  could be \"∃x (IsHerbivore(x) ∧ LivesInLagoon(x))\".\n",
        "\n",
        "In this way, using predicate logic, we can construct a detailed and logical description of the relationships and characteristics within the dinosaur ecosystem of Jurassic Park. This forms the basis for logic programming, where such expressions are used to query and manipulate knowledge bases."
      ],
      "metadata": {
        "id": "kKS5e7EdcMBN"
      }
    },
    {
      "cell_type": "markdown",
      "source": [
        "## What is Computer Programming?\n",
        "\n",
        "As mentioned above, modern computers (and computer programs) are built on the foundations of formal logic. In the remainder of this chapter, we'll exploring some simple computer programs to see how this works.\n",
        "\n",
        "**Computer programming** is the process of designing and building an executable computer program to accomplish a specific computing result or to perform a particular task. Programming involves tasks such as analysis, generating algorithms, profiling algorithms' accuracy and resource consumption, and the implementation of algorithms in a chosen programming language, commonly referred to as coding.\n",
        "\n",
        "At its core, computer programming is about problem-solving. It involves breaking down complex problems into smaller, manageable parts, and then systematically solving these parts. Each part of the problem is tackled through writing code - a set of instructions that a computer can understand and execute. These instructions are written in a programming language, which is a formal language comprising a set of strings that produce various kinds of machine code output. Popular programming languages include Python, Java, C++, and JavaScript, each with its own syntax and use-case scenarios.\n",
        "\n",
        "**Logic programming** is a type of programming paradigm which is largely based on formal logic. Any program written in a logic programming language is a set of sentences in logical form, expressing facts and rules about some problem domain. It leverages the principles of formal logic - like those in predicate logic and propositional logic - to perform computations. Rules and facts in a logic program are much like the statements in formal logic, and the process of running a logic program is similar to making logical inferences. The most well-known logic programming language is Prolog (we'll be using a close variant of this below).  \n",
        "\n",
        "In logic programming, instead of explicitly telling the computer what to do step by step, you describe situations and facts, and define rules about them. The computer then uses this information to infer new facts and to find solutions that satisfy certain criteria. This approach is particularly powerful for tasks involving symbolic reasoning, natural language processing, and creating systems that require complex decision-making.\n",
        "\n",
        "Brendan's Note: For those new to programming and perhaps anxious about it, logic programming can be a good entry point. It encourages a different way of thinking about problems, focusing more on 'what' needs to be achieved rather than 'how' to achieve it. This high-level approach can sometimes be more intuitive for beginners. Starting with simple problems and gradually working up to more complex ones can make the journey less intimidating and more enjoyable. Remember, every expert was once a beginner, and the world of programming is full of learning resources and supportive communities."
      ],
      "metadata": {
        "id": "-LRmFVNfkivD"
      }
    },
    {
      "cell_type": "markdown",
      "source": [
        "## How to Run the Code in this Chapter\n",
        "If you'd like to experiment with the computer programs in this chapter, you can open it in Google Colab at [LINK].\n",
        "\n",
        "Google Colab is an easy-to-use, free online platform that allows you to write, run, and share Python code. It is particularly useful for machine learning, data analysis, and education. Here's a simple guide to get you started:\n",
        "\n",
        "1.  Click on the provided link to access the Google Colab notebook. If you are not already logged in to your Google account, you will be prompted to do so.\n",
        "2. Once the notebook is open, you'll see a user-friendly interface, which is divided into cells. These cells can contain either code or text.\n",
        "3.  To execute the code in a cell, click on the cell and then either click the play button on the left side of the cell or press `Shift + Enter`.   -   The first time you run a cell, you might have to accept the permissions requested by Google Colab to run the notebook.\n",
        "4.  You can add new cells for your code or notes by clicking on `+ Code` or `+ Text` in the top left corner of the interface.\n",
        "5.  You can choose to \"Save a Copy\" of the notebook to save your own work. This will be automatically saved to your Google Drive in a folder named 'Colab Notebooks'. You can also manually save your notebook or download it to your computer by going to `File > Save` or `File > Download`.\n",
        "7.  When you're done, you can close the browser tab. Your work will be saved in your Google Drive.\n",
        "\n",
        "Google Colab is a powerful tool for learning and experimenting with programming. Don't hesitate to explore and try out different features as you become more comfortable with the platform.\n",
        "\n",
        "Here is our fist \"code\" cell that will allow us to set up logic programming."
      ],
      "metadata": {
        "id": "F2oOjL6nnPgu"
      }
    },
    {
      "cell_type": "code",
      "execution_count": 1,
      "metadata": {
        "id": "GXgewnHLZ6Cz"
      },
      "outputs": [],
      "source": [
        "%%capture\n",
        "# Install prolog. This might take a little while!\n",
        "!sudo apt-get install swi-prolog -y\n",
        "!pip install swiplserver\n",
        "!pip install pyswip\n",
        "\n",
        "from pyswip import Prolog\n",
        "pl = Prolog()"
      ]
    },
    {
      "cell_type": "markdown",
      "source": [
        "## What is Prolog and How Does it Work?\n",
        "\n",
        "**Prolog** is a programming langauge based on the ideas of predicate logic.  In traditional programming, you write a sequence of instructions for the computer to follow. In logic programming, you define a set of rules and facts, and the computer then uses these to deduce new information or solve problems. The basic process is as follows.\n",
        "\n",
        "1.  In Prolog, you start by defining facts and rules about the problem you're trying to solve.\n",
        "\n",
        "    -   A **fact** is a basic assertion about your problem domain, like \"Socrates is a man.\"\n",
        "    -   A **rule** is a logical statement that defines a relationship between facts, like \"All men are mortal.\"\n",
        "2. These facts and rules are stored in what's called a **knowledge base** -- a kind of database for logic programming.\n",
        "\n",
        "3. Once your knowledge base is set up, you can ask questions (called **queries**). The system will then search through your facts and rules to find answers. For example, if you ask, \"Is Socrates mortal?\" the system will use the rule about men being mortal and the fact that Socrates is a man to conclude that Socrates is indeed mortal.\n",
        "\n",
        "4. While we'll only be scratching the surface here, Prolog allows you to integrate these logic programming concepts seamlessly with Python code. This means you can use logic programming alongside all the other features and libraries available in Python, making it a powerful tool for complex problem-solving."
      ],
      "metadata": {
        "id": "UGnTZxT7UNxg"
      }
    },
    {
      "cell_type": "markdown",
      "source": [
        "## Defining Facts and Knowledge Bases in Pytholog\n",
        "\n",
        "In Pytholog, a key concept is defining facts and creating a knowledge base. Facts in logic programming are used to state something that is unconditionally true in the context of your domain. These can be either monadic (single-argument) or relational (multi-argument). Let's use the Dino Train family as an example, which includes four children, one of whom is a T-Rex, along with their parents.\n",
        "\n",
        "**Monadic facts** in Pytholog involve a single **argument** and typically describe a property or characteristic of a subject. For example:\n",
        "\n",
        "```prolog\n",
        "is_trex(\"Buddy\"). - This states that Buddy is a T-Rex.\n",
        "is_pteranodon(\"Tiny\"). - This asserts that Tiny is a Pteranodon.\n",
        "is_herbivore(\"Shiny\"). - Here, it's stated that Shiny is a herbivore.\n",
        "```\n",
        "\n",
        "Each of these facts has a predicate (like `is_trex`, `is_pteranodon`, `is_herbivore`) and an argument (like `\"Buddy\"`, `\"Tiny\"`, `\"Shiny\"`), describing a single characteristic.\n",
        "\n",
        "**Relational facts** involve two or more arguments, usually describing a relationship or connection between entities. For example:\n",
        "\n",
        "```prolog\n",
        "parent(\"Mrs. Pteranodon\", \"Buddy\")` - Indicates Mrs. Pteranodon is the parent of Buddy.\n",
        "parent(\"Mr. Pteranodon\", \"Tiny\"). - States Mr. Pteranodon is the parent of Tiny.\n",
        "siblings(\"Don\", \"Shiny\"). - Shows Don and Shiny are siblings.\n",
        "```\n",
        "In these facts, predicates like `parent` and `siblings` describe relationships between two entities."
      ],
      "metadata": {
        "id": "5mx-ltzCXyFb"
      }
    },
    {
      "cell_type": "markdown",
      "source": [
        "## Example: A Simple Knowledge Base\n",
        "Let's define a knowledge base for the Dino Train family (inspired by the PBS show) using Pytholog, focusing on facts about the family members and their characteristics. We will stick to facts only for now, excluding rules.\n",
        "Here's the general syntax for creating a knowledge base:\n"
      ],
      "metadata": {
        "id": "ZBLHVD7xZQ_K"
      }
    },
    {
      "cell_type": "markdown",
      "source": [
        "Here's how it will work in our case. In this Google colab notebook, we will need to use the `pl.assertz` function, which allows us to connect with Prolog."
      ],
      "metadata": {
        "id": "u5_gCVnPa5Uh"
      }
    },
    {
      "cell_type": "code",
      "source": [
        "# Assert facts about species\n",
        "pl.assertz(\"is_trex(buddy)\")\n",
        "pl.assertz(\"is_pteranodon(tiny)\")\n",
        "pl.assertz(\"is_pteranodon(shiny)\")\n",
        "pl.assertz(\"is_pteranodon(don)\")\n",
        "pl.assertz(\"is_pteranodon(don)\")\n",
        "pl.assertz(\"is_pteranodon(mrs_pteranodon)\")\n",
        "pl.assertz(\"is_mrs_pteranodon(gina)\")\n",
        "\n",
        "# Assert facts about ages\n",
        "pl.assertz(\"age(tiny, 5)\")\n",
        "pl.assertz(\"age(shiny, 6)\")\n",
        "pl.assertz(\"age(buddy, 6)\")\n",
        "pl.assertz(\"age(don, 7)\")\n",
        "pl.assertz(\"age(mrs_pteranodon, 40)\")\n",
        "pl.assertz(\"age(mrs_pteranodon, 42)\")\n",
        "pl.assertz(\"age(gina, 77)\")\n",
        "\n",
        "# Assert facts about parent-child relationships\n",
        "pl.assertz(\"parent(mrs_pteranodon, buddy)\")\n",
        "pl.assertz(\"parent(mr_pteranodon, buddy)\")\n",
        "pl.assertz(\"parent(mrs_pteranodon, tiny)\")\n",
        "pl.assertz(\"parent(mr_pteranodon, tiny)\")\n",
        "pl.assertz(\"parent(mrs_pteranodon, shiny)\")\n",
        "pl.assertz(\"parent(mr_pteranodon, shiny)\")\n",
        "pl.assertz(\"parent(mrs_pteranodon, don)\")\n",
        "pl.assertz(\"parent(mr_pteranodon, don)\")\n",
        "\n",
        "# Assert facts about grandparents\n",
        "pl.assertz(\"parent(gina, mr_pteranodon)\")"
      ],
      "metadata": {
        "id": "AwGFPmDAZLi0"
      },
      "execution_count": 2,
      "outputs": []
    },
    {
      "cell_type": "markdown",
      "source": [
        "In this example:\n",
        "- Using pl.assertz(\"is_trex(buddy)\"), we assert that Buddy is a T-Rex. Similar assertions like pl.assertz(\"is_pteranodon(tiny)\") are used to define the species of other characters. Each assertz command adds a new fact to the Prolog knowledge base.\n",
        "- Facts about characters' ages are added with lines like pl.assertz(\"age(tiny, 5)\"). This states that Tiny is 5 years old. Each age(character, age) fact provides age information about the characters.\n",
        "- parent-child relationships are established with assertions like pl.assertz(\"parent(mrs_pteranodon, buddy)\"). This line declares Mrs. Pteranodon as a parent of Buddy. Similar assertions define other parent-child relationships.\n",
        "- Finally, a grandparent relationship is asserted with pl.assertz(\"parent(gina, mr_pteranodon)\"), which indicates that Gina is a parent of Mr. Pteranodon, thereby making her a grandparent to his children.\n",
        "\n",
        "We also have **comments** (starting with a `#`) that are ignored by Prolog. Programmers write comments in order to explain to other *humans* (and their future selves!) what is happening in the comptuer code.\n",
        "\n",
        "Now, we're going to define a function that will make querying a bit easier for us. You do not need to worry about the details here. Just make sure you \"run\" this cell before attempting to execute the queries in the next section."
      ],
      "metadata": {
        "id": "TEZy6oErZtGt"
      }
    },
    {
      "cell_type": "code",
      "source": [
        "def query(expression):\n",
        "    \"\"\"Execute Prolog queries and return appropriate results.\n",
        "       - Returns True/False for boolean queries.\n",
        "       - Returns a list of solutions for non-boolean queries.\"\"\"\n",
        "    results = list(pl.query(expression))\n",
        "    return True if all(not d for d in results) else False if not results else results"
      ],
      "metadata": {
        "id": "Zo2M6EkKglpJ"
      },
      "execution_count": 3,
      "outputs": []
    },
    {
      "cell_type": "markdown",
      "source": [
        "## How to Write Queries in Pytholog\n",
        "\n",
        "Writing **queries** in Prolog involves asking specific questions to your knowledge base, and the system returns answers based on the facts and rules you've defined. Let's go through the process using the syntax from your provided information.\n",
        "\n",
        "To create a query in Prolog, you generally use the `query` method on your knowledge base object. I've simplified it a bit for this chapter, so all you need to do is type the following:\n",
        "\n",
        "```python\n",
        "query(\"your_query_here\")\n",
        "```\n",
        "\n",
        "We'll see how thi works in practice in the next section.\n",
        "\n",
        "### Checking a Fact\n",
        "\n",
        "To check if a specific fact is true, you would write the query directly stating the fact. For instance, if you want to check if Buddy is a T-Rex, your query would be:"
      ],
      "metadata": {
        "id": "fE_RGrFScv-g"
      }
    },
    {
      "cell_type": "code",
      "source": [
        "query(\"is_trex(buddy)\")"
      ],
      "metadata": {
        "colab": {
          "base_uri": "https://localhost:8080/"
        },
        "id": "QvPXVIWoc1wv",
        "outputId": "5ebe5634-0ebe-45d3-bd17-b2cf5af59ec7"
      },
      "execution_count": 4,
      "outputs": [
        {
          "output_type": "execute_result",
          "data": {
            "text/plain": [
              "True"
            ]
          },
          "metadata": {},
          "execution_count": 4
        }
      ]
    },
    {
      "cell_type": "markdown",
      "source": [
        "Here's what happens in this simple query:\n",
        "\n",
        "The string `\"is_trex(buddy)\"`our actual query.\n",
        "    -   `is_trex` is a predicate representing the concept of being a T-Rex.\n",
        "    -   `buddy` is the specific subject you're asking about in relation to the predicate.\n",
        "This expression is asking, \"Is the fact that Buddy is a T-Rex true according to the knowledge base?\" If it works, the answer should be `True`.\n",
        "\n",
        "On other hand, Shiny is not a trex:\n",
        "\n"
      ],
      "metadata": {
        "id": "w3Ycc0Lqc9lV"
      }
    },
    {
      "cell_type": "code",
      "source": [
        "query(\"is_trex(shiny)\")"
      ],
      "metadata": {
        "colab": {
          "base_uri": "https://localhost:8080/"
        },
        "id": "PZJkFXVegnLJ",
        "outputId": "013ce4dd-5326-4194-e391-1e66c6f96b59"
      },
      "execution_count": 5,
      "outputs": [
        {
          "output_type": "execute_result",
          "data": {
            "text/plain": [
              "True"
            ]
          },
          "metadata": {},
          "execution_count": 5
        }
      ]
    },
    {
      "cell_type": "markdown",
      "source": [
        "\\We could ask whether Don is less than 10 years old (he is)."
      ],
      "metadata": {
        "id": "SrHeUKFh2ylC"
      }
    },
    {
      "cell_type": "code",
      "source": [
        "query(\"age(don, X), X < 10\")"
      ],
      "metadata": {
        "id": "48Cys2Sl2xdg",
        "outputId": "5a553efb-6db0-4776-dda4-c9809c85596b",
        "colab": {
          "base_uri": "https://localhost:8080/"
        }
      },
      "execution_count": 6,
      "outputs": [
        {
          "output_type": "execute_result",
          "data": {
            "text/plain": [
              "[{'X': 7}]"
            ]
          },
          "metadata": {},
          "execution_count": 6
        }
      ]
    },
    {
      "cell_type": "markdown",
      "source": [
        "Here's a break down of this query:\n",
        "-   `age(don, X)` checks for an 'age' fact in the knowledge base involving 'don'. The variable `X` is used to represent Don's age. In Prolog, variables are typically denoted by uppercase letters.\n",
        "-   `X < 10`is a numerical comparison. It checks whether the value of `X` (Don's age) is less than 10.\n",
        "-  In Prolog, the `,` (Comma) acts like a logical AND operator. It means that both the fact `age(don, X)` must be found in the knowledge base, and the condition `X < 10` must be true for the query to return a result.\n",
        "\n",
        "The output of the query is `[{'X': 7}]`. This means that the query successfully found a fact in the knowledge base where Don's age is recorded, and the age matches the condition (less than 10 years old). The output is a list of dictionaries, with each dictionary providing the value for `X` that satisfies the query. In this case, it indicates that Don is 7 years old."
      ],
      "metadata": {
        "id": "lvj3Vr3x3uvF"
      }
    },
    {
      "cell_type": "markdown",
      "source": [
        "### Retrieving Information\n",
        "\n",
        "If you want to retrieve specific information, like finding out who the children of Mrs. Pteranodon are, you use a variable in your query:"
      ],
      "metadata": {
        "id": "ZaN6zGFNgl8W"
      }
    },
    {
      "cell_type": "code",
      "source": [
        "query(\"parent(mrs_pteranodon, Child)\")"
      ],
      "metadata": {
        "colab": {
          "base_uri": "https://localhost:8080/"
        },
        "id": "HZNpHkF5c_3d",
        "outputId": "e4eaae40-236f-4cf0-c642-9ba8d00abe6f"
      },
      "execution_count": 7,
      "outputs": [
        {
          "output_type": "execute_result",
          "data": {
            "text/plain": [
              "[{'Child': 'buddy'}, {'Child': 'tiny'}, {'Child': 'shiny'}, {'Child': 'don'}]"
            ]
          },
          "metadata": {},
          "execution_count": 7
        }
      ]
    },
    {
      "cell_type": "markdown",
      "source": [
        "Here, the string `\"parent(mrs_pteranodon, Child)\"` is your actual query.\n",
        "    -   `parent` is a predicate representing the parent-child relationship in your knowledge base.\n",
        "    -   `mrs_pteranodon` is the specific argument representing Mrs. Pteranodon. It's in lowercase, suggesting it's a specific entity (a constant) in your knowledge base.\n",
        "    -   `Child` is a **variable** (denoted by being capitalized) used to represent Mrs. Pteranodon's children, whose names you want to retrieve.\n",
        "\n",
        "The output is a list of dictionaries. Each dictionary in the list corresponds to a separate fact in the knowledge base that matches the query.\n",
        "- `'Child'` is the key in each dictionary, which corresponds to the variable used in your query.\n",
        "- The values associated with this key ('buddy', 'tiny', 'shiny', 'don') are the specific names of Mrs. Pteranodon's children as per the facts stored in your knowledge base.\n"
      ],
      "metadata": {
        "id": "VumZcnuLhUeN"
      }
    },
    {
      "cell_type": "markdown",
      "source": [
        "## Introducing Rules in Prolog\n",
        "In Prolog, **rules** are logical constructs that allow you to derive new information from existing facts. They are essentially conditional statements that describe relationships or patterns within your data. Understanding how to define and use rules is crucial for leveraging the full power of logic programming in Pytholog.\n",
        "\n",
        "A rule in Prolog consists of a head and a body, with the following syntax:\n",
        "\n",
        "```\n",
        "head :- body.\n",
        "```\n",
        "\n",
        "-   The **head** is the conclusion or the outcome of the rule. It's what you can infer if the conditions in the body are met.\n",
        "-   The **body** contains the conditions that need to be true for the head to be inferred. The body can contain one or more predicates, connected by commas (which act as logical AND operators).\n"
      ],
      "metadata": {
        "id": "jqHd1dCvjsQf"
      }
    },
    {
      "cell_type": "markdown",
      "source": [
        "### Writing Rules: Siblings and Grandparents Example\n",
        "\n",
        "Let's illustrate this with two basic examples: defining who are siblings and who are grandparents.\n",
        "\n",
        "The sibling relationship can be defined by stating that two individuals are siblings if they share at least one parent. In Pytholog, this can be expressed as:\n",
        "\n",
        "```prolog\n",
        "sibling(X, Y) :- parent(Z, X), parent(Z, Y), X \\= Y.\n",
        "```\n",
        "\n",
        "Breaking down the syntax:\n",
        "\n",
        "-   The head is `sibling(X, Y)`. It states that X and Y are siblings. X and Y are variables that will be matched against the facts in the knowledge base.\n",
        "-   The body body is `parent(Z, X), parent(Z, Y), X \\= Y`. This s the condition for the sibling relationship. It states that there must be a parent Z who is a parent of both X and Y, and X and Y should not be the same individual (ensuring that a person is not considered a sibling of themselves).\n",
        "-  The commas in the body act like logical AND operators, meaning all conditions must be true for the rule to apply.\n",
        "\n",
        "\n",
        "#### Grandparent Rule\n",
        "\n",
        "Similarly, we can define a rule for identifying grandparents:\n",
        "\n",
        "```prolog\n",
        "grandparent(X, Y) :- parent(X, Z), parent(Z, Y).\n",
        "```\n",
        "\n",
        "-   The head `grandparent(X, Y)`  declares that X is a grandparent of Y.\n",
        "-   The body`parent(X, Z), parent(Z, Y)` states that X must be a parent of Z, and Z must be a parent of Y.\n",
        "\n",
        "Let's go ahead and add these to our knowledge base."
      ],
      "metadata": {
        "id": "-hMlLWK0kcoX"
      }
    },
    {
      "cell_type": "code",
      "source": [
        "pl.assertz(\"sibling(X, Y) :- parent(Z, X), parent(Z, Y), X \\= Y\")\n",
        "pl.assertz(\"grandparent(X, Y) :- parent(X, Z), parent(Z, Y)\")"
      ],
      "metadata": {
        "id": "6sNQWN0RhkJA"
      },
      "execution_count": 8,
      "outputs": []
    },
    {
      "cell_type": "markdown",
      "source": [
        "## Sample Queries\n",
        "Now that we have constructed our knowledge base, let's use it to construct some queries and learn more about what we can do with Prolog!\n",
        "\n",
        "### Sample Query 1: Identifying Siblings of Buddy\n",
        "\n",
        "This query aims to find out who are the siblings of 'Buddy'. Since we have defined the rule for siblings (`sibling(X, Y)`), we can use this to query the knowledge base. The strategy is straightforward: we look for all instances where 'Buddy' is one sibling (X), and the query will return the other sibling (Y)."
      ],
      "metadata": {
        "id": "8Si1BVABsTnC"
      }
    },
    {
      "cell_type": "code",
      "source": [
        "query(\"sibling(buddy, X)\")"
      ],
      "metadata": {
        "id": "MHIIrzPlsX3z",
        "outputId": "4c64cb6e-4ddf-4d75-e4b9-5e7495b21357",
        "colab": {
          "base_uri": "https://localhost:8080/"
        }
      },
      "execution_count": 9,
      "outputs": [
        {
          "output_type": "execute_result",
          "data": {
            "text/plain": [
              "[{'X': 'tiny'},\n",
              " {'X': 'shiny'},\n",
              " {'X': 'don'},\n",
              " {'X': 'tiny'},\n",
              " {'X': 'shiny'},\n",
              " {'X': 'don'}]"
            ]
          },
          "metadata": {},
          "execution_count": 9
        }
      ]
    },
    {
      "cell_type": "markdown",
      "source": [
        "You might notice each sibling name occurs twice. This represents a common occurrence in Prolog, and exploring why it happens can help us understand more about how Prolog solves problems by the process of \"unification.\"\n",
        "\n",
        "**Unification** in Prolog is a process where two terms are made identical by systematically finding and applying variable bindings. In your query \"sibling(buddy, X)\", Prolog tries to unify this query with the facts in the knowledge base to find all instances where 'Buddy' is a sibling of some 'X'.\n",
        "\n",
        "The reason for the duplication lies in how siblings are implicitly defined in your knowledge base. Since you have facts about parent-child relationships, siblings are inferred based on having common parents. For instance, if 'Buddy' and 'Tiny' share both parents, they are siblings. However, this relationship is bidirectional -- 'Buddy' is a sibling of 'Tiny', and 'Tiny' is a sibling of 'Buddy'.\n",
        "\n",
        "When you run the query, Prolog unifies it twice for each sibling pair due to this bidirectional nature. First, it finds that 'Buddy' and 'Tiny' are siblings because they share the same parents, fulfilling the query \"sibling(buddy, X)\" with 'X' being 'Tiny'. Then, it also finds the reverse, where 'Tiny' and 'Buddy' are siblings, again fulfilling the query with 'X' being 'Buddy'. This process repeats for each sibling pair, resulting in each name appearing twice."
      ],
      "metadata": {
        "id": "5WC2z86XgKw9"
      }
    },
    {
      "cell_type": "markdown",
      "source": [
        "### Sample Query 2: Get Gina's Grandchildren\n",
        "Let's now determine who Gina's Grandchildren are."
      ],
      "metadata": {
        "id": "hP7llvV5gM8T"
      }
    },
    {
      "cell_type": "code",
      "source": [
        "# Get Gina's grandchildren\n",
        "query(\"grandparent(gina,X)\")"
      ],
      "metadata": {
        "id": "l-NO53srgV3g",
        "outputId": "f8ea87c4-f832-4532-d66e-2fbcb9a9aba6",
        "colab": {
          "base_uri": "https://localhost:8080/"
        }
      },
      "execution_count": 10,
      "outputs": [
        {
          "output_type": "execute_result",
          "data": {
            "text/plain": [
              "[{'X': 'buddy'}, {'X': 'tiny'}, {'X': 'shiny'}, {'X': 'don'}]"
            ]
          },
          "metadata": {},
          "execution_count": 10
        }
      ]
    },
    {
      "cell_type": "markdown",
      "source": [
        "In this query, we are looks for any X (a variable) such that Gina is that dino's grandparent. We end up with four results (as expected).\n",
        "\n",
        "We could further restrict this query, for example, by retrieving ONLY her grandchildren that are exactly 6 years old. In order to this, we'll need to TWO different conditions and join them with a `,` (this means AND in Prolog)."
      ],
      "metadata": {
        "id": "EVxTacLogcX5"
      }
    },
    {
      "cell_type": "code",
      "source": [
        "query(\"grandparent(gina, X),age(X,6)\")"
      ],
      "metadata": {
        "id": "VIh-BYrCg85B",
        "outputId": "7c64eef1-ee66-4be7-ecd5-51771c12f850",
        "colab": {
          "base_uri": "https://localhost:8080/"
        }
      },
      "execution_count": 11,
      "outputs": [
        {
          "output_type": "execute_result",
          "data": {
            "text/plain": [
              "[{'X': 'buddy'}, {'X': 'shiny'}]"
            ]
          },
          "metadata": {},
          "execution_count": 11
        }
      ]
    },
    {
      "cell_type": "markdown",
      "source": [
        "This queries looks for any X a variable that is BOTH a grandchild of Gina's AND is exactly 6 years old.\n",
        "\n",
        "In other variation of the query, we might look only for her grandchildren who are pteranodon's (which should be all of them except Buddy, who is a Pterandon)."
      ],
      "metadata": {
        "id": "n-7519WQhFxR"
      }
    },
    {
      "cell_type": "code",
      "source": [
        "query(\"grandparent(gina, X), is_pteranodon(X)\")"
      ],
      "metadata": {
        "id": "SxD4WKwmhgFu",
        "outputId": "17aca138-9789-4224-dcd5-d0c9caa4ceaf",
        "colab": {
          "base_uri": "https://localhost:8080/"
        }
      },
      "execution_count": 12,
      "outputs": [
        {
          "output_type": "execute_result",
          "data": {
            "text/plain": [
              "[{'X': 'tiny'}, {'X': 'shiny'}, {'X': 'don'}, {'X': 'don'}]"
            ]
          },
          "metadata": {},
          "execution_count": 12
        }
      ]
    },
    {
      "cell_type": "markdown",
      "source": [
        "### Sample Query 3:"
      ],
      "metadata": {
        "id": "Y29aaekbhpF_"
      }
    }
  ]
}