{
  "nbformat": 4,
  "nbformat_minor": 0,
  "metadata": {
    "colab": {
      "provenance": [],
      "authorship_tag": "ABX9TyN7kAo1TxvlOpTWjrrdo6bc",
      "include_colab_link": true
    },
    "kernelspec": {
      "name": "python3",
      "display_name": "Python 3"
    },
    "language_info": {
      "name": "python"
    }
  },
  "cells": [
    {
      "cell_type": "markdown",
      "metadata": {
        "id": "view-in-github",
        "colab_type": "text"
      },
      "source": [
        "<a href=\"https://colab.research.google.com/github/brendanpshea/logic-prolog/blob/main/Deduction_With_Dinos.ipynb\" target=\"_parent\"><img src=\"https://colab.research.google.com/assets/colab-badge.svg\" alt=\"Open In Colab\"/></a>"
      ]
    },
    {
      "cell_type": "markdown",
      "source": [
        "# Deduction With Dinos: An Introduction to Formal Logic\n",
        "### Brendan Shea, PhD\n",
        "\n",
        "**Formal logic**, the systematic study of valid deductive inference, has ahistory that dates back to ancient civilizations. It primarily involves the analysis of arguments, where an argument is a set of statements or propositions, with one or more premises leading to a conclusion. Formal logic provides a framework to evaluate whether a given deductive argument is **valid,** meaning that the the truth of the premises guarantees the truth of the conclusion. (In other words, in a valid arguments, IF the premises are true, then conclusion must be true as well. The only possible way to have a false conclusion would be to have false premises.)\n",
        "\n",
        "In this chapter, we'll be providing an introduction to formal logic. We'll start with a brief history, and then move on to a modern application (related to computer programming).\n"
      ],
      "metadata": {
        "id": "cpDF-zSKeM5J"
      }
    },
    {
      "cell_type": "markdown",
      "source": [
        "## Categorical Logic: Aristotle's version\n",
        "**Aristotle**, born in 384 BC in Stagira, Chalcidice, was an ancient Greek philosopher who made significant contributions to a multitude of fields including logic, metaphysics, mathematics, physics, biology, botany, ethics, politics, agriculture, medicine, dance, and theatre. He is known as a founding figure in Western philosophy. Aristotle's works laid the groundwork for much of the logic and science we understand today.\n",
        "\n",
        "In categorical logic, a **categorical statement** is a sentence or proposition that relates two classes or categories. These statements have two essential components: the subject and the predicate. The subject is the class about which something is being said, and the predicate is what is being said about the subject. There are four types of categorical statements:\n",
        "\n",
        "| Type | Form | Example |\n",
        "| --- | --- | --- |\n",
        "| Universal Affirmative (A) | All S are P | \"All Velociraptors are dangerous.\" |\n",
        "| Universal Negative (E) | No S are P | \"No Velociraptors are harmless.\" |\n",
        "| Particular Affirmative (I) | Some S are P | \"Some creatures in Jurassic Park are Velociraptors.\" |\n",
        "| Particular Negative (O) | Some S are not P | \"Some creatures in Jurassic Park are not Velociraptors.\" |\n",
        "\n",
        "Aristotle's idea that we should translate the premises and conclusions of arguments into categorical statements before evaluating them helped lay the groundwork for modern \"formal languages\". **Formal languages** are systems of symbols and rules used to construct expressions, particularly in fields like mathematics, computer science, and logic. These languages allow for precise and unambiguous communication of ideas. Aristotle's work in identifying and standardizing forms of logical arguments paved the way for the creation of formalized systems in which arguments and ideas could be rigorously tested and validated.\n",
        "\n",
        "Some sample statements:\n",
        "\n",
        "| English Sentence | Categorical Logic Translation |\n",
        "| --- | --- |\n",
        "| If it's a dinosaur in Jurassic Park, then it's an extinct species brought back to life. | All dinosaurs in Jurassic Park are species brought back from extinction. (A) |\n",
        "| Dinos in the park aren't capable of surviving in today's natural environment. | No dinosaurs in Jurassic Park are dinos capable of surviving in today's natural environment. (E) |\n",
        "| A specific Velociraptor, named Blue, shows signs of empathy. | Some Velociraptors in Jurassic Park are empathetic. (I) *(Note: Categorical logic has problems dealing with individuals.)* |\n",
        "| Not every creature in Jurassic Park is a carnivore. | Some creatures in Jurassic Park are not carnivores. (O) |\n",
        "| Only the herbivores in Jurassic Park are safe for close human interaction. | All safe creatures for close human interaction in Jurassic Park are herbivores. (A) |\n",
        "| Whenever a dinosaur escapes, park security is heightened. | All instances of a dinosaur escaping are occasions when park security is heightened. (A) |\n",
        "| Many smaller dinosaurs are not dangerous to humans. | Some smaller dinosaurs in Jurassic Park are not dinos dangerous to humans. (O) |\n"
      ],
      "metadata": {
        "id": "21vvNfrU02yp"
      }
    },
    {
      "cell_type": "markdown",
      "source": [
        "### Categorical Syllogisms\n",
        "A **categorical syllogism** is a form of reasoning where a conclusion is drawn from two given or assumed propositions (premises). A classic Aristotelian syllogism consists of three parts:\n",
        "\n",
        "1.   One premise that contains the **major term** (which is the predicate of the conclusion) and the **middle term** (the term that \"links\" the subject and predicate terms).\n",
        "2.  Another premise with the **minor term** (which is the subject of the conclusion) and the middle term.\n",
        "3.  A conclusion that follows (or doesn't) from the two premises.\n",
        "\n",
        "So, for example:\n",
        "1. All Velociraptors are dangerous creatures. (Major Premise)\n",
        "2. Some Velocirpators are inhabitants of Jurassic Park (Minor Premise)\n",
        "3. Some inhabitants of Jurassic Park are dangerous creatures. (Conclusion)\n"
      ],
      "metadata": {
        "id": "TlNRN5sO7siS"
      }
    },
    {
      "cell_type": "markdown",
      "source": [
        "\n",
        "### Determining the Validity of Syllogisms\n",
        "\n",
        "The validity of a categorical syllogism is determined by its form, not the content. This means that a syllogism is valid if the conclusion logically follows from the premises, regardless of whether the premises are true.\n",
        "\n",
        "1. A syllogism must have exactly three distinct terms used consistently.\n",
        "\n",
        "2.  The middle term must be **distributed** in at least one premise.  For example, \"All T-Rexes are carnivores. Some carnivores are fast. Therefore, some T-Rexes are fast.\" This is fallacious as the middle term \"carnivores\" is not distributed; not all carnivores are discussed.\n",
        "\n",
        "3.  If a term is distributed in the conclusion, it must be distributed in the premise. For example, \"All Raptors are dangerous animals. No birds are Raptors. Therefore, no birds are dangerous animals.\" The term \"dangerous\" is undistributed in the premise but distributed in the conclusion.\n",
        "\n",
        "4.  A valid syllogism cannot have two negative premises. For example: \"No T-Rexes are herbivores. No herbivores are small creatures. Therefore, some T-Rexes are small creatures.\" This syllogism is invalid as both premises are negative.\n",
        "\n",
        "5.   If one premise is negative, the conclusion must be negative. For example: \"All dinosaurs are reptiles. No reptiles are mammals. Therefore, some dinosaurs are mammals.\" This is fallacious because it draws an affirmative conclusion from a negative premise.\n",
        "\n",
        "6.  Drawing a particular conclusion from two universal premises is a fallacy. For example: \"All dinosaurs are extinct. All creatures in Jurassic Park are dinosaurs. Therefore, some creatures in Jurassic Park are extinct.\" This implies existence from universals, which is fallacious.\n",
        "\n",
        "In all, there are 256 possible \"forms\" of categorical syllogisms, of which only 24 are \"valid.\" Here are some examples:\n",
        "\n",
        "| Major Premise | Minor Premise | Conclusion | Valid? |\n",
        "| --- | --- | --- | --- |\n",
        "| All M are P | All S are M | All S are P | Yes |\n",
        "| No M are P | Some S are M | Some S are not P | Yes |\n",
        "| Some M are P | All S are M | Some S are P | No |\n",
        "| All P are M | No S are M | No S are P | Yes |\n",
        "| Some M are not P | All S are M | Some S are not P | Yes |\n",
        "| No M are P | All S are M | Some S are not P | Yes |\n",
        "| No M are P | Some S are not M | Some S are not P | No |\n",
        "| Some M are P | Some S are M | Some S are P | No |\n",
        "| All M are P | No S are P | Some S are not M | No |\n",
        "| No M are P | All S are M | No S are P | Yes |\n",
        "\n",
        "Aristotle's categorical logic was *hugely* influential to later generations of Greek, Roman, Christian, and Islamic scholars, and was a main component of university educations into the 1800s. It ended up influencing (for both good and bad) the way people thought about topics ranging from science to religion to ethics to mathematics."
      ],
      "metadata": {
        "id": "n7dZgDYk-tWT"
      }
    },
    {
      "cell_type": "markdown",
      "source": [
        "### Propositional Logic: The Stoics' Version\n",
        "\n",
        "The Stoics, prominent philosophers in ancient Greece, notably contributed to the development of propositional logic. This form of logic, distinct from Aristotle's categorical logic, focuses on the relationships between entire propositions, rather than terms within propositions. Key Stoic contributors to this field include Zeno of Citium, Chrysippus, and Cleanthes.\n",
        "\n",
        "In propositional logic, the primary concern is how propositions (statements that are true or false) can be combined using logical operators. These operators include:\n",
        "\n",
        "1.  Conjunction ( ∧ ): 'And' - This operator combines two propositions, both of which must be true for the combined statement to be true.\n",
        "2.  Disjunction ( ∨ ): 'Or' - This operator combines two propositions, where at least one proposition must be true for the combined statement to be true.\n",
        "3.  Negation ( ¬ ): 'Not' - This operator negates the truth value of a proposition.\n",
        "4.  Conditional ( → ): 'If... then...' - This operator is used for implications, where if the first proposition is true, then the second one must also be true for the combined statement to be true.\n",
        "5.  Biconditional ( ↔ ): 'If and only if' - This operator signifies that both propositions are equivalent; both are true or both are false.\n",
        "\n",
        "The structure and truth conditions can be summarized as follows:\n",
        "\n",
        "| Type | Symbol | Form | Example | Truth Condition |\n",
        "| --- | --- | --- | --- | --- |\n",
        "| Conjunction | ∧ | P ∧ Q | \"The T-Rex is large ∧ the Velociraptor is fast.\" | True if both P and Q are true |\n",
        "| Disjunction | ∨ | P ∨ Q | \"Either the Brachiosaurus is tall ∨ the Triceratops is aggressive.\" | True if either P or Q (or both) are true |\n",
        "| Negation | ¬ | ¬P | \"¬(the Dilophosaurus is friendly).\" | True if P is false |\n",
        "| Conditional | → | P → Q | \"A dinosaur is a carnivore → it is not a herbivore.\" | True unless P is true and Q is false |\n",
        "| Biconditional | ↔ | P ↔ Q | \"A dinosaur is dangerous ↔ it is a predator.\" | True if P and Q have the same truth value (both true or both false) |\n",
        "\n",
        "Sample translations from English sentences to propositional logic:\n",
        "\n",
        "| English Sentence | Propositional Logic Translation |\n",
        "| --- | --- |\n",
        "| If a dinosaur in Jurassic Park is a carnivore, then it's dangerous. | P→Q (If carnivore, then dangerous) |\n",
        "| Either the T-Rex is in Jurassic Park, or the Spinosaurus is. | P∨Q (T-Rex in park or Spinosaurus in park) |\n",
        "| It's not true that all dinosaurs in Jurassic Park are friendly. |¬P (Not all dinosaurs in park are friendly) |\n",
        "| Only if the security system is active, the dinosaurs are contained. | P↔Q (Security active if and only if dinosaurs contained) |\n",
        "| Whenever a dinosaur roars, visitors get scared. | P→Q (If dinosaur roars, then visitors scared) |\n",
        "\n",
        "The Stoics' advancement in propositional logic, with its focus on the interplay of whole propositions and logical operators, laid foundational principles for modern logical analysis in various disciplines."
      ],
      "metadata": {
        "id": "xM1BddbpA9iJ"
      }
    },
    {
      "cell_type": "markdown",
      "source": [
        "## Logical Connectives and Truth Tables\n",
        "\n",
        "Logical connectives are fundamental tools in propositional and predicate logic, used to combine or alter statements to form more complex expressions. Understanding these connectives is crucial, and truth tables are a valuable tool for this. They list all possible combinations of truth values for logical variables (True or False) and show the result of the operation.\n",
        "\n",
        "### AND (Conjunction)\n",
        "\n",
        "- Symbol: $∧$\n",
        "- Description: $P ∧ Q$ is True only if both P and Q are True.\n",
        "- Truth Table for AND:\n",
        "\n",
        "| P | Q | P ∧ Q |\n",
        "|---|---|-------|\n",
        "| True | True | True |\n",
        "| True | False | False |\n",
        "| False | True | False |\n",
        "| False | False | False |\n",
        "\n",
        "- Example 1: If P represents \"Dino roars\" (True) and Q represents \"Dino has teeth\" (True), then P ∧ Q (Dino roars AND Dino has teeth) is True.\n",
        "- Example 2: If P is True (Dino roars) and Q is False (Dino is sleeping), then P ∧ Q (Dino roars AND Dino is sleeping) is False.\n",
        "\n",
        "### OR (Disjunction)\n",
        "- Symbol: $\\vee$\n",
        "- Description: $P \\vee Q$ is True only if both P and Q are True.\n",
        "- Truth Table for OR:\n",
        "\n",
        "| P | Q | P ∨ Q |\n",
        "|---|---|-------|\n",
        "| True | True | True |\n",
        "| True | False | True |\n",
        "| False | True | True |\n",
        "| False | False | False |\n",
        "\n",
        "- Example 1: If P represents \"Dino roars\" (True) and Q represents \"Dino has teeth\" (True), then P ∨ Q (Dino roars OR Dino has teeth) is True.\n",
        "- Example 2: If P is False (Dino is quiet) and Q is False (Dino is sleeping), then P ∨ Q (Dino is quiet OR Dino is sleeping) is False.\n",
        "\n",
        "### NOT (Negation)\n",
        "- Symbol: $\\neg$\n",
        "- Description:$\\neg P$ is True if and only if $P$ is False.\n",
        "- Truth Table for NOT:\n",
        "\n",
        "| P | ¬P |\n",
        "|---|---|\n",
        "| True | False |\n",
        "| False | True |\n",
        "\n",
        "- Example 1: If P represents \"Dino roars\" (True), then ¬P (¬Dino roars, i.e., Dino is not roaring) is False.\n",
        "- Example 2: If P is False (Dino is quiet), then ¬P (¬Dino is quiet, i.e., Dino is not quiet) is True.\n",
        "\n",
        "### IF-THEN (Implication)\n",
        "- Symbol: $→$\n",
        "- Description: $P \\rightarrow Q$ is False only when the $P$ is True and the $Q$ is False.\n",
        "- Truth Table for IF-THEN:\n",
        "\n",
        "| P | Q | P → Q |\n",
        "|---|---|-------|\n",
        "| True | True | True |\n",
        "| True | False | False |\n",
        "| False | True | True |\n",
        "| False | False | True |\n",
        "\n",
        "- Example 1: If P represents \"Dino roars\" (True) and Q represents \"Ground shakes\" (True), then P → Q (If Dino roars, THEN Ground shakes) is True.\n",
        "- Example 2: If P is True (Dino roars) and Q is False (No ground shake), then P → Q (If Dino roars, THEN No ground shake) is False.\n",
        "\n",
        "These logical connectives and their truth tables form the basis for all deductive inference. They are also at the heart of the way modern computers \"work\", both at the physical level (where series of transistors are made into \"logic gates\" that allow them to do deductive inference) and the level of \"computer programming\" (where the logical connectives are used to control how computers \"make decisions.\").\n"
      ],
      "metadata": {
        "id": "tqklDMcEVKRA"
      }
    },
    {
      "cell_type": "markdown",
      "source": [
        "## What is Predicate Logic?\n",
        "\n",
        "**Predicate logic** is an extension of propositional logic and is crucial in understanding the fundamentals of logic programming. Unlike propositional logic, which deals with simple, declarative propositions, predicate logic uses predicates and quantifiers to express more complex statements about objects. A **predicate** is essentially a function that returns a truth value. It can take one or more **arguments**, representing objects or entities, and asserts a certain property or relationship about them.\n",
        "\n",
        "Two key types of quantifiers in predicate logic are the **universal quantifier** (denoted as ∀, meaning \"for all\") and the **existential quantifier** (denoted as ∃, meaning \"there exists\"). The universal quantifier is used to state that a particular property holds for all members of a certain set, while the existential quantifier states that there is at least one member in the set for which the property holds. In addition to these, predicate logic uses logical connectives such as and ( ∧ ), or ( ∨ ), not ( ¬ ), and implies ( → ), which help in building more complex logical expressions.\n",
        "\n",
        "### Example: Jurassic Park and Predicate Logic\n",
        "\n",
        "Let's use the world of \"Jurassic Park\" as an example. Suppose we have different species of dinosaurs, and we want to express certain facts and relationships about them.\n",
        "\n",
        "1.  We can define a predicate like `IsCarnivore(dinosaur)` which returns true if `dinosaur` is a carnivore.\n",
        "\n",
        "2.  We can know make statements using quantifiers and logical connectives:\n",
        "\n",
        "    -   Universal Quantifier: \"All T-Rexes are carnivores\"  can be expressed as \"∀x (IsTRex(x) → IsCarnivore(x))\".\n",
        "    -   Existential Quantifier: \"There's at least one herbivorous dinosaur in the Lagoon\"  could be \"∃x (IsHerbivore(x) ∧ LivesInLagoon(x))\".\n",
        "\n",
        "In this way, using predicate logic, we can construct a detailed and logical description of the relationships and characteristics within the dinosaur ecosystem of Jurassic Park. This forms the basis for logic programming, where such expressions are used to query and manipulate knowledge bases."
      ],
      "metadata": {
        "id": "kKS5e7EdcMBN"
      }
    },
    {
      "cell_type": "markdown",
      "source": [
        "## What is Computer Programming?\n",
        "\n",
        "As mentioned above, modern computers (and computer programs) are built on the foundations of formal logic. In the remainder of this chapter, we'll exploring some simple computer programs to see how this works.\n",
        "\n",
        "**Computer programming** is the process of designing and building an executable computer program to accomplish a specific computing result or to perform a particular task. Programming involves tasks such as analysis, generating algorithms, profiling algorithms' accuracy and resource consumption, and the implementation of algorithms in a chosen programming language, commonly referred to as coding.\n",
        "\n",
        "At its core, computer programming is about problem-solving. It involves breaking down complex problems into smaller, manageable parts, and then systematically solving these parts. Each part of the problem is tackled through writing code - a set of instructions that a computer can understand and execute. These instructions are written in a programming language, which is a formal language comprising a set of strings that produce various kinds of machine code output. Popular programming languages include Python, Java, C++, and JavaScript, each with its own syntax and use-case scenarios.\n",
        "\n",
        "**Logic programming** is a type of programming paradigm which is largely based on formal logic. Any program written in a logic programming language is a set of sentences in logical form, expressing facts and rules about some problem domain. It leverages the principles of formal logic - like those in predicate logic and propositional logic - to perform computations. Rules and facts in a logic program are much like the statements in formal logic, and the process of running a logic program is similar to making logical inferences. The most well-known logic programming language is Prolog (we'll be using a close variant of this below).  \n",
        "\n",
        "In logic programming, instead of explicitly telling the computer what to do step by step, you describe situations and facts, and define rules about them. The computer then uses this information to infer new facts and to find solutions that satisfy certain criteria. This approach is particularly powerful for tasks involving symbolic reasoning, natural language processing, and creating systems that require complex decision-making.\n",
        "\n",
        "Brendan's Note: For those new to programming and perhaps anxious about it, logic programming can be a good entry point. It encourages a different way of thinking about problems, focusing more on 'what' needs to be achieved rather than 'how' to achieve it. This high-level approach can sometimes be more intuitive for beginners. Starting with simple problems and gradually working up to more complex ones can make the journey less intimidating and more enjoyable. Remember, every expert was once a beginner, and the world of programming is full of learning resources and supportive communities."
      ],
      "metadata": {
        "id": "-LRmFVNfkivD"
      }
    },
    {
      "cell_type": "markdown",
      "source": [
        "## How to Run the Code in this Chapter\n",
        "If you'd like to experiment with the computer programs in this chapter, you can open it in Google Colab at [LINK].\n",
        "\n",
        "Google Colab is an easy-to-use, free online platform that allows you to write, run, and share Python code. It is particularly useful for machine learning, data analysis, and education. Here's a simple guide to get you started:\n",
        "\n",
        "1.  Click on the provided link to access the Google Colab notebook. If you are not already logged in to your Google account, you will be prompted to do so.\n",
        "2. Once the notebook is open, you'll see a user-friendly interface, which is divided into cells. These cells can contain either code or text.\n",
        "3.  To execute the code in a cell, click on the cell and then either click the play button on the left side of the cell or press `Shift + Enter`.   -   The first time you run a cell, you might have to accept the permissions requested by Google Colab to run the notebook.\n",
        "4.  You can add new cells for your code or notes by clicking on `+ Code` or `+ Text` in the top left corner of the interface.\n",
        "5.  You can choose to \"Save a Copy\" of the notebook to save your own work. This will be automatically saved to your Google Drive in a folder named 'Colab Notebooks'. You can also manually save your notebook or download it to your computer by going to `File > Save` or `File > Download`.\n",
        "7.  When you're done, you can close the browser tab. Your work will be saved in your Google Drive.\n",
        "\n",
        "Google Colab is a powerful tool for learning and experimenting with programming. Don't hesitate to explore and try out different features as you become more comfortable with the platform.\n",
        "\n",
        "Here is our fist \"code\" cell that will allow us to set up logic programming."
      ],
      "metadata": {
        "id": "F2oOjL6nnPgu"
      }
    },
    {
      "cell_type": "code",
      "execution_count": null,
      "metadata": {
        "id": "GXgewnHLZ6Cz"
      },
      "outputs": [],
      "source": [
        "%%capture\n",
        "# Install prolog. This might take a little while!\n",
        "!sudo apt-get install swi-prolog -y\n",
        "!pip install swiplserver\n",
        "!pip install pyswip\n",
        "\n",
        "from pyswip import Prolog\n",
        "pl = Prolog()"
      ]
    },
    {
      "cell_type": "markdown",
      "source": [
        "## What is Prolog and How Does it Work?\n",
        "\n",
        "**Prolog** is a programming langauge based on the ideas of predicate logic.  In traditional programming, you write a sequence of instructions for the computer to follow. In logic programming, you define a set of rules and facts, and the computer then uses these to deduce new information or solve problems. The basic process is as follows.\n",
        "\n",
        "1.  In Prolog, you start by defining facts and rules about the problem you're trying to solve.\n",
        "\n",
        "    -   A **fact** is a basic assertion about your problem domain, like \"Socrates is a man.\"\n",
        "    -   A **rule** is a logical statement that defines a relationship between facts, like \"All men are mortal.\"\n",
        "2. These facts and rules are stored in what's called a **knowledge base** -- a kind of database for logic programming.\n",
        "\n",
        "3. Once your knowledge base is set up, you can ask questions (called **queries**). The system will then search through your facts and rules to find answers. For example, if you ask, \"Is Socrates mortal?\" the system will use the rule about men being mortal and the fact that Socrates is a man to conclude that Socrates is indeed mortal.\n",
        "\n",
        "4. While we'll only be scratching the surface here, Prolog allows you to integrate these logic programming concepts seamlessly with Python code. This means you can use logic programming alongside all the other features and libraries available in Python, making it a powerful tool for complex problem-solving."
      ],
      "metadata": {
        "id": "UGnTZxT7UNxg"
      }
    },
    {
      "cell_type": "markdown",
      "source": [
        "## Defining Facts and Knowledge Bases in Pytholog\n",
        "\n",
        "In Pytholog, a key concept is defining facts and creating a knowledge base. Facts in logic programming are used to state something that is unconditionally true in the context of your domain. These can be either monadic (single-argument) or relational (multi-argument). Let's use the Dino Train family as an example, which includes four children, one of whom is a T-Rex, along with their parents.\n",
        "\n",
        "**Monadic facts** in Pytholog involve a single **argument** and typically describe a property or characteristic of a subject. For example:\n",
        "\n",
        "```prolog\n",
        "is_trex(\"Buddy\"). - This states that Buddy is a T-Rex.\n",
        "is_pteranodon(\"Tiny\"). - This asserts that Tiny is a Pteranodon.\n",
        "is_herbivore(\"Shiny\"). - Here, it's stated that Shiny is a herbivore.\n",
        "```\n",
        "\n",
        "Each of these facts has a predicate (like `is_trex`, `is_pteranodon`, `is_herbivore`) and an argument (like `\"Buddy\"`, `\"Tiny\"`, `\"Shiny\"`), describing a single characteristic.\n",
        "\n",
        "**Relational facts** involve two or more arguments, usually describing a relationship or connection between entities. For example:\n",
        "\n",
        "```prolog\n",
        "parent(\"Mrs. Pteranodon\", \"Buddy\")` - Indicates Mrs. Pteranodon is the parent of Buddy.\n",
        "parent(\"Mr. Pteranodon\", \"Tiny\"). - States Mr. Pteranodon is the parent of Tiny.\n",
        "siblings(\"Don\", \"Shiny\"). - Shows Don and Shiny are siblings.\n",
        "```\n",
        "In these facts, predicates like `parent` and `siblings` describe relationships between two entities."
      ],
      "metadata": {
        "id": "5mx-ltzCXyFb"
      }
    },
    {
      "cell_type": "markdown",
      "source": [
        "## Example: A Simple Knowledge Base\n",
        "Let's define a knowledge base for the Dino Train family (inspired by the PBS show) using Pytholog, focusing on facts about the family members and their characteristics. We will stick to facts only for now, excluding rules.\n",
        "Here's the general syntax for creating a knowledge base:\n"
      ],
      "metadata": {
        "id": "ZBLHVD7xZQ_K"
      }
    },
    {
      "cell_type": "markdown",
      "source": [
        "Here's how it will work in our case. In this Google colab notebook, we will need to use the `pl.assertz` function, which allows us to connect with Prolog."
      ],
      "metadata": {
        "id": "u5_gCVnPa5Uh"
      }
    },
    {
      "cell_type": "code",
      "source": [
        "# Assert facts about species\n",
        "pl.assertz(\"is_trex(buddy)\")\n",
        "pl.assertz(\"is_pteranodon(tiny)\")\n",
        "pl.assertz(\"is_pteranodon(shiny)\")\n",
        "pl.assertz(\"is_pteranodon(don)\")\n",
        "pl.assertz(\"is_pteranodon(gina)\")\n",
        "pl.assertz(\"is_pteranodon(mrs_pteranodon)\")\n",
        "pl.assertz(\"is_pteranodon(mr_pteranodon)\")\n",
        "\n",
        "# Assert facts about ages\n",
        "pl.assertz(\"age(tiny, 5)\")\n",
        "pl.assertz(\"age(shiny, 6)\")\n",
        "pl.assertz(\"age(buddy, 6)\")\n",
        "pl.assertz(\"age(don, 7)\")\n",
        "pl.assertz(\"age(mrs_pteranodon, 40)\")\n",
        "pl.assertz(\"age(mrs_pteranodon, 42)\")\n",
        "pl.assertz(\"age(gina, 77)\")\n",
        "\n",
        "# Assert facts about parent-child relationships\n",
        "pl.assertz(\"parent(mrs_pteranodon, buddy)\")\n",
        "pl.assertz(\"parent(mr_pteranodon, buddy)\")\n",
        "pl.assertz(\"parent(mrs_pteranodon, tiny)\")\n",
        "pl.assertz(\"parent(mr_pteranodon, tiny)\")\n",
        "pl.assertz(\"parent(mrs_pteranodon, shiny)\")\n",
        "pl.assertz(\"parent(mr_pteranodon, shiny)\")\n",
        "pl.assertz(\"parent(mrs_pteranodon, don)\")\n",
        "pl.assertz(\"parent(mr_pteranodon, don)\")\n",
        "\n",
        "# Assert facts about grandparents\n",
        "pl.assertz(\"parent(gina, mr_pteranodon)\")"
      ],
      "metadata": {
        "id": "AwGFPmDAZLi0"
      },
      "execution_count": null,
      "outputs": []
    },
    {
      "cell_type": "markdown",
      "source": [
        "In this example:\n",
        "- Using pl.assertz(\"is_trex(buddy)\"), we assert that Buddy is a T-Rex. Similar assertions like pl.assertz(\"is_pteranodon(tiny)\") are used to define the species of other characters. Each assertz command adds a new fact to the Prolog knowledge base.\n",
        "- Facts about characters' ages are added with lines like pl.assertz(\"age(tiny, 5)\"). This states that Tiny is 5 years old. Each age(character, age) fact provides age information about the characters.\n",
        "- parent-child relationships are established with assertions like pl.assertz(\"parent(mrs_pteranodon, buddy)\"). This line declares Mrs. Pteranodon as a parent of Buddy. Similar assertions define other parent-child relationships.\n",
        "- Finally, a grandparent relationship is asserted with pl.assertz(\"parent(gina, mr_pteranodon)\"), which indicates that Gina is a parent of Mr. Pteranodon, thereby making her a grandparent to his children.\n",
        "\n",
        "We also have **comments** (starting with a `#`) that are ignored by Prolog. Programmers write comments in order to explain to other *humans* (and their future selves!) what is happening in the comptuer code.\n",
        "\n",
        "Now, we're going to define a function that will make querying a bit easier for us. You do not need to worry about the details here. Just make sure you \"run\" this cell before attempting to execute the queries in the next section."
      ],
      "metadata": {
        "id": "TEZy6oErZtGt"
      }
    },
    {
      "cell_type": "code",
      "source": [
        "def query(expression):\n",
        "    \"\"\"Execute Prolog queries and return appropriate results.\n",
        "       - Returns True/False for boolean queries.\n",
        "       - Returns a list of solutions for non-boolean queries.\"\"\"\n",
        "    results = list(pl.query(expression))\n",
        "    return \"yes\" if all(not d for d in results) else \"no\" if not results else results"
      ],
      "metadata": {
        "id": "Zo2M6EkKglpJ"
      },
      "execution_count": null,
      "outputs": []
    },
    {
      "cell_type": "markdown",
      "source": [
        "## How to Write Queries in Pytholog\n",
        "\n",
        "Writing **queries** in Prolog involves asking specific questions to your knowledge base, and the system returns answers based on the facts and rules you've defined. Let's go through the process using the syntax from your provided information.\n",
        "\n",
        "To create a query in Prolog, you generally use the `query` method on your knowledge base object. I've simplified it a bit for this chapter, so all you need to do is type the following:\n",
        "\n",
        "```python\n",
        "query(\"your_query_here\")\n",
        "```\n",
        "\n",
        "We'll see how thi works in practice in the next section.\n",
        "\n",
        "### Checking a Fact\n",
        "\n",
        "To check if a specific fact is true, you would write the query directly stating the fact. For instance, if you want to check if Buddy is a T-Rex, your query would be:"
      ],
      "metadata": {
        "id": "fE_RGrFScv-g"
      }
    },
    {
      "cell_type": "code",
      "source": [
        "query(\"is_trex(buddy)\")"
      ],
      "metadata": {
        "colab": {
          "base_uri": "https://localhost:8080/",
          "height": 36
        },
        "id": "QvPXVIWoc1wv",
        "outputId": "f33e72ca-043b-4106-fe24-e39291aa5db5"
      },
      "execution_count": null,
      "outputs": [
        {
          "output_type": "execute_result",
          "data": {
            "text/plain": [
              "'yes'"
            ],
            "application/vnd.google.colaboratory.intrinsic+json": {
              "type": "string"
            }
          },
          "metadata": {},
          "execution_count": 4
        }
      ]
    },
    {
      "cell_type": "markdown",
      "source": [
        "Here's what happens in this simple query:\n",
        "\n",
        "The string `\"is_trex(buddy)\"`our actual query.\n",
        "    -   `is_trex` is a predicate representing the concept of being a T-Rex.\n",
        "    -   `buddy` is the specific subject you're asking about in relation to the predicate.\n",
        "This expression is asking, \"Is the fact that Buddy is a T-Rex true according to the knowledge base?\" If it works, the answer should be \"yes\".\n",
        "\n",
        "On other hand, Shiny is not a trex:\n",
        "\n"
      ],
      "metadata": {
        "id": "w3Ycc0Lqc9lV"
      }
    },
    {
      "cell_type": "code",
      "source": [
        "query(\"is_trex(shiny)\")"
      ],
      "metadata": {
        "colab": {
          "base_uri": "https://localhost:8080/",
          "height": 36
        },
        "id": "PZJkFXVegnLJ",
        "outputId": "ce8076e9-654d-4b4c-d28e-504e0ecde276"
      },
      "execution_count": null,
      "outputs": [
        {
          "output_type": "execute_result",
          "data": {
            "text/plain": [
              "'yes'"
            ],
            "application/vnd.google.colaboratory.intrinsic+json": {
              "type": "string"
            }
          },
          "metadata": {},
          "execution_count": 5
        }
      ]
    },
    {
      "cell_type": "markdown",
      "source": [
        "### Retrieving Information\n",
        "\n",
        "If you want to retrieve specific information, like finding out who the children of Mrs. Pteranodon are, you use a variable in your query:"
      ],
      "metadata": {
        "id": "ZaN6zGFNgl8W"
      }
    },
    {
      "cell_type": "code",
      "source": [
        "query(\"parent(mrs_pteranodon, Child)\")"
      ],
      "metadata": {
        "colab": {
          "base_uri": "https://localhost:8080/"
        },
        "id": "HZNpHkF5c_3d",
        "outputId": "50ca5ebf-537b-4cd6-904a-c095eebe6fd7"
      },
      "execution_count": null,
      "outputs": [
        {
          "output_type": "execute_result",
          "data": {
            "text/plain": [
              "[{'Child': 'buddy'}, {'Child': 'tiny'}, {'Child': 'shiny'}, {'Child': 'don'}]"
            ]
          },
          "metadata": {},
          "execution_count": 6
        }
      ]
    },
    {
      "cell_type": "markdown",
      "source": [
        "Here, the string `\"parent(mrs_pteranodon, Child)\"` is your actual query.\n",
        "    -   `parent` is a predicate representing the parent-child relationship in your knowledge base.\n",
        "    -   `mrs_pteranodon` is the specific argument representing Mrs. Pteranodon. It's in lowercase, suggesting it's a specific entity (a constant) in your knowledge base.\n",
        "    -   `Child` is a **variable** (denoted by being capitalized) used to represent Mrs. Pteranodon's children, whose names you want to retrieve.\n",
        "\n",
        "The output is a list of dictionaries. Each dictionary in the list corresponds to a separate fact in the knowledge base that matches the query.\n",
        "- `'Child'` is the key in each dictionary, which corresponds to the variable used in your query.\n",
        "- The values associated with this key ('buddy', 'tiny', 'shiny', 'don') are the specific names of Mrs. Pteranodon's children as per the facts stored in your knowledge base.\n"
      ],
      "metadata": {
        "id": "VumZcnuLhUeN"
      }
    },
    {
      "cell_type": "markdown",
      "source": [
        "## Introducing Rules in Prolog\n",
        "In Prolog, **rules** are logical constructs that allow you to derive new information from existing facts. They are essentially conditional statements that describe relationships or patterns within your data. Understanding how to define and use rules is crucial for leveraging the full power of logic programming in Pytholog.\n",
        "\n",
        "A rule in Prolog consists of a head and a body, with the following syntax:\n",
        "\n",
        "```\n",
        "head :- body.\n",
        "```\n",
        "\n",
        "-   The **head** is the conclusion or the outcome of the rule. It's what you can infer if the conditions in the body are met.\n",
        "-   The **body** contains the conditions that need to be true for the head to be inferred. The body can contain one or more predicates, connected by commas (which act as logical AND operators).\n"
      ],
      "metadata": {
        "id": "jqHd1dCvjsQf"
      }
    },
    {
      "cell_type": "markdown",
      "source": [
        "### Writing Rules: Siblings and Grandparents Example\n",
        "\n",
        "Let's illustrate this with two basic examples: defining who are siblings and who are grandparents.\n",
        "\n",
        "The sibling relationship can be defined by stating that two individuals are siblings if they share at least one parent. In Pytholog, this can be expressed as:\n",
        "\n",
        "```prolog\n",
        "sibling(X, Y) :- parent(Z, X), parent(Z, Y), X \\= Y.\n",
        "```\n",
        "\n",
        "Breaking down the syntax:\n",
        "\n",
        "-   The head is `sibling(X, Y)`. It states that X and Y are siblings. X and Y are variables that will be matched against the facts in the knowledge base.\n",
        "-   The body body is `parent(Z, X), parent(Z, Y), X \\= Y`. This s the condition for the sibling relationship. It states that there must be a parent Z who is a parent of both X and Y, and X and Y should not be the same individual (ensuring that a person is not considered a sibling of themselves).\n",
        "-  The commas in the body act like logical AND operators, meaning all conditions must be true for the rule to apply.\n",
        "\n",
        "\n",
        "#### Grandparent Rule\n",
        "\n",
        "Similarly, we can define a rule for identifying grandparents:\n",
        "\n",
        "```prolog\n",
        "grandparent(X, Y) :- parent(X, Z), parent(Z, Y).\n",
        "```\n",
        "\n",
        "-   The head `grandparent(X, Y)`  declares that X is a grandparent of Y.\n",
        "-   The body`parent(X, Z), parent(Z, Y)` states that X must be a parent of Z, and Z must be a parent of Y.\n",
        "\n",
        "Let's go ahead and add these to our knowledge base."
      ],
      "metadata": {
        "id": "-hMlLWK0kcoX"
      }
    },
    {
      "cell_type": "code",
      "source": [
        "pl.assertz(\"sibling(X, Y) :- parent(Z, X), parent(Z, Y), X \\= Y\")\n",
        "pl.assertz(\"grandparent(X, Y) :- parent(X, Z), parent(Z, Y)\")"
      ],
      "metadata": {
        "id": "6sNQWN0RhkJA"
      },
      "execution_count": null,
      "outputs": []
    },
    {
      "cell_type": "markdown",
      "source": [
        "## Sample Queries\n",
        "Now that we have constructed our knowledge base, let's use it to construct some queries and learn more about what we can do with Prolog!\n",
        "\n",
        "### Sample Query 1: Identifying Siblings of Buddy\n",
        "\n",
        "This query aims to find out who are the siblings of 'Buddy'. Since we have defined the rule for siblings (`sibling(X, Y)`), we can use this to query the knowledge base. The strategy is straightforward: we look for all instances where 'Buddy' is one sibling (X), and the query will return the other sibling (Y)."
      ],
      "metadata": {
        "id": "8Si1BVABsTnC"
      }
    },
    {
      "cell_type": "code",
      "source": [
        "query(\"sibling(buddy, X)\")"
      ],
      "metadata": {
        "id": "MHIIrzPlsX3z",
        "outputId": "4e9d9612-3e66-42e5-9405-c14841638b71",
        "colab": {
          "base_uri": "https://localhost:8080/"
        }
      },
      "execution_count": null,
      "outputs": [
        {
          "output_type": "execute_result",
          "data": {
            "text/plain": [
              "[{'X': 'tiny'},\n",
              " {'X': 'shiny'},\n",
              " {'X': 'don'},\n",
              " {'X': 'tiny'},\n",
              " {'X': 'shiny'},\n",
              " {'X': 'don'}]"
            ]
          },
          "metadata": {},
          "execution_count": 8
        }
      ]
    },
    {
      "cell_type": "markdown",
      "source": [
        "You might notice each sibling name occurs twice. This represents a common occurrence in Prolog, and exploring why it happens can help us understand more about how Prolog solves problems by the process of \"unification.\"\n",
        "\n",
        "**Unification** in Prolog is a process where two terms are made identical by systematically finding and applying variable bindings. In your query \"sibling(buddy, X)\", Prolog tries to unify this query with the facts in the knowledge base to find all instances where 'Buddy' is a sibling of some 'X'.\n",
        "\n",
        "The reason for the duplication lies in how siblings are implicitly defined in your knowledge base. Since you have facts about parent-child relationships, siblings are inferred based on having common parents. For instance, if 'Buddy' and 'Tiny' share both parents, they are siblings. However, this relationship is bidirectional -- 'Buddy' is a sibling of 'Tiny', and 'Tiny' is a sibling of 'Buddy'.\n",
        "\n",
        "When you run the query, Prolog unifies it twice for each sibling pair due to this bidirectional nature. First, it finds that 'Buddy' and 'Tiny' are siblings because they share the same parents, fulfilling the query \"sibling(buddy, X)\" with 'X' being 'Tiny'. Then, it also finds the reverse, where 'Tiny' and 'Buddy' are siblings, again fulfilling the query with 'X' being 'Buddy'. This process repeats for each sibling pair, resulting in each name appearing twice."
      ],
      "metadata": {
        "id": "5WC2z86XgKw9"
      }
    },
    {
      "cell_type": "markdown",
      "source": [
        "### Sample Query 2: Getting Dino's Ages\n",
        "Let's get a list of Dinosaurs who are less than 10 years old."
      ],
      "metadata": {
        "id": "SrHeUKFh2ylC"
      }
    },
    {
      "cell_type": "code",
      "source": [
        "query(\"age(X, Y), Y < 10\")"
      ],
      "metadata": {
        "id": "48Cys2Sl2xdg",
        "outputId": "2e548efe-37ae-4cdb-ffad-4f5dc3826784",
        "colab": {
          "base_uri": "https://localhost:8080/"
        }
      },
      "execution_count": null,
      "outputs": [
        {
          "output_type": "execute_result",
          "data": {
            "text/plain": [
              "[{'X': 'tiny', 'Y': 5},\n",
              " {'X': 'shiny', 'Y': 6},\n",
              " {'X': 'buddy', 'Y': 6},\n",
              " {'X': 'don', 'Y': 7}]"
            ]
          },
          "metadata": {},
          "execution_count": 9
        }
      ]
    },
    {
      "cell_type": "markdown",
      "source": [
        "Here's how this query breaks down.\n",
        "-   `age(X, Y)`: This part of the query is asking Prolog to match the 'age' facts in the knowledge base. 'X' is a variable representing the name of a dinosaur, and 'Y' is a variable representing the age of that dinosaur. Prolog will look through all facts in the knowledge base that match the pattern `age(som\n",
        "-   `Y < 10`: This is a condition that filters the results of the query. It tells Prolog to only consider those cases where the age 'Y' is less than 10.\n",
        "\n",
        "When the query is executed, Prolog performs the following steps:\n",
        "\n",
        "1.  It searches the knowledge base for all facts that match the pattern `age(X, Y)`.\n",
        "2.  For each fact found, it checks if the age 'Y' is less than 10.\n",
        "3.  If the age is less than 10, it includes that fact in the result set."
      ],
      "metadata": {
        "id": "lvj3Vr3x3uvF"
      }
    },
    {
      "cell_type": "markdown",
      "source": [
        "### Sample Query 3: Get Gina's Grandchildren\n",
        "Let's now determine who Gina's Grandchildren are."
      ],
      "metadata": {
        "id": "hP7llvV5gM8T"
      }
    },
    {
      "cell_type": "code",
      "source": [
        "# Get Gina's grandchildren\n",
        "query(\"grandparent(gina,X)\")"
      ],
      "metadata": {
        "colab": {
          "base_uri": "https://localhost:8080/"
        },
        "id": "l-NO53srgV3g",
        "outputId": "bbedaea0-827e-4b67-e89d-54bf1ebe8051"
      },
      "execution_count": null,
      "outputs": [
        {
          "output_type": "execute_result",
          "data": {
            "text/plain": [
              "[{'X': 'buddy'}, {'X': 'tiny'}, {'X': 'shiny'}, {'X': 'don'}]"
            ]
          },
          "metadata": {},
          "execution_count": 10
        }
      ]
    },
    {
      "cell_type": "markdown",
      "source": [
        "In this query, we are looks for any X (a variable) such that Gina is that dino's grandparent. We end up with four results (as expected).\n",
        "\n",
        "We could further restrict this query, for example, by retrieving ONLY her grandchildren that are exactly 6 years old. In order to this, we'll need to TWO different conditions and join them with a `,` (this means AND in Prolog)."
      ],
      "metadata": {
        "id": "EVxTacLogcX5"
      }
    },
    {
      "cell_type": "code",
      "source": [
        "query(\"grandparent(gina, X),age(X,6)\")"
      ],
      "metadata": {
        "colab": {
          "base_uri": "https://localhost:8080/"
        },
        "id": "VIh-BYrCg85B",
        "outputId": "3317ff46-ee2b-40bd-b1d5-53ae601733d1"
      },
      "execution_count": null,
      "outputs": [
        {
          "output_type": "execute_result",
          "data": {
            "text/plain": [
              "[{'X': 'buddy'}, {'X': 'shiny'}]"
            ]
          },
          "metadata": {},
          "execution_count": 11
        }
      ]
    },
    {
      "cell_type": "markdown",
      "source": [
        "This queries looks for any X a variable that is BOTH a grandchild of Gina's AND is exactly 6 years old.\n",
        "\n",
        "In other variation of the query, we might look only for her grandchildren who are pteranodon's (which should be all of them except Buddy, who is a t-rex)."
      ],
      "metadata": {
        "id": "n-7519WQhFxR"
      }
    },
    {
      "cell_type": "code",
      "source": [
        "query(\"grandparent(gina, X), is_pteranodon(X)\")"
      ],
      "metadata": {
        "colab": {
          "base_uri": "https://localhost:8080/"
        },
        "id": "SxD4WKwmhgFu",
        "outputId": "cd2e8cb1-2dae-4503-c439-bdbabc116cca"
      },
      "execution_count": null,
      "outputs": [
        {
          "output_type": "execute_result",
          "data": {
            "text/plain": [
              "[{'X': 'tiny'}, {'X': 'shiny'}, {'X': 'don'}]"
            ]
          },
          "metadata": {},
          "execution_count": 12
        }
      ]
    },
    {
      "cell_type": "markdown",
      "source": [
        "### Sample Query 4: What Do We Have in Common?\n",
        "Let's suppose we want to determine which parents Tiny and Shiny have in common. (In this case, they have both parents in common, but we could easily construct a knowledge base where this isn't the case). We can express this query as follows:"
      ],
      "metadata": {
        "id": "Y29aaekbhpF_"
      }
    },
    {
      "cell_type": "code",
      "source": [
        "query(\"parent(X,tiny),parent(X,shiny)\")"
      ],
      "metadata": {
        "colab": {
          "base_uri": "https://localhost:8080/"
        },
        "id": "-NVUOdUKi2jz",
        "outputId": "61aff895-cf18-47ba-abd7-d0b7af07a604"
      },
      "execution_count": null,
      "outputs": [
        {
          "output_type": "execute_result",
          "data": {
            "text/plain": [
              "[{'X': 'mrs_pteranodon'}, {'X': 'mr_pteranodon'}]"
            ]
          },
          "metadata": {},
          "execution_count": 13
        }
      ]
    },
    {
      "cell_type": "markdown",
      "source": [
        "We could do the same thing for grandparents as follows:"
      ],
      "metadata": {
        "id": "kR_x7-3Vi-7g"
      }
    },
    {
      "cell_type": "code",
      "source": [
        "query(\"grandparent(X,tiny),grandparent(X,shiny)\")"
      ],
      "metadata": {
        "colab": {
          "base_uri": "https://localhost:8080/"
        },
        "id": "Wg7Db_jMjDt2",
        "outputId": "6abf0f53-f070-467e-d44c-c99991b07fb5"
      },
      "execution_count": null,
      "outputs": [
        {
          "output_type": "execute_result",
          "data": {
            "text/plain": [
              "[{'X': 'gina'}]"
            ]
          },
          "metadata": {},
          "execution_count": 14
        }
      ]
    },
    {
      "cell_type": "markdown",
      "source": [
        "### Sample Query 4: Parents OR Grandparents\n",
        "Let's suppose we want to get a list that includes both Don's parents and his grandparents. Our first thought might be to use AND (,) like this:"
      ],
      "metadata": {
        "id": "L101Z-JujJ3d"
      }
    },
    {
      "cell_type": "code",
      "source": [
        "query(\"parent(X,don),grandparent(X,don)\")"
      ],
      "metadata": {
        "colab": {
          "base_uri": "https://localhost:8080/",
          "height": 36
        },
        "id": "WPIcfaiskh5G",
        "outputId": "ffbc04d9-8754-4371-afca-8923703ce818"
      },
      "execution_count": null,
      "outputs": [
        {
          "output_type": "execute_result",
          "data": {
            "text/plain": [
              "'yes'"
            ],
            "application/vnd.google.colaboratory.intrinsic+json": {
              "type": "string"
            }
          },
          "metadata": {},
          "execution_count": 15
        }
      ]
    },
    {
      "cell_type": "markdown",
      "source": [
        "This wasn't what we were looking for! It turns out we need to use an \"OR\" instead of an AND for this, since we want to get dinos that are either parents OR grandparents. In prolog, we use a semicolon (;) to express this."
      ],
      "metadata": {
        "id": "Qhy5HrqLkzau"
      }
    },
    {
      "cell_type": "code",
      "source": [
        "query(\"parent(X,don);grandparent(X,don)\")"
      ],
      "metadata": {
        "colab": {
          "base_uri": "https://localhost:8080/"
        },
        "id": "GQXAz57lkJ-w",
        "outputId": "34c56969-6e62-437e-af0b-0722a052e06c"
      },
      "execution_count": null,
      "outputs": [
        {
          "output_type": "execute_result",
          "data": {
            "text/plain": [
              "[{'X': 'mrs_pteranodon'}, {'X': 'mr_pteranodon'}, {'X': 'gina'}]"
            ]
          },
          "metadata": {},
          "execution_count": 16
        }
      ]
    },
    {
      "cell_type": "markdown",
      "source": [
        "### Sample Query 5: Leaving Things Out\n",
        "In many cases, we want to make sure our results do NOT include certain items. We can do this with the Prolog operator for \"not equals to\" (`\\=`). For example, we can get a list of all pterondons EXCEPT Shiny like this:"
      ],
      "metadata": {
        "id": "JmZ29TkpzMRs"
      }
    },
    {
      "cell_type": "code",
      "source": [
        "query(\"is_pteranodon(X),X\\=tiny\")"
      ],
      "metadata": {
        "colab": {
          "base_uri": "https://localhost:8080/"
        },
        "id": "igvrjCcJzywz",
        "outputId": "8420921c-4ff6-400a-c366-f3329c0710af"
      },
      "execution_count": null,
      "outputs": [
        {
          "output_type": "execute_result",
          "data": {
            "text/plain": [
              "[{'X': 'shiny'},\n",
              " {'X': 'don'},\n",
              " {'X': 'gina'},\n",
              " {'X': 'mrs_pteranodon'},\n",
              " {'X': 'mr_pteranodon'}]"
            ]
          },
          "metadata": {},
          "execution_count": 18
        }
      ]
    },
    {
      "cell_type": "markdown",
      "source": [
        "### Table: Even More Prolog Queries\n",
        "Here's a table looking at some other queries:\n",
        "\n",
        "| Prolog Query | Description |\n",
        "| --- | --- |\n",
        "| is_trex(buddy) | Checks if 'Buddy' is a T-Rex. |\n",
        "| age(buddy, X) | Retrieves the age of 'Buddy'. |\n",
        "| parent(mrs_pteranodon, X) | Finds all children of 'Mrs. Pteranodon'. |\n",
        "| is_pteranodon(X) | Lists all individuals who are Pteranodons. |\n",
        "| parent(X, buddy) | Finds all parents of 'Buddy'. |\n",
        "| age(X, 6) | Retrieves all individuals who are 6 years old. |\n",
        "| parent(mrs_pteranodon, X), is_trex(X) | Finds all children of 'Mrs. Pteranodon' who are T-Rexes. |\n",
        "| parent(X, buddy), parent(X, tiny) | Finds common parents of 'Buddy' and 'Tiny'. |\n",
        "| is_pteranodon(X), age(X, Y), Y > 5 | Lists Pteranodons who are older than 5 years. |\n",
        "| parent(gina, X), parent(X, buddy) | Identifies the grandparent of 'Buddy' on the paternal side. |\n",
        "| parent(X, Y), parent(X, Z), Y = Z | Finds all pairs of siblings (Y and Z) sharing a common parent. |\n",
        "| age(X, A), age(Y, B), A = B, X = Y | Finds all pairs of different individuals (X and Y) who are the same age. |\n",
        "| is_pteranodon(X), X \\= tiny | Finds all Pteradons except 'Tiny'. |\n",
        "| age(X, Y), \\+ (age(_, Z), Z > Y) | Finds the oldest dinosaur (max age). |\n",
        "| age(X, Y), \\+ (age(_, Z), Z < Y) | Finds the youngest dinosaur (min age). |\n",
        "\n"
      ],
      "metadata": {
        "id": "mqGIYpado0ui"
      }
    },
    {
      "cell_type": "markdown",
      "source": [
        "## Why Prolog?\n",
        "Fictional Dinosaurs aside, Prolog's most significant applications have been in AI, particularly in the fields of symbolic reasoning, natural language processing, and expert systems. Symbolic reasoning involves solving problems using symbols and logic rather than numbers, making Prolog ideal for tasks like theorem proving and problem-solving in AI. In natural language processing, Prolog's ability to handle complex linguistic structures makes it suitable for developing programs that understand and interpret human languages.\n",
        "\n",
        "In the realm of expert systems, which are computer programs that mimic the decision-making ability of a human expert, Prolog has been particularly influential. These systems use a knowledge base of facts and rules to make inferences and decisions. For example, in medical diagnosis, an expert system can suggest diagnoses based on symptoms by using a Prolog knowledge base that encodes medical knowledge.\n",
        "\n",
        "More recently, tere have been recent efforts to be able to “combine” a version of Prolog’s “rule-based approach” to solving problems with the “neural network” or \"machine learning\" approach used by ChatGPT, Google Bard, Dall-E, and other types of “generative AI.”  Such a system could, theoretically, rival human capabilities in many different areas. (However, it is tougher than it sounds to build such a system).\n"
      ],
      "metadata": {
        "id": "yPBMBUQ62vC3"
      }
    },
    {
      "cell_type": "markdown",
      "source": [
        "## Activity: Programming with Dinos\n",
        "For this activity, we are going to add to our Prolog knowledge base some knolwedge inspired by the iconic early '90s TV show, \"Dinosaurs.\" If you're unfamiliar with the show, it was a unique family sitcom featuring life-size puppets and animatronics to portray a family of anthropomorphic dinosaurs. The show humorously blended contemporary culture and prehistoric settings, offering a satirical take on modern life through the lens of a dinosaur family, the Sinclairs.\n",
        "\n",
        "In this knowledge base, we've encapsulated key aspects of the show's main characters and their world, translating them into a format that can be explored and queried using Prolog, a logic programming language. Here's a brief overview of what the knowledge base includes:\n",
        "\n",
        "1. Each character is associated with a specific type of dinosaur species, like Megalosaurus or Triceratops.\n",
        "2. To add a dimension of realism, fictional heights in meters are assigned to each character, reflecting the diversity in size that one might expect in a world of dinosaurs.\n",
        "3. Family dynamics play a crucial role in the show. The knowledge base outlines the parent-child relationships within the Sinclair family and beyond, offering insights into the family structure.\n",
        "4. Each character has hobbies such as virtual reality gaming, blogging, or e-sports.\n",
        "5. A simple rule categorizes characters as 'carnivore' or 'herbivore' based on their species.."
      ],
      "metadata": {
        "id": "cbCnliIxtgYy"
      }
    },
    {
      "cell_type": "code",
      "source": [
        "#Species Facts\n",
        "pl.assertz(\"species(earl, megalosaurus)\")\n",
        "pl.assertz(\"species(fran, allosaurus)\")\n",
        "pl.assertz(\"species(robbie, hypsilophodon)\")\n",
        "pl.assertz(\"species(charlene, protoceratops)\")\n",
        "pl.assertz(\"species(baby, megalosaurus)\")\n",
        "pl.assertz(\"species(ethyl, edmontonia)\")\n",
        "\n",
        "# Height Facts (in meters)\n",
        "pl.assertz(\"height_m(earl, 2.5)\")\n",
        "pl.assertz(\"height_m(fran, 2.3)\")\n",
        "pl.assertz(\"height_m(robbie, 2.1)\")\n",
        "pl.assertz(\"height_m(charlene, 2.0)\")\n",
        "pl.assertz(\"height_m(baby, 1.0)\")\n",
        "pl.assertz(\"height_m(ethyl, 1.5)\")\n",
        "\n",
        "# Parent-Child Relationship Facts\n",
        "pl.assertz(\"parent(earl, robbie)\")\n",
        "pl.assertz(\"parent(earl, charlene)\")\n",
        "pl.assertz(\"parent(earl, baby)\")\n",
        "pl.assertz(\"parent(fran, robbie)\")\n",
        "pl.assertz(\"parent(fran, charlene)\")\n",
        "pl.assertz(\"parent(fran, baby)\")\n",
        "pl.assertz(\"parent(fran, baby)\")\n",
        "pl.assertz(\"parent(ethyl, fran)\")\n",
        "\n",
        "# Hobbies Facts\n",
        "pl.assertz(\"hobby(earl, virtual_reality_gaming)\")\n",
        "pl.assertz(\"hobby(robbie, blogging)\")\n",
        "pl.assertz(\"hobby(charlene, social_media)\")\n",
        "pl.assertz(\"hobby(baby, unboxing_videos)\")\n",
        "pl.assertz(\"hobby(robbie, drone_racing)\")\n",
        "pl.assertz(\"hobby(baby, blogging)\")\n",
        "\n",
        "# Diet Rule based on Species\n",
        "pl.assertz(\"diet(X, carnivore) :- species(X, megalosaurus); species(X, allosaurus)\")\n",
        "pl.assertz(\"diet(X, herbivore) :- species(X, hypsilophodon); species(X, protoceratops)\")\n",
        "\n",
        "# Remember we already have rules for grandpaents and siblings!\n",
        "# pl.assertz(\"sibling(X, Y) :- parent(Z, X), parent(Z, Y), X \\= Y\")\n",
        "# pl.assertz(\"grandparent(X, Y) :- parent(X, Z), parent(Z, Y)\")\n"
      ],
      "metadata": {
        "id": "BRcIR19YuFjf"
      },
      "execution_count": null,
      "outputs": []
    },
    {
      "cell_type": "markdown",
      "source": [
        "Your job is to write queries to answer the following questions. Each questions is in Python \"comment\" following by a query you need to fill in."
      ],
      "metadata": {
        "id": "1dfgem8EukIs"
      }
    },
    {
      "cell_type": "code",
      "source": [
        "# Exercise 1: Find the species of Robbie\n",
        "# Hint: Use the species predicate to find Robbie's species\n",
        "query(\"Your query\")"
      ],
      "metadata": {
        "id": "90Ul1L5zxc6u"
      },
      "execution_count": null,
      "outputs": []
    },
    {
      "cell_type": "code",
      "source": [
        "# Exercise 2: List all dinosaurs taller than 2 meters\n",
        "# Hint: Use the height_m predicate and a comparison operator\n",
        "query(\"Your query\")"
      ],
      "metadata": {
        "id": "CfvUeUrMxfpm"
      },
      "execution_count": null,
      "outputs": []
    },
    {
      "cell_type": "code",
      "source": [
        "# Exercise 3: Find out who are Earl's children\n",
        "# Hint: Use the parent predicate to find Earl's children\n",
        "query(\"Your query\")\n"
      ],
      "metadata": {
        "id": "TA5nCFUMxjjn"
      },
      "execution_count": null,
      "outputs": []
    },
    {
      "cell_type": "code",
      "source": [
        "# Exercise 4: Identify the hobbies of Charlene\n",
        "# Hint: Use the hobby predicate to find Charlene's hobbies\n",
        "query(\"Your query\")\n"
      ],
      "metadata": {
        "id": "4aFmLwqyxmI_"
      },
      "execution_count": null,
      "outputs": []
    },
    {
      "cell_type": "code",
      "source": [
        "# Exercise 5: Determine which dinosaurs are herbivores\n",
        "# Hint: Use the diet rule and the species predicate\n",
        "query(\"Your query\")"
      ],
      "metadata": {
        "id": "rl-gzXj4xpGH"
      },
      "execution_count": null,
      "outputs": []
    },
    {
      "cell_type": "code",
      "source": [
        "# Exercise 6: Find out if Earl and Fran have a common child\n",
        "# Hint: Use the parent predicate for both Earl and Fran\n",
        "query(\"Your query\")\n"
      ],
      "metadata": {
        "id": "wAf_J8qexr9C"
      },
      "execution_count": null,
      "outputs": []
    },
    {
      "cell_type": "code",
      "source": [],
      "metadata": {
        "id": "spPyIj12x5gL"
      },
      "execution_count": null,
      "outputs": []
    },
    {
      "cell_type": "code",
      "source": [
        "# Exercise 7: Identify all the grandparents in the family\n",
        "# Hint: Use the grandparent rule\n",
        "query(\"Your query\")"
      ],
      "metadata": {
        "id": "WCOweGfQxu25"
      },
      "execution_count": null,
      "outputs": []
    },
    {
      "cell_type": "code",
      "source": [
        "# Exercise 8: Find out who shares a hobby with Robbie\n",
        "# Hint: Use the hobby predicate for both Robbie and another dinosaur\n",
        "query(\"Your query\")\n"
      ],
      "metadata": {
        "id": "4rWQs-wyxx0R"
      },
      "execution_count": null,
      "outputs": []
    },
    {
      "cell_type": "code",
      "source": [
        "# Exercise 9: List all siblings in the knowledge base\n",
        "# Hint: Use the sibling rule\n",
        "query(\"Your query\")"
      ],
      "metadata": {
        "id": "DJRNyhTyx1hi"
      },
      "execution_count": null,
      "outputs": []
    }
  ]
}