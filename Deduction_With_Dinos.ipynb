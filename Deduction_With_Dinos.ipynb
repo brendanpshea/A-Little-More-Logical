{
  "nbformat": 4,
  "nbformat_minor": 0,
  "metadata": {
    "colab": {
      "provenance": [],
      "authorship_tag": "ABX9TyO3582X5MVYpdnKrfJwJHRL",
      "include_colab_link": true
    },
    "kernelspec": {
      "name": "python3",
      "display_name": "Python 3"
    },
    "language_info": {
      "name": "python"
    }
  },
  "cells": [
    {
      "cell_type": "markdown",
      "metadata": {
        "id": "view-in-github",
        "colab_type": "text"
      },
      "source": [
        "<a href=\"https://colab.research.google.com/github/brendanpshea/logic-prolog/blob/main/Deduction_With_Dinos.ipynb\" target=\"_parent\"><img src=\"https://colab.research.google.com/assets/colab-badge.svg\" alt=\"Open In Colab\"/></a>"
      ]
    },
    {
      "cell_type": "markdown",
      "source": [
        "## What is the History of Formal Logic?\n",
        "\n",
        "**Formal logic**, the systematic study of valid deductive inference, has ahistory that dates back to ancient civilizations. It primarily involves the analysis of arguments, where an argument is a set of statements or propositions, with one or more premises leading to a conclusion. Formal logic provides a framework to evaluate whether a given deductive argument is **valid,** meaning that the the truth of the premises guarantees the truth of the conclusion. (In other words, in a valid arguments, IF the premises are true, then conclusion must be true as well. The only possible way to have a false conclusion would be to have false premises.)\n",
        "\n",
        "The journey of formal logic begins with Aristotelian logic or **categorical logic**, developed by Aristotle in Ancient Greece. This was the first systematic study of the principles of valid argument and deduction. In this version of formal logic, different categories are related through quantifiers like 'all', 'some', or 'none'. For example, \"All mammals are animals\" is a categorical proposition.\n",
        "\n",
        "In the late medieval period, scholars like Peter Abelard and William of Ockham expanded on Aristotelian logic. The Renaissance and later periods saw a gradual shift towards mathematical logic, which sought greater precision and symbolic representation.\n",
        "\n",
        "The 19th and 20th centuries marked significant advancements with the development of propositional logic and predicate logic. **Propositional** logic, also known as sentential logic, deals with sentences that can be true or false but does not involve the internal structure of the sentences. It operates using logical connectives like 'and', 'or', 'not', and 'if... then...'.\n",
        "\n",
        "Gottlob Frege, a German mathematician, logician, and philosopher, is often credited with being the father of modern logic, especially for his work on predicate logic, which extended the scope of logic to include quantifiers and predicates, allowing for more complex and abstract formulations. We'll have more to say about predicate logic in a later section.\n",
        "\n",
        "### Example: Formal Deductive Logic in the World of Dinosaurs\n",
        "\n",
        "Imagine a world where different species of dinosaurs coexist, much like in the \"Jurassic Park\" series or \"The Land Before Time\". Using the principles of categorical logic, we could form statements like:\n",
        "\n",
        "-   \"All Velociraptors are carnivorous.\"\n",
        "-   \"Some dinosaurs are herbivores.\"\n",
        "\n",
        "In propositional logic, we might encounter scenarios such as:\n",
        "\n",
        "-   \"If it is a T-Rex, then it is dangerous.\"\n",
        "-   \"Either the Brachiosaurus is near the lake or the Triceratops is in the forest.\"\n",
        "\n",
        "Each of these statements, rooted in the principles of formal logic, reflects how logical structures can be applied to any domain -- even a fantastical one like that of dinosaurs -- to analyze relationships, characteristics, and scenarios in a clear, precise, and logical manner."
      ],
      "metadata": {
        "id": "cpDF-zSKeM5J"
      }
    },
    {
      "cell_type": "markdown",
      "source": [
        "## Logical Connectives and Truth Tables\n",
        "\n",
        "Logical connectives are fundamental tools in propositional and predicate logic, used to combine or alter statements to form more complex expressions. Understanding these connectives is crucial, and truth tables are a valuable tool for this. They list all possible combinations of truth values for logical variables (True or False) and show the result of the operation.\n",
        "\n",
        "### AND (Conjunction)\n",
        "\n",
        "- Symbol: $∧$\n",
        "- Description: $P ∧ Q$ is True only if both P and Q are True.\n",
        "- Truth Table for AND:\n",
        "\n",
        "| P | Q | P ∧ Q |\n",
        "|---|---|-------|\n",
        "| True | True | True |\n",
        "| True | False | False |\n",
        "| False | True | False |\n",
        "| False | False | False |\n",
        "\n",
        "- Example 1: If P represents \"Dino roars\" (True) and Q represents \"Dino has teeth\" (True), then P ∧ Q (Dino roars AND Dino has teeth) is True.\n",
        "- Example 2: If P is True (Dino roars) and Q is False (Dino is sleeping), then P ∧ Q (Dino roars AND Dino is sleeping) is False.\n",
        "\n",
        "### OR (Disjunction)\n",
        "- Symbol: $\\vee$\n",
        "- Description: $P \\vee Q$ is True only if both P and Q are True.\n",
        "- Truth Table for OR:\n",
        "\n",
        "| P | Q | P ∨ Q |\n",
        "|---|---|-------|\n",
        "| True | True | True |\n",
        "| True | False | True |\n",
        "| False | True | True |\n",
        "| False | False | False |\n",
        "\n",
        "- Example 1: If P represents \"Dino roars\" (True) and Q represents \"Dino has teeth\" (True), then P ∨ Q (Dino roars OR Dino has teeth) is True.\n",
        "- Example 2: If P is False (Dino is quiet) and Q is False (Dino is sleeping), then P ∨ Q (Dino is quiet OR Dino is sleeping) is False.\n",
        "\n",
        "### NOT (Negation)\n",
        "- Symbol: $\\neg$\n",
        "- Description:$\\neg P$ is True if and only if $P$ is False.\n",
        "- Truth Table for NOT:\n",
        "\n",
        "| P | ¬P |\n",
        "|---|---|\n",
        "| True | False |\n",
        "| False | True |\n",
        "\n",
        "- Example 1: If P represents \"Dino roars\" (True), then ¬P (¬Dino roars, i.e., Dino is not roaring) is False.\n",
        "- Example 2: If P is False (Dino is quiet), then ¬P (¬Dino is quiet, i.e., Dino is not quiet) is True.\n",
        "\n",
        "### IF-THEN (Implication)\n",
        "- Symbol: $→$\n",
        "- Description: $P \\rightarrow Q$ is False only when the $P$ is True and the $Q$ is False.\n",
        "- Truth Table for IF-THEN:\n",
        "\n",
        "| P | Q | P → Q |\n",
        "|---|---|-------|\n",
        "| True | True | True |\n",
        "| True | False | False |\n",
        "| False | True | True |\n",
        "| False | False | True |\n",
        "\n",
        "- Example 1: If P represents \"Dino roars\" (True) and Q represents \"Ground shakes\" (True), then P → Q (If Dino roars, THEN Ground shakes) is True.\n",
        "- Example 2: If P is True (Dino roars) and Q is False (No ground shake), then P → Q (If Dino roars, THEN No ground shake) is False.\n",
        "\n",
        "These logical connectives and their truth tables form the basis for all deductive inference. They are also at the heart of the way modern computers \"work\", both at the physical level (where series of transistors are made into \"logic gates\" that allow them to do deductive inference) and the level of \"computer programming\" (where the logical connectives are used to control how computers \"make decisions.\").\n"
      ],
      "metadata": {
        "id": "tqklDMcEVKRA"
      }
    },
    {
      "cell_type": "markdown",
      "source": [
        "## Logical Connectives and Truth Tables\n",
        "\n",
        "Logical connectives are fundamental tools in propositional and predicate logic, used to combine or alter statements to form more complex expressions. Understanding these connectives is crucial, and truth tables are a valuable tool for this. They list all possible combinations of truth values for logical variables (true (T) or false (F)) and show the result of the operation.\n",
        "\n",
        "### AND (Conjunction)\n",
        "\n",
        "- Symbols: ∧\n",
        "- Description: True only if both operands are true.\n",
        "- Truth Table for AND:\n",
        "\n",
        "| P                  | Q                   | P ∧ Q               |\n",
        "| ------------------ | ------------------- | ------------------- |\n",
        "| T (Dino roars)     | T (Dino has teeth) | T (Dino roars ∧ Dino has teeth) |\n",
        "| T (Dino roars)     | F (Dino is sleeping) | F (Dino roars ∧ Dino is sleeping) |\n",
        "| F (Dino is quiet)  | T (Dino has teeth) | F (Dino is quiet ∧ Dino has teeth) |\n",
        "| F (Dino is quiet)  | F (Dino is sleeping) | F (Dino is quiet ∧ Dino is sleeping) |\n",
        "\n",
        "- Example 1: If P represents \"Dino roars\" (true) and Q represents \"Dino has teeth\" (true), then P ∧ Q (Dino roars AND Dino has teeth) is true.\n",
        "- Example 2: If P is true (Dino roars) and Q is false (Dino is sleeping), then P ∧ Q (Dino roars AND Dino is sleeping) is false.\n",
        "\n",
        "### OR (Disjunction)\n",
        "- Symbol: ∨\n",
        "- Description: True if at least one of the operands is true.\n",
        "- Truth Table for OR:\n",
        "\n",
        "| P                  | Q                   | P ∨ Q               |\n",
        "| ------------------ | ------------------- | ------------------- |\n",
        "| T     | T (Dino has teeth) | T (Dino roars ∨ Dino has teeth) |\n",
        "| T      | F (Dino is sleeping) | T (Dino roars ∨ Dino is sleeping) |\n",
        "| F   | T (Dino has teeth) | T (Dino is quiet ∨ Dino has teeth) |\n",
        "| F (Dino is quiet)  | F (Dino is sleeping) | F (Dino is quiet ∨ Dino is sleeping) |\n",
        "\n",
        "- Example 1: If P represents \"Dino roars\" (true) and Q represents \"Dino has teeth\" (true), then P ∨ Q (Dino roars OR Dino has teeth) is true.\n",
        "- Example 2: If P is false (Dino is quiet) and Q is false (Dino is sleeping), then P ∨ Q (Dino is quiet OR Dino is sleeping) is false.\n",
        "\n",
        "### NOT (Negation)\n",
        "- Symbol: ¬\n",
        "- Description: Inverts the truth value of its operand.\n",
        "- Truth Table for NOT:\n",
        "\n",
        "| P                  | ¬P                  |\n",
        "| ------------------ | ------------------- |\n",
        "| T (Dino roars)     | F (¬Dino roars)     |\n",
        "| F (Dino is quiet)  | T (¬Dino is quiet)  |\n",
        "\n",
        "- Example 1: If P represents \"Dino roars\" (true), then ¬P (¬Dino roars, i.e., Dino is not roaring) is false.\n",
        "- Example 2: If P is false (Dino is quiet), then ¬P (¬Dino is quiet, i.e., Dino is not quiet) is true.\n",
        "\n",
        "### IF-THEN (Implication)\n",
        "- Symbol: →\n",
        "- Description: False only when the first operand is true and the second operand is false.\n",
        "- Truth Table for IF-THEN:\n",
        "\n",
        "| P                  | Q                   | P → Q               |\n",
        "| ------------------ | ------------------- | ------------------- |\n",
        "| T (Dino roars)     | T (Ground shakes)   | T (Dino roars → Ground shakes) |\n",
        "| T (Dino roars)     | F (No ground shake) | F (Dino roars → No ground shake) |\n",
        "| F (Dino is quiet)  | T (Ground shakes)   | T (Dino is quiet → Ground shakes) |\n",
        "| F (Dino is quiet)  | F (No ground shake) | T (Dino is quiet → No ground shake) |\n",
        "\n",
        "- Example 1: If P represents \"Dino roars\" (true) and Q represents \"Ground shakes\" (true), then P → Q (If Dino roars, THEN Ground shakes) is true.\n",
        "- Example 2: If P is true (Dino roars) and Q is false (No ground shake), then P → Q (If Dino roars, THEN No ground shake) is false.\n",
        "\n",
        "These logical connectives and their truth tables form the basis for all deductive inference. They are also at the heart of the way modern computers \"work\", both at the physical level (where series of transistors are made into \"logic gates\" that allow them to do deductive inference) and the level of \"computer programming\" (where the logical connectives are used to control how computers \"make decisions.\").\n"
      ],
      "metadata": {
        "id": "ER3IqyQ4ir8U"
      }
    },
    {
      "cell_type": "markdown",
      "source": [
        "## What is Predicate Logic?\n",
        "\n",
        "**Predicate logic** is an extension of propositional logic and is crucial in understanding the fundamentals of logic programming. Unlike propositional logic, which deals with simple, declarative propositions, predicate logic uses predicates and quantifiers to express more complex statements about objects. A **predicate** is essentially a function that returns a truth value. It can take one or more **arguments**, representing objects or entities, and asserts a certain property or relationship about them.\n",
        "\n",
        "Two key types of quantifiers in predicate logic are the **universal quantifier** (denoted as ∀, meaning \"for all\") and the **existential quantifier** (denoted as ∃, meaning \"there exists\"). The universal quantifier is used to state that a particular property holds for all members of a certain set, while the existential quantifier states that there is at least one member in the set for which the property holds. In addition to these, predicate logic uses logical connectives such as and ( ∧ ), or ( ∨ ), not ( ¬ ), and implies ( → ), which help in building more complex logical expressions.\n",
        "\n",
        "### Example: Jurassic Park and Predicate Logic\n",
        "\n",
        "Let's use the world of \"Jurassic Park\" as an example. Suppose we have different species of dinosaurs, and we want to express certain facts and relationships about them.\n",
        "\n",
        "1.  We can define a predicate like `IsCarnivore(dinosaur)` which returns true if `dinosaur` is a carnivore.\n",
        "\n",
        "2.  We can know make statements using quantifiers and logical connectives:\n",
        "\n",
        "    -   Universal Quantifier: \"All T-Rexes are carnivores\"  can be expressed as \"∀x (IsTRex(x) → IsCarnivore(x))\".\n",
        "    -   Existential Quantifier: \"There's at least one herbivorous dinosaur in the Lagoon\"  could be \"∃x (IsHerbivore(x) ∧ LivesInLagoon(x))\".\n",
        "\n",
        "In this way, using predicate logic, we can construct a detailed and logical description of the relationships and characteristics within the dinosaur ecosystem of Jurassic Park. This forms the basis for logic programming, where such expressions are used to query and manipulate knowledge bases."
      ],
      "metadata": {
        "id": "kKS5e7EdcMBN"
      }
    },
    {
      "cell_type": "markdown",
      "source": [
        "## What is Computer Programming?\n",
        "\n",
        "As mentioned above, modern computers (and computer programs) are built on the foundations of formal logic. In the remainder of this chapter, we'll exploring some simple computer programs to see how this works.\n",
        "\n",
        "**Computer programming** is the process of designing and building an executable computer program to accomplish a specific computing result or to perform a particular task. Programming involves tasks such as analysis, generating algorithms, profiling algorithms' accuracy and resource consumption, and the implementation of algorithms in a chosen programming language, commonly referred to as coding.\n",
        "\n",
        "At its core, computer programming is about problem-solving. It involves breaking down complex problems into smaller, manageable parts, and then systematically solving these parts. Each part of the problem is tackled through writing code - a set of instructions that a computer can understand and execute. These instructions are written in a programming language, which is a formal language comprising a set of strings that produce various kinds of machine code output. Popular programming languages include Python, Java, C++, and JavaScript, each with its own syntax and use-case scenarios.\n",
        "\n",
        "**Logic programming** is a type of programming paradigm which is largely based on formal logic. Any program written in a logic programming language is a set of sentences in logical form, expressing facts and rules about some problem domain. It leverages the principles of formal logic - like those in predicate logic and propositional logic - to perform computations. Rules and facts in a logic program are much like the statements in formal logic, and the process of running a logic program is similar to making logical inferences. The most well-known logic programming language is Prolog (we'll be using a close variant of this below).  \n",
        "\n",
        "In logic programming, instead of explicitly telling the computer what to do step by step, you describe situations and facts, and define rules about them. The computer then uses this information to infer new facts and to find solutions that satisfy certain criteria. This approach is particularly powerful for tasks involving symbolic reasoning, natural language processing, and creating systems that require complex decision-making.\n",
        "\n",
        "Brendan's Note: For those new to programming and perhaps anxious about it, logic programming can be a good entry point. It encourages a different way of thinking about problems, focusing more on 'what' needs to be achieved rather than 'how' to achieve it. This high-level approach can sometimes be more intuitive for beginners. Starting with simple problems and gradually working up to more complex ones can make the journey less intimidating and more enjoyable. Remember, every expert was once a beginner, and the world of programming is full of learning resources and supportive communities."
      ],
      "metadata": {
        "id": "-LRmFVNfkivD"
      }
    },
    {
      "cell_type": "markdown",
      "source": [
        "## How to Run the Code in this Chapter\n",
        "If you'd like to experiment with the computer programs in this chapter, you can open it in Google Colab at [LINK].\n",
        "\n",
        "Google Colab is an easy-to-use, free online platform that allows you to write, run, and share Python code. It is particularly useful for machine learning, data analysis, and education. Here's a simple guide to get you started:\n",
        "\n",
        "1.  Click on the provided link to access the Google Colab notebook. If you are not already logged in to your Google account, you will be prompted to do so.\n",
        "2. Once the notebook is open, you'll see a user-friendly interface, which is divided into cells. These cells can contain either code or text.\n",
        "3.  To execute the code in a cell, click on the cell and then either click the play button on the left side of the cell or press `Shift + Enter`.   -   The first time you run a cell, you might have to accept the permissions requested by Google Colab to run the notebook.\n",
        "4.  You can add new cells for your code or notes by clicking on `+ Code` or `+ Text` in the top left corner of the interface.\n",
        "5.  You can choose to \"Save a Copy\" of the notebook to save your own work. This will be automatically saved to your Google Drive in a folder named 'Colab Notebooks'. You can also manually save your notebook or download it to your computer by going to `File > Save` or `File > Download`.\n",
        "7.  When you're done, you can close the browser tab. Your work will be saved in your Google Drive.\n",
        "\n",
        "Google Colab is a powerful tool for learning and experimenting with programming. Don't hesitate to explore and try out different features as you become more comfortable with the platform.\n",
        "\n",
        "Here is our fist \"code\" cell that will allow us to set up logic programming."
      ],
      "metadata": {
        "id": "F2oOjL6nnPgu"
      }
    },
    {
      "cell_type": "code",
      "execution_count": 35,
      "metadata": {
        "id": "GXgewnHLZ6Cz"
      },
      "outputs": [],
      "source": [
        "%%capture\n",
        "# This cells installs the \"libraries\"\n",
        "# that allow us to do \"logic programming\"\n",
        "!pip install pytholog\n",
        "import pytholog as pl\n"
      ]
    },
    {
      "cell_type": "markdown",
      "source": [
        "## What is Pytholog and How Does it Work?\n",
        "\n",
        "**Pytholog** is a Python library that integrates the concepts of logic programming into the popular  **Python** programming language. For beginners who have never written a line of code, think of a library as a collection of pre-written code that you can use to perform specific tasks without having to write the code from scratch.\n",
        "\n",
        "Pytholog allows you to use the principles of logic programming, which is based on formal logic, within Python. In traditional programming, you write a sequence of instructions for the computer to follow. In logic programming, you define a set of rules and facts, and the computer then uses these to deduce new information or solve problems. The basic process is as follows.\n",
        "\n",
        "1.  In Pytholog, you start by defining facts and rules about the problem you're trying to solve.\n",
        "\n",
        "    -   A **fact** is a basic assertion about your problem domain, like \"Socrates is a man.\"\n",
        "    -   A **rule** is a logical statement that defines a relationship between facts, like \"All men are mortal.\"\n",
        "2. These facts and rules are stored in what's called a **knowledge base** -- a kind of database for logic programming.\n",
        "\n",
        "3. Once your knowledge base is set up, you can ask questions (called **queries**). The system will then search through your facts and rules to find answers. For example, if you ask, \"Is Socrates mortal?\" the system will use the rule about men being mortal and the fact that Socrates is a man to conclude that Socrates is indeed mortal.\n",
        "\n",
        "4. While we'll only be scratching the surface here, Pytholog allows you to integrate these logic programming concepts seamlessly with Python code. This means you can use logic programming alongside all the other features and libraries available in Python, making it a powerful tool for complex problem-solving."
      ],
      "metadata": {
        "id": "UGnTZxT7UNxg"
      }
    },
    {
      "cell_type": "markdown",
      "source": [
        "## Defining Facts and Knowledge Bases in Pytholog\n",
        "\n",
        "In Pytholog, a key concept is defining facts and creating a knowledge base. Facts in logic programming are used to state something that is unconditionally true in the context of your domain. These can be either monadic (single-argument) or relational (multi-argument). Let's use the Dino Train family as an example, which includes four children, one of whom is a T-Rex, along with their parents.\n",
        "\n",
        "**Monadic facts** in Pytholog involve a single **argument** and typically describe a property or characteristic of a subject. For example:\n",
        "\n",
        "```prolog\n",
        "is_trex(\"Buddy\"). - This states that Buddy is a T-Rex.\n",
        "is_pteranodon(\"Tiny\"). - This asserts that Tiny is a Pteranodon.\n",
        "is_herbivore(\"Shiny\"). - Here, it's stated that Shiny is a herbivore.\n",
        "```\n",
        "\n",
        "Each of these facts has a predicate (like `is_trex`, `is_pteranodon`, `is_herbivore`) and an argument (like `\"Buddy\"`, `\"Tiny\"`, `\"Shiny\"`), describing a single characteristic.\n",
        "\n",
        "**Relational facts** involve two or more arguments, usually describing a relationship or connection between entities. For example:\n",
        "\n",
        "```prolog\n",
        "parent(\"Mrs. Pteranodon\", \"Buddy\")` - Indicates Mrs. Pteranodon is the parent of Buddy.\n",
        "parent(\"Mr. Pteranodon\", \"Tiny\"). - States Mr. Pteranodon is the parent of Tiny.\n",
        "siblings(\"Don\", \"Shiny\"). - Shows Don and Shiny are siblings.\n",
        "```\n",
        "In these facts, predicates like `parent` and `siblings` describe relationships between two entities."
      ],
      "metadata": {
        "id": "5mx-ltzCXyFb"
      }
    },
    {
      "cell_type": "markdown",
      "source": [
        "## Example: A Simple Knowledge Base\n",
        "Let's define a knowledge base for the Dino Train family (inspired by the PBS show) using Pytholog, focusing on facts about the family members and their characteristics. We will stick to facts only for now, excluding rules.\n",
        "Here's the general syntax for creating a knowledge base:\n",
        "\n",
        "```python\n",
        "# Create a new knowledge base\n",
        "knowledge_base = pl.KnowledgeBase(\"knowledge_base_name\")\n",
        "\n",
        "# Add facts and possibly rules to the knowledge base knowledge_base\n",
        "\n",
        "([ \"fact1(argument1)\",\n",
        "\"fact2(argument2, argument3)\",\n",
        "\"rule1(argument4, argument5) :- condition1, condition2\" ])\n",
        "```"
      ],
      "metadata": {
        "id": "ZBLHVD7xZQ_K"
      }
    },
    {
      "cell_type": "markdown",
      "source": [
        "Here's how it will work in our case."
      ],
      "metadata": {
        "id": "u5_gCVnPa5Uh"
      }
    },
    {
      "cell_type": "code",
      "source": [
        "kb = pl.KnowledgeBase(\"Dino Train\")\n",
        "\n",
        "kb([\n",
        "    \"is_trex(buddy)\",\n",
        "    \"is_pteranodon(tiny)\",\n",
        "    \"is_pteranodon(shiny)\",\n",
        "    \"is_pteranodon(don)\",\n",
        "    \"parent(mrs_pteranodon, buddy)\",\n",
        "    \"parent(mr_pteranodon, buddy)\",\n",
        "    \"parent(mrs_pteranodon, tiny)\",\n",
        "    \"parent(mr_pteranodon, tiny)\",\n",
        "    \"parent(mrs_pteranodon, shiny)\",\n",
        "    \"parent(mr_pteranodon, shiny)\",\n",
        "    \"parent(mrs_pteranodon, don)\",\n",
        "    \"parent(mr_pteranodon, don)\"\n",
        "])\n",
        "\n",
        "\n",
        "def query(expression):\n",
        "  \"\"\"A function to make queries for this knowledge base simple\"\"\"\n",
        "  return kb.query(pl.Expr(expression))\n"
      ],
      "metadata": {
        "id": "AwGFPmDAZLi0"
      },
      "execution_count": 41,
      "outputs": []
    },
    {
      "cell_type": "markdown",
      "source": [
        "In this example:\n",
        "\n",
        "-   `kb = pl.KnowledgeBase(\"Dino Train\")` creates a new knowledge base named \"Dino Train\".\n",
        "-   The list of strings inside `kb([...])` represents the facts:\n",
        "    -   Monadic facts like `is_trex(buddy)` state that Buddy is a T-Rex.\n",
        "    -   Relational facts like `parent(mrs_pteranodon, buddy) `establish a parent-child relationship between Mrs. Pteranodon and Buddy.\n",
        "\n",
        "Each fact is enclosed in quotes and added as a list item. This way, you can easily manage and query the information about the Dino Train family within your Pytholog knowledge base. Remember, in Pytholog, facts are the foundational elements of your knowledge base, providing the basic information that you can later query and manipulate."
      ],
      "metadata": {
        "id": "TEZy6oErZtGt"
      }
    },
    {
      "cell_type": "markdown",
      "source": [
        "## How to Write Queries in Pytholog\n",
        "\n",
        "Writing **queries** in Pytholog involves asking specific questions to your knowledge base, and the system returns answers based on the facts and rules you've defined. Let's go through the process using the syntax from your provided information.\n",
        "\n",
        "To create a query in Pytholog, you generally use the `query` method on your knowledge base object. I've simplified it a bit for this chapter, so all you need to do is type the following:\n",
        "\n",
        "```python\n",
        "query(\"your_query_here\")\n",
        "```\n",
        "\n",
        "We'll see how thi works in practice in the next section.\n",
        "\n",
        "### Checking a Fact\n",
        "\n",
        "To check if a specific fact is true, you would write the query directly stating the fact. For instance, if you want to check if Buddy is a T-Rex, your query would be:"
      ],
      "metadata": {
        "id": "fE_RGrFScv-g"
      }
    },
    {
      "cell_type": "code",
      "source": [
        "query(\"is_trex(buddy)\")\n"
      ],
      "metadata": {
        "colab": {
          "base_uri": "https://localhost:8080/"
        },
        "id": "QvPXVIWoc1wv",
        "outputId": "5a0cc4a3-130b-4ac2-d650-c4e1cc82050e"
      },
      "execution_count": 37,
      "outputs": [
        {
          "output_type": "execute_result",
          "data": {
            "text/plain": [
              "['Yes']"
            ]
          },
          "metadata": {},
          "execution_count": 37
        }
      ]
    },
    {
      "cell_type": "markdown",
      "source": [
        "Here's what happens in this simple query:\n",
        "\n",
        "The string `\"is_trex(buddy)\"`our actual query.\n",
        "    -   `is_trex` is a predicate representing the concept of being a T-Rex.\n",
        "    -   `buddy` is the specific subject you're asking about in relation to the predicate.\n",
        "This expression is asking, \"Is the fact that Buddy is a T-Rex true according to the knowledge base?\" If it works, the answer should be [`Yes`].\n",
        "\n",
        "On other hand, Shiny is not a trex:\n",
        "\n"
      ],
      "metadata": {
        "id": "w3Ycc0Lqc9lV"
      }
    },
    {
      "cell_type": "code",
      "source": [
        "query(\"is_trex(shiny)\")"
      ],
      "metadata": {
        "colab": {
          "base_uri": "https://localhost:8080/"
        },
        "id": "PZJkFXVegnLJ",
        "outputId": "e2f5d4c1-69fd-460c-d22f-0b5c80edc660"
      },
      "execution_count": 39,
      "outputs": [
        {
          "output_type": "execute_result",
          "data": {
            "text/plain": [
              "['No']"
            ]
          },
          "metadata": {},
          "execution_count": 39
        }
      ]
    },
    {
      "cell_type": "markdown",
      "source": [
        "### Retrieving Information\n",
        "\n",
        "If you want to retrieve specific information, like finding out who the children of Mrs. Pteranodon are, you use a variable in your query:"
      ],
      "metadata": {
        "id": "ZaN6zGFNgl8W"
      }
    },
    {
      "cell_type": "code",
      "source": [
        "query(\"parent(mrs_pteranodon, Child)\")"
      ],
      "metadata": {
        "colab": {
          "base_uri": "https://localhost:8080/"
        },
        "id": "HZNpHkF5c_3d",
        "outputId": "a574e174-fbff-4ac1-808a-088865c0853d"
      },
      "execution_count": 40,
      "outputs": [
        {
          "output_type": "execute_result",
          "data": {
            "text/plain": [
              "[{'Child': 'buddy'}, {'Child': 'tiny'}, {'Child': 'shiny'}, {'Child': 'don'}]"
            ]
          },
          "metadata": {},
          "execution_count": 40
        }
      ]
    },
    {
      "cell_type": "markdown",
      "source": [
        "Here, the string `\"parent(mrs_pteranodon, Child)\"` is your actual query.\n",
        "    -   `parent` is a predicate representing the parent-child relationship in your knowledge base.\n",
        "    -   `mrs_pteranodon` is the specific argument representing Mrs. Pteranodon. It's in lowercase, suggesting it's a specific entity (a constant) in your knowledge base.\n",
        "    -   `Child` is a **variable** (denoted by being capitalized) used to represent Mrs. Pteranodon's children, whose names you want to retrieve.\n",
        "\n",
        "The output is a list of dictionaries. Each dictionary in the list corresponds to a separate fact in the knowledge base that matches the query.\n",
        "- `'Child'` is the key in each dictionary, which corresponds to the variable used in your query.\n",
        "- The values associated with this key ('buddy', 'tiny', 'shiny', 'don') are the specific names of Mrs. Pteranodon's children as per the facts stored in your knowledge base."
      ],
      "metadata": {
        "id": "VumZcnuLhUeN"
      }
    },
    {
      "cell_type": "markdown",
      "source": [
        "## Introducing Rules in Pytholog\n",
        "In Pytholog, **rules** are logical constructs that allow you to derive new information from existing facts. They are essentially conditional statements that describe relationships or patterns within your data. Understanding how to define and use rules is crucial for leveraging the full power of logic programming in Pytholog.\n",
        "\n",
        "A rule in Pytholog consists of a head and a body, with the following syntax:\n",
        "\n",
        "```\n",
        "head :- body.\n",
        "```\n",
        "\n",
        "-   The **head** is the conclusion or the outcome of the rule. It's what you can infer if the conditions in the body are met.\n",
        "-   The **body** contains the conditions that need to be true for the head to be inferred. The body can contain one or more predicates, connected by commas (which act as logical AND operators).\n"
      ],
      "metadata": {
        "id": "jqHd1dCvjsQf"
      }
    },
    {
      "cell_type": "markdown",
      "source": [
        "### Writing Rules: Siblings and Grandparents Example\n",
        "\n",
        "Let's illustrate this with two basic examples: defining who are siblings and who are grandparents.\n",
        "\n",
        "The sibling relationship can be defined by stating that two individuals are siblings if they share at least one parent. In Pytholog, this can be expressed as:\n",
        "\n",
        "```prolog\n",
        "sibling(X, Y) :- parent(Z, X), parent(Z, Y), X != Y.\n",
        "```\n",
        "\n",
        "Breaking down the syntax:\n",
        "\n",
        "-   The head is `sibling(X, Y)`. It states that X and Y are siblings. X and Y are variables that will be matched against the facts in the knowledge base.\n",
        "-   The body body is `parent(Z, X), parent(Z, Y), X != Y`. This s the condition for the sibling relationship. It states that there must be a parent Z who is a parent of both X and Y, and X and Y should not be the same individual (ensuring that a person is not considered a sibling of themselves).\n",
        "-  The commas in the body act like logical AND operators, meaning all conditions must be true for the rule to apply.\n",
        "\n",
        "\n",
        "#### Grandparent Rule\n",
        "\n",
        "Similarly, we can define a rule for identifying grandparents:\n",
        "\n",
        "```prolog\n",
        "grandparent(X, Y) :- parent(X, Z), parent(Z, Y).\n",
        "```\n",
        "\n",
        "-   The head `grandparent(X, Y)`  declares that X is a grandparent of Y.\n",
        "-   The body`parent(X, Z), parent(Z, Y)` states that X must be a parent of Z, and Z must be a parent of Y."
      ],
      "metadata": {
        "id": "-hMlLWK0kcoX"
      }
    },
    {
      "cell_type": "code",
      "source": [],
      "metadata": {
        "id": "6sNQWN0RhkJA"
      },
      "execution_count": null,
      "outputs": []
    }
  ]
}