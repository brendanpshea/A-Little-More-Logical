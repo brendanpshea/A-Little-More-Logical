{
  "nbformat": 4,
  "nbformat_minor": 0,
  "metadata": {
    "colab": {
      "provenance": [],
      "authorship_tag": "ABX9TyN5rSjdxlrCiQZ4iXlKuziR",
      "include_colab_link": true
    },
    "kernelspec": {
      "name": "python3",
      "display_name": "Python 3"
    },
    "language_info": {
      "name": "python"
    }
  },
  "cells": [
    {
      "cell_type": "markdown",
      "metadata": {
        "id": "view-in-github",
        "colab_type": "text"
      },
      "source": [
        "<a href=\"https://colab.research.google.com/github/brendanpshea/logic-prolog/blob/main/StatisticsWithWerewolves.ipynb\" target=\"_parent\"><img src=\"https://colab.research.google.com/assets/colab-badge.svg\" alt=\"Open In Colab\"/></a>"
      ]
    },
    {
      "cell_type": "markdown",
      "source": [
        "# Statistical Reasoning With Werewolves\n",
        "### A LIttle More Logical | Brendan Shea, PhD\n",
        "Statistics, at its core, is the science of learning from data. It is a form of inductive reasoning that involves collecting, analyzing, interpreting, presenting, and organizing data to draw conclusions, make predictions, and drive informed decision-making. In statistics, we use numerical data to uncover patterns, test hypotheses, and understand the world more deeply. Unlike deductive reasoning, which starts with premises and deduces conclusions, statistical reasoning starts with data and uses it to infer general principles or trends.\n",
        "\n",
        "This branch of mathematics does not operate in isolation; it is deeply intertwined with probability theory. While probability provides the theoretical foundation for making predictions about uncertain events, statistics applies these principles to analyze real-world data. By employing statistical methods, we can quantify uncertainty, making informed statements about populations based on samples.\n",
        "\n",
        "In this chapter, we will explore the landscape of statistical analysis using a case study involving a high school where some students are, believe it or not, werewolves.  The dataset in our case study encompasses various attributes of 1500 high school students, of whom a certain percentage are werewolves. These attributes include gender, height, eye color, full moon absences, GPA, parental heritage, detentions, and more. The werewolf twist introduces variables that aren't typically found in standard datasets, offering a creative angle to explore statistical concepts.\n",
        "\n",
        "As we analyze this dataset, we will cover a wide range of statistical topics. Starting from basic descriptive statistics like means and standard deviations, we'll journey through probability, hypothesis testing, correlation, and regression analysis. Each concept will be unpacked and explored through the lens of our werewolf-infused high school scenario.\n",
        "\n",
        "This chapter aims not only to educate but also to ignite curiosity. By the end of it, students will not only have grasped fundamental statistical concepts but will also appreciate how statistical reasoning can be applied in imaginative, yet profoundly instructive, contexts. Welcome to a world where statistics meets folklore, and learning becomes an adventure."
      ],
      "metadata": {
        "id": "jQiJFL9tX4Pe"
      }
    },
    {
      "cell_type": "code",
      "execution_count": null,
      "metadata": {
        "id": "O5eJu-XsX2g6"
      },
      "outputs": [],
      "source": []
    },
    {
      "cell_type": "code",
      "source": [],
      "metadata": {
        "id": "www8_i5fX3gz"
      },
      "execution_count": null,
      "outputs": []
    }
  ]
}