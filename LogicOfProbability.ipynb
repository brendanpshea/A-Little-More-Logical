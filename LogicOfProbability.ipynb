{
  "nbformat": 4,
  "nbformat_minor": 0,
  "metadata": {
    "colab": {
      "provenance": [],
      "authorship_tag": "ABX9TyOILNl4kapDjrun53U4hO1u",
      "include_colab_link": true
    },
    "kernelspec": {
      "name": "python3",
      "display_name": "Python 3"
    },
    "language_info": {
      "name": "python"
    }
  },
  "cells": [
    {
      "cell_type": "markdown",
      "metadata": {
        "id": "view-in-github",
        "colab_type": "text"
      },
      "source": [
        "<a href=\"https://colab.research.google.com/github/brendanpshea/A-Little-More-Logical/blob/main/LogicOfProbability.ipynb\" target=\"_parent\"><img src=\"https://colab.research.google.com/assets/colab-badge.svg\" alt=\"Open In Colab\"/></a>"
      ]
    },
    {
      "cell_type": "markdown",
      "source": [
        "# The Logic of Probability: The Many Applications of Bayes Theorem\n",
        "### A Little More Logical | Brendan Shea, PhD\n",
        "\n",
        "Welcome to the study of probability, where we explore how chance and logic help us understand uncertainty. In this chapter, we'll cover key concepts in probability theory. We'll examine both frequency-type probability, which deals with how often events happen, and belief-type probability, which focuses on how strongly we believe in certain outcomes. Using Bayes' Theorem, we'll learn how to update our beliefs with new evidence, similar to how a detective adjusts their hypotheses during an investigation.\n",
        "\n",
        "We'll see how probability plays a role in many areas, from medical diagnoses and scientific research to modern technologies like machine learning. Through examples and interactive Python code, we'll discover the practical applications of probability in everyday life and beyond. This chapter aims to show how probabilistic thinking can help us make better decisions and expand our understanding of the world. Let's dive in and uncover the truths hidden within the uncertainties of chance.\n",
        "\n",
        "Learning Outcomes: By the end of this chapter, you will be able to:\n",
        "\n",
        "1.  Understand the fundamental concepts of probability theory, including the Kolmogorov Axioms and basic rules for calculating probabilities.\n",
        "2.  Differentiate between frequency-type and belief-type probabilities and apply them to real-world scenarios.\n",
        "3.  Apply Bayes' Theorem to update probabilities based on new evidence and use it to make informed decisions in various contexts.\n",
        "4.  Recognize and avoid common pitfalls in probabilistic reasoning, such as the base rate fallacy and neglecting prior probabilities.\n",
        "5.  Appreciate the wide-ranging applications of probability, from medical diagnosis and scientific reasoning to machine learning and artificial intelligence.\n",
        "6.  Engage with the ideas of Florence Nightingale, and her contributions to medicine, public health, and data science.\n",
        "7.  Use Python code to perform probability calculations and visualize probabilistic concepts.\n",
        "\n",
        "Keywords: Probability, Kolmogorov Axioms, Complement Rule, Addition Rule, Multiplication Rule, Conditional Probability, Total Probability, Frequency-type probability, Belief-type probability, Bayes' Theorem, Prior Probability, Posterior Probability, Likelihood, Base Rate Fallacy, Medical Diagnosis, Scientific Reasoning, Machine Learning, Rudolf Carnap, Vienna Circle, Verification Principle, Principle of Tolerance, Logical Bayesianism"
      ],
      "metadata": {
        "id": "p8-LTDh6xRmk"
      }
    },
    {
      "cell_type": "markdown",
      "source": [
        "## Intro: Bluey, Bingo, and Bayes Theorem\n",
        "\n",
        "[Bluey and Bingo are playing a guessing game. Bluey puts a toy behind her back.]\n",
        "\n",
        "Bluey: Okay Bingo, guess which toy I'm holding! Is it a hippo or a monkey?\n",
        "\n",
        "Bingo: Umm... a monkey!\n",
        "\n",
        "Bluey: Nope, it's a hippo! [reveals toy] Your hypothesis was wrong.\n",
        "\n",
        "Bingo: Hypothesis? What's that mean?\n",
        "\n",
        "[Mum and Dad enter]\n",
        "\n",
        "Dad: A hypothesis is like a smart guess. It's what you think might be true, like your guess that Bluey had a monkey toy.\n",
        "\n",
        "Mum: And then you look for evidence to test if your hypothesis is right. Like when Bluey showed you the toy - that was evidence that disproved your monkey hypothesis.\n",
        "\n",
        "Bluey: Let's play again! Bingo, I have another toy. I'll give you a clue - it's an animal that barks. Now what's your hypothesis - is it a dog or a chicken?\n",
        "\n",
        "Bingo: Definitely a dog! Chickens don't bark.\n",
        "\n",
        "Dad: Great hypothesis Bingo! You used the evidence of the clue to make a hypothesis that has a high probability of being true.\n",
        "\n",
        "Bluey: Yep, it's a dog! [shows toy dog]\n",
        "\n",
        "Mum: The clue made the likelihood much higher that it was a dog rather than a chicken. That's using **conditional probability**.\n",
        "\n",
        "Bingo: This is making my brain hurt. Can we have a snack?\n",
        "\n",
        "Dad: Hold on, let's do one more round and I'll show you how it all fits together with something called **Bayes' Theorem**...\n",
        "\n",
        "Bluey: I have another mystery toy! Here's a clue - we see this animal all the time in our yard.\n",
        "\n",
        "Mum: Okay, let's think about the **prior probability** - the chance of different hypotheses being true before we got this new evidence. We often see birds and bugs in our yard, occasionally lizards, but rarely other animals.\n",
        "\n",
        "Dad: So without any other information, our hypothesis with the highest prior probability would be that it's a bird or a bug. Those hypotheses have high priors.\n",
        "\n",
        "Bingo: But wait, I have more evidence! I think I heard the toy make a buzzing noise!\n",
        "\n",
        "Bluey: Aha, yes it did!\n",
        "\n",
        "Mum: Wow, that new evidence changes things! The **likelihood** of a buzzing noise is very high if the hypothesis is a bug, but very low for a bird.\n",
        "\n",
        "Dad: So even though bug and bird were tied for the highest prior probability, once we factor in the new evidence and the likelihood, the bug hypothesis now has a much higher **posterior probability** than bird.\n",
        "\n",
        "Bingo: Posterior probability? I get it... that's the probability of the hypothesis after considering the evidence! I conclude it's a bug!\n",
        "\n",
        "Bluey: You're right, it's a bug! [reveals toy bug] You just used Bayes' Theorem to update your hypothesis based on new evidence!\n",
        "\n",
        "Bingo: This calls for celebratory ice cream! Let's go!\n",
        "\n",
        "[Bluey and Bingo run off giggling]\n",
        "\n",
        "Mum: Well, I'd call that a successful maths lesson!\n",
        "\n",
        "Dad: Agreed. Though I'm not sure how well posterior probability will go over when they learn it in school...\n",
        "\n",
        "[END SCENE]\n",
        "\n",
        "[Mum and Dad explain the math for interested readers]\n",
        "Mum: Let's say the prior probability of it being a bug was 50%, and the prior for a bird was also 50%. And let's say the likelihood of a buzzing noise given that it's a bug is 90%, but the likelihood of a buzz if it's a bird is only 5%.\n",
        "\n",
        "Dad: We can use Bayes' Theorem to calculate the posterior probability for each hypothesis. For the bug hypothesis, it's the prior of 50% times the likelihood of 90%, divided by the total probability of hearing a buzz.\n",
        "\n",
        "Mum: Which is 50% times 90%, plus 50% times 5%. That works out to... [scribbles calculation] ... about 95% probability that it's a bug!!\n",
        "\n",
        "Dad: And only about 5% probability remaining for the bird hypothesis, after we account for the new evidence.\n",
        "\n",
        "\n",
        "## Questions\n",
        "1. In the dialogue, Bingo's initial hypothesis was incorrect (monkey instead of hippo). How does making and testing hypotheses help us learn, even when our initial guesses are wrong? Can you think of a time when you had a hypothesis that was disproven, and what did you learn from that experience?\n",
        "2. Mum and Dad introduced the idea of prior probability - the likelihood of different hypotheses being true before considering new evidence. How do our prior beliefs and experiences shape the way we approach new information or situations? Can you think of an example where your prior knowledge helped you make a good guess or decision?\n",
        "3. The key lesson of Bayes' Theorem is that we should update our beliefs (or hypotheses) based on new evidence. Why is it important to be open to changing our minds when we receive new information? Can you think of a situation in your own life where new evidence made you rethink your initial assumptions or beliefs?"
      ],
      "metadata": {
        "id": "0u2pkcm1Ae1O"
      }
    },
    {
      "cell_type": "markdown",
      "source": [
        "## What is Probability, Part 1: The Kolmogorov Axioms\n",
        "Tucked away in the back alleys of mathematical theory, like a cryptic clue in a detective's notebook, are the **Kolmogorov Axioms**. These axioms are the backbone of probability theory, named after the Russian mathematician Andrey Kolmogorov, who laid down the fundamental principles of probability in a rigorous mathematical way. But fear not, for these axioms are not as daunting as they might seem and can be understood without delving deep into complex mathematics.\n",
        "\n",
        "To begin, we use notation to simplify our discussion. When we talk about the probability of an event, we use the notation *Pr(Event)*. Think of it like saying, \"What are the odds of this happening?\" For example, Sherlock Holmes might calculate the probability of a suspect being at the crime scene, which we could write as *Pr(Suspect at Crime Scene)*. Similarly, when we want to talk about the probability of a hypothesis given a specific event, we use the notation *Pr(Hypothesis|Event)*. It's like asking, \"Given that this clue or event has occurred, what's the probability that my hypothesis is true?\" This is something a detective like Nancy Drew might ponder when she finds a new clue and reassesses her theories.\n",
        "\n",
        "The Kolmogorov Axioms *define* the mathematical notion of probability. They are as follows:\n",
        "\n",
        "1. **Non-negativity.** Every event E has a probability that is a non-negative number:\n",
        "  - $Pr(E) ≥ 0$.\n",
        "2. **Certainty:**  The probability of a certain (or guaranteed) event is 1. For example, the probability of \"an event E either happens or it doesn't happen\" should be 1.\n",
        "  - $Pr(E \\vee \\neg E) = 1$, where E is any event.\n",
        "3. **Additivity.** For any two muually exclusive events (events that cannot both occur at the same time), the probability of either event occurring is the sum of their individual probabilities:\n",
        "  - $Pr(A \\vee B) = Pr(A) + Pr(B)$, for mutually exclusive events A and B.\n",
        "\n",
        "The first axiom of Kolmogorov is that the probability of any event is a non-negative number. This simply means that you can't have a negative chance of something happening. It's either going to happen, or it isn't, or somewhere in between, but it's never less than zero. It's like saying, \"There's no chance that the victim committed the crime,\" which would be a probability of zero, or \"There's a certain chance that the butler did it,\" which might be a probability close to one, but never negative.\n",
        "\n",
        "The second axiom states that the probability of a certain event (one that is guaranteed to happen) is 1. In our detective story, this would be akin to saying, \"The crime definitely happened here,\" which is an absolute certainty and thus has a probability of 1.\n",
        "\n",
        "The third axiom is a bit more complex. It involves the probability of the union of two mutually exclusive events. In simple terms, if you have two events that cannot happen at the same time (like the suspect can't be both in the library and the dining room at the same moment), then the probability that either one happens is the sum of the probabilities of each happening individually. For example, if there's a 30% chance the suspect was in the library and a 40% chance they were in the dining room, and these two events are mutually exclusive, the probability of the suspect being in either location is 70%."
      ],
      "metadata": {
        "id": "gsObJnFzZQYT"
      }
    },
    {
      "cell_type": "markdown",
      "source": [
        "### Some Rules for Calculating Probabilities\n",
        "\n",
        "It isn't easy to directly apply the Kolmogorov axioms to calculate probabilities. Luckily, we don't have to! Instead, we can use various derived rules (logicians might call them *theorems*) to make our lives easier. Here are a few that might come in handy.\n",
        "\n",
        "### Complement Rule\n",
        "\n",
        "The complement rule states that the probability of an event not occurring is 1 minus the probability of the event occurring.\n",
        "\n",
        "- **Complement Rule.** Pr(not E) = 1 - Pr(E), where E is any event.\n",
        "\n",
        "For example, Enola and Mycroft Holmes (Sherlock's brother and sister) are investigating a case where they know the probability of a suspect being in London is 0.65. Using the complement rule, they deduce that the probability of the suspect not being in London is 1 - 0.65 = 0.35. This calculation helps the Holmes team strategize their investigation based on the suspect's likely whereabouts."
      ],
      "metadata": {
        "id": "dkhBbNHl0-9-"
      }
    },
    {
      "cell_type": "markdown",
      "source": [
        "### Running the Code in This Chapter\n",
        "If you'd like to run the computer code in this chapter (which includes some Python functions that implement the rules of probability we are studying), you can find an interactive version of it here:\n",
        "\n",
        "\n",
        "https://colab.research.google.com/github/brendanpshea/A-Little-More-Logical/blob/main/The_ProbabilityOfMurder.ipynb\n",
        "\n",
        "And then \"Run\" the following cell."
      ],
      "metadata": {
        "id": "sF8elS_R2hh_"
      }
    },
    {
      "cell_type": "code",
      "source": [
        "%%capture\n",
        "# This chapter uses some helper functions\n",
        "!wget https://github.com/brendanpshea/A-Little-More-Logical/raw/main/tools/logic_util.py -q -nc\n",
        "from logic_util import *"
      ],
      "metadata": {
        "id": "d9i_OFTuv4Eh"
      },
      "execution_count": null,
      "outputs": []
    },
    {
      "cell_type": "code",
      "source": [
        "# Computer code to do this. Try changing the number!\n",
        "complement_rule(pr_e = 0.65)"
      ],
      "metadata": {
        "colab": {
          "base_uri": "https://localhost:8080/"
        },
        "id": "N0dekaZu379P",
        "outputId": "940fdc33-8da3-4312-bcd1-a5f74aca3c4c"
      },
      "execution_count": null,
      "outputs": [
        {
          "output_type": "stream",
          "name": "stdout",
          "text": [
            "P(not E) = 1 - P(E)\n",
            "         = 1 - 0.65\n",
            "         = 0.35\n"
          ]
        }
      ]
    },
    {
      "cell_type": "markdown",
      "source": [
        "#### Simple Addition Rule (for Mutually Exclusive Events)\n",
        "he simple addition rule applies to mutually exclusive events, meaning two events that cannot happen at the same time. The rule states that the probability of either event occurring is the sum of their individual probabilities:\n",
        "\n",
        "- **Simple Addition Rule.** Pr(A or B) = Pr(A) + Pr(B).\n",
        "\n",
        "For example, Nancy Drew is trying to determine the likelihood that a clue comes from either the attic (30% probability) or the basement (20% probability), knowing these locations cannot be involved in the clue's origin simultaneously. Applying the simple addition rule, she calculates a 50% probability (0.30 + 0.20) that the clue originates from either the attic or the basement."
      ],
      "metadata": {
        "id": "vIKvGaM26wRd"
      }
    },
    {
      "cell_type": "code",
      "source": [
        "# Some python code\n",
        "simple_addition(pr_e1 = 0.30, # attic\n",
        "                pr_e2 = 0.20) # basement"
      ],
      "metadata": {
        "colab": {
          "base_uri": "https://localhost:8080/"
        },
        "id": "teMOpsM87PF7",
        "outputId": "0816fb33-eee0-45fa-b7f2-6f20ae6ac713"
      },
      "execution_count": null,
      "outputs": [
        {
          "output_type": "stream",
          "name": "stdout",
          "text": [
            "P(E1 or E2) = P(E1) + P(E2)\n",
            "            = 0.3 + 0.2\n",
            "            = 0.5\n"
          ]
        }
      ]
    },
    {
      "cell_type": "markdown",
      "source": [
        "### General Addition Rule\n",
        "The general addition rule is used when events can occur simultaneously. It states that the probability of either event A or event B occurring is the sum of their individual probabilities minus the probability of both events occurring together:\n",
        "\n",
        "- **General Addition.** Pr(A or B) = Pr(A) + Pr(B) - Pr(A and B).\n",
        "\n",
        "Suppose that Agent Scully is assessing the chances that a suspect has either a red scarf (40%) or a blue hat (50%), with a 15% chance the suspect has both. Using the general addition rule, she calculates a 75% chance (0.40 + 0.50 - 0.15) that the suspect has either a red scarf or a blue hat."
      ],
      "metadata": {
        "id": "blNWTmor9L5D"
      }
    },
    {
      "cell_type": "code",
      "source": [
        "general_addition(pr_e1=0.4, # blue hat\n",
        "                 pr_e2=0.5, # red scarf\n",
        "                 pr_e1_and_e2=0.15) # both"
      ],
      "metadata": {
        "colab": {
          "base_uri": "https://localhost:8080/"
        },
        "id": "z_ye3lhS9b8Z",
        "outputId": "ab3f967d-df23-4b2f-c70b-e1fea7161e70"
      },
      "execution_count": null,
      "outputs": [
        {
          "output_type": "stream",
          "name": "stdout",
          "text": [
            "P(E1 or E2) = P(E1) + P(E2) - P(E1 and E2)\n",
            "            = 0.4 + 0.5 - 0.15\n",
            "            = 0.75\n"
          ]
        }
      ]
    },
    {
      "cell_type": "markdown",
      "source": [
        "### Simple Multiplication Rule (for Independent Events)\n",
        "The simple multiplication rule applies to independent events, which are events where the occurrence of one does not affect the occurrence of the other. The rule states that the probability of both events occurring is the product of their individual probabilities:\n",
        "\n",
        "- **Simple Multiplication Rule.** Pr(A and B) = Pr(A) * Pr(B)\n",
        "\n",
        "Suppose Adrian Monk is investigating two unrelated leads: the chance that the first witness is telling the truth (70%) and the probability a second, slightly less trustworty, witness is telling the truth (50%). To deterime the probability that both are telling the truth, he would multiply 0.7 x 0.5 = 0.35. This gives the chance both leads are accurate."
      ],
      "metadata": {
        "id": "jrRQNjqnDZDz"
      }
    },
    {
      "cell_type": "code",
      "source": [
        "simple_multiplication(pr_e1=.7,  # First witness\n",
        "                      pr_e2=.5) # Second witness"
      ],
      "metadata": {
        "colab": {
          "base_uri": "https://localhost:8080/"
        },
        "id": "tI-feovzDy4N",
        "outputId": "ec2abe98-4771-4fc8-e405-79338a718171"
      },
      "execution_count": null,
      "outputs": [
        {
          "output_type": "stream",
          "name": "stdout",
          "text": [
            "P(E1 and E2) = P(E1) * P(E2)\n",
            "             = 0.7 * 0.5\n",
            "             =  0.35\n"
          ]
        }
      ]
    },
    {
      "cell_type": "markdown",
      "source": [
        "### Conditional Probability\n",
        "**Conditional Probability** explores \"what ifs\" within the universe of probability, focusing on the likelihood of one event occurring under the precondition that another specific event has already taken place. It's a measure that answers questions of the form, \"Given that B has occurred, what is the chance of A happening?\" This concept is mathematically represented as Pr(A|B), signifying the probability of event A given that B is known to have occurred.\n",
        "\n",
        "The formula for calculating conditional probability is given by:\n",
        "$$\n",
        "Pr(A|B) = \\frac{Pr(A \\text{ and } B)}{Pr(B)}\n",
        "$$\n",
        "\n",
        "This equation highlights that the probability of both A and B happening together, divided by the probability of B happening, gives us the conditional probability of A given B. It's a way to refine our predictions or expectations about an event based on new information or given conditions.\n",
        "\n",
        "To bring this concept to life, let's suppose that Sherlock is investigating a case where the presence of fingerprints at a crime scene could be crucial evidence. However, the night before the investigation, it rained, potentially washing away any fingerprints. Here, Sherlock is interested in calculating the conditional probability of finding fingerprints given that it rained. If historical data or his deductive reasoning suggests that the chance of finding fingerprints after rain is 25%, then we can denote this as Pr(Fingerprints | Rain) = 0.25. This means, according to Holmes' estimation, even after rain, there's a 25% chance that fingerprints, resilient or protected enough from the weather, could still be found at the crime scene."
      ],
      "metadata": {
        "id": "T5CiefCKGFSN"
      }
    },
    {
      "cell_type": "markdown",
      "source": [
        "### Table: Sample Conditional Probabilities\n",
        "To help you get a better sense of how conditional probability works, here are some simple examples:\n",
        "\n",
        "| Conditional Probability Claim | Description |\n",
        "| --- | --- |\n",
        "| Pr(Six \\| Even) = 1 / 3 | The probability of a getting a six on a dice roll if you know you got an even number is 1 out of 3. |\n",
        "| Pr(Five \\| Even) = 0 | The probability of a getting a five on a dice roll if you know you got an even number is 0 out of 3. (Five isn't even!) |\n",
        "| Pr(One \\| One or Two) = 1/2 | The probability of a getting a one on a dice roll if you know you got either a 1 or 2 is 1/2. |\n",
        "| Pr(Truth \\| KnownLiar) = 0.2 | The probability of a known liar telling the truth is 20%. |\n",
        "| Pr(FingerprintMatch \\| SuspectPresent) = 0.9 | There's a 90% chance of finding a matching fingerprint if the suspect was present at the crime scene. |\n",
        "| Pr(Confession \\| Guilty) = 0.5 | If a suspect is guilty, there's a 50% probability that they will confess to the crime. |\n",
        "| Pr(PoisonDetected \\| LabTest) = 0.95 | There's a 95% chance that poison will be detected if a proper lab test is conducted. |\n",
        "| Pr(Confession \\| Guilty AND UnderPressure) = 0.85 | The probability that a guilty suspect confesses when under pressure increases to 85%. |\n",
        "| Pr(AlibiVerified \\| NOT CCTVFootage) = 0.3 | If there is no CCTV footage, the probability of an alibi being verified drops to 30%. |\n",
        "| Pr(FingerprintMatch \\| CleanedRoomOR WoreGloves) = 0.5 | There's a 50% chance of finding a matching fingerprint if the suspect cleaned the room or wore gloves, accounting for the possibility of gloves leaving no prints. |\n",
        "| Pr(NoEvidenceLeft \\| ProfessionalThief AND NightTime) = 0.95 | The probability that no evidence is left behind increases to 95% if the crime was committed by a professional thief during the night. |"
      ],
      "metadata": {
        "id": "2MJdTRlgJ7Mw"
      }
    },
    {
      "cell_type": "markdown",
      "source": [
        "### Complete Multiplication Rule (for Dependent Events)\n",
        "\n",
        "Complete Multiplication Rule applies when calculating the probability of sequential, dependent events occurring. In scenarios where one event's outcome influences another's, the probability of both events happening is the product of the first event's probability and the conditional probability of the second event given the first.\n",
        "\n",
        "$$\n",
        "Pr(A \\text{ and } B) = Pr(A) * Pr(B|A)\n",
        "$$\n",
        "\n",
        "Imagine Boba Fett tracking down two targets in the galaxy, where the capture of the first target significantly increases the chances of locating the second due to intel gathered. If the probability of capturing the first target is 70% (Pr(A) = 0.7), and this success boosts the probability of securing the second target to 80% (Pr(B|A) = 0.8), then the probability of Boba Fett capturing both targets, one after the other, can be calculated as 0.7 * 0.8 = 0.56. Thus, there's a 56% chance Boba Fett will successfully apprehend both targets, showcasing the interdependency of these events in his mission."
      ],
      "metadata": {
        "id": "bAo2YActw0Qv"
      }
    },
    {
      "cell_type": "code",
      "source": [
        "complete_multiplication(\n",
        "    pr_e1 = 0.7, # capture first target\n",
        "    pr_e2_given_e1 = 0.8 # conditional probability of capturing second targetr\n",
        ")"
      ],
      "metadata": {
        "colab": {
          "base_uri": "https://localhost:8080/"
        },
        "id": "eEX6IJfFyr8D",
        "outputId": "36b0e17f-3436-494f-dec7-528e970c2768"
      },
      "execution_count": null,
      "outputs": [
        {
          "output_type": "stream",
          "name": "stdout",
          "text": [
            "P(E1 and E2) = P(E1) * P(E2|E1)\n",
            "             = 0.7 * 0.8\n",
            "             = 0.56\n"
          ]
        }
      ]
    },
    {
      "cell_type": "markdown",
      "source": [
        "### Basic Rules of Probability\n",
        "Here are the basic rules of probability we've discussed so far. These are all simple enough that you should be able to compute them with a simple calculator app on your phone. However, you are also welcome to try out the \"interactive\" version of this chapter (as mentioned above). The \"Python code\" shows how use the computer code.\n",
        "\n",
        "| Rule Name | Description  | Definition | Python Code |\n",
        "| --- | --- | --- | --- |\n",
        "| Complement Rule | Calculates the chance of an event not happening. | `Pr(not E) = 1 - Pr(E)` | `complement_rule(pr_e)` |\n",
        "| Conditional Probability | Determines the likelihood of an event A occurring given that event B has already occurred. | `Pr(A given B) = Pr(A and B) / Pr(B)` | `pr_a_and_b / pr_b` |\n",
        "| Simple Addition | Finds the chance of either event happening, assuming they are mutually exclusive. | `Pr(E1 or E2) = Pr(E1) + Pr(E2)` | `simple_addition(pr_e1, pr_e2)` |\n",
        "| General Addition | Adds probabilities of two events, subtracting the overlap to avoid double counting. | `Pr(E1 or E2) = Pr(E1) + Pr(E2) - Pr(E1 and E2)` | `general_addition(pr_e1, pr_e2, pr_e1_and_e2)` |\n",
        "| Simple Multiplication | Multiplies the probabilities of two independent events to find the chance of both occurring. | `Pr(E1 and E2) = Pr(E1) * Pr(E2)` | `simple_multiplication(pr_e1, pr_e2)` |\n",
        "| Complete Multiplication | For dependent events, multiplies the probability of one event by the conditional probability of the second. | `Pr(E1 and E2) = Pr(E1) * Pr(E2 given E1)` | `complete_multiplication(pr_e1, pr_e2_given_e1)` |\n",
        "| Total Probability | Calculates overall probability of an event by considering all exclusive scenarios. | `Pr(E) = Pr(E given H1) * Pr(H1) + Pr(E given H2) * Pr(H2)` | `total_probability(pr_e_given_h1, pr_h1, pr_e_given_h2, pr_h2)` |"
      ],
      "metadata": {
        "id": "1cpeZm-r1mYs"
      }
    },
    {
      "cell_type": "markdown",
      "source": [
        "## Exercises\n",
        "Here are some exercises to practice the basic rules of probability. You can use the code cells to answer these questions (using the examples avove).\n",
        "\n",
        "1. Detective Holmes is investigating a high-profile case and estimates the probability of the suspect being in London is 75%. What is the probability that the suspect is not in London?\n",
        "\n"
      ],
      "metadata": {
        "id": "C8z7UUdA210a"
      }
    },
    {
      "cell_type": "code",
      "source": [
        "# Question 1 - Your Code HEre"
      ],
      "metadata": {
        "id": "PpZiO8nULHOk"
      },
      "execution_count": null,
      "outputs": []
    },
    {
      "cell_type": "markdown",
      "source": [
        "2.  Looking over his records (which involve many thefts from museums), Inspector Gadget finds that that 30% of all suspects have had access to the museum, and 12% of suspects BOTH have access  and are also guility. What is the probability a suspect is guilty given they had access? (Hint: This definition of conditional probability -- you'll just need to do some division!)\n"
      ],
      "metadata": {
        "id": "k6LikEL-LNoW"
      }
    },
    {
      "cell_type": "code",
      "source": [
        "# Question 2 - Your Code Here"
      ],
      "metadata": {
        "id": "JCx8i2t-LPMy"
      },
      "execution_count": null,
      "outputs": []
    },
    {
      "cell_type": "markdown",
      "source": [
        "\n",
        "3. Sherlock Holmes is investigating a case and determines that the probability the thief took a cab away from the scene is 50% and the probability of leaving fingerprints at the scene is 20%. Assuming these events are independent, what is the probability the thief both took a cab and left fingerprints?\n"
      ],
      "metadata": {
        "id": "CzaXM_3PLSkU"
      }
    },
    {
      "cell_type": "code",
      "source": [
        "# Question 3 - Your Code Here"
      ],
      "metadata": {
        "id": "2a7iSyXTLbfV"
      },
      "execution_count": null,
      "outputs": []
    },
    {
      "cell_type": "markdown",
      "source": [
        "4. Veronica Mars is trying to determine who pranked the principal. There are two suspects: Lilly and Wallace. She knows that if Lilly did it, there's a 50% chance she would use a stink bomb. If Wallace did it, there's a 30% chance of him using the same method. Given Lilly is 60% likely and Wallace 40% likely to be the prankster, what is the total probability a stink bomb was used?"
      ],
      "metadata": {
        "id": "AeDaY_K5LeLE"
      }
    },
    {
      "cell_type": "code",
      "source": [
        "# Question 4 - Your Code Here"
      ],
      "metadata": {
        "id": "FUmyUzfxLgQJ"
      },
      "execution_count": null,
      "outputs": []
    },
    {
      "cell_type": "markdown",
      "source": [
        "\n",
        "5. Detective Pikachu is on the trail of two separate clues regarding the location of a hidden item. He estimates a 20% chance the item is in the city park and a 15% chance it is at the local museum. Assuming these are the only two locations, what is the probability the item is at either location?"
      ],
      "metadata": {
        "id": "5Dy9PxA4LiiK"
      }
    },
    {
      "cell_type": "code",
      "source": [
        "# Question 5 - Your Code Here"
      ],
      "metadata": {
        "id": "M-ANe1_sLkhb"
      },
      "execution_count": null,
      "outputs": []
    },
    {
      "cell_type": "markdown",
      "source": [
        "\n",
        "6. Sam Spade is tracking two leads. The probability the first lead pans out is 60%. If the first lead is successful, the probability the second lead will also be successful increases to 70%. What is the probability both leads will be successful?"
      ],
      "metadata": {
        "id": "-X5nGx17Loue"
      }
    },
    {
      "cell_type": "code",
      "source": [
        "# Question 6 - Your Code here"
      ],
      "metadata": {
        "id": "0BR82WwJLqZg"
      },
      "execution_count": null,
      "outputs": []
    },
    {
      "cell_type": "markdown",
      "source": [
        "\n",
        "7. Nancy Drew is investigating a case with two possible suspects. The probability suspect A is involved is 25%, and the probability suspect B is involved is 35%. If the probability that both A and B are involved is 10%, what is the probability that either A or B is involved?"
      ],
      "metadata": {
        "id": "cKX3B0kPLtv5"
      }
    },
    {
      "cell_type": "code",
      "source": [
        "# QUestion 7 - Your code here"
      ],
      "metadata": {
        "id": "1BE-F6MwLvJF"
      },
      "execution_count": null,
      "outputs": []
    },
    {
      "cell_type": "markdown",
      "source": [
        "## What is Probability, Part 2: Frequencies and Beliefs\n",
        "\n",
        "In the shadowy world of probability, two distinct types emerge from the mist: frequency-type probability and belief-type probability. These two concepts, while both dealing with the likelihood of events, approach probability from different angles. Let's dive into these notions with the help of our illustrious detective squad."
      ],
      "metadata": {
        "id": "tAV3uqc-3gGF"
      }
    },
    {
      "cell_type": "markdown",
      "source": [
        "\n",
        "### Frequency-Type Probability: The Realm of Objective Chance\n",
        "Frequency-type probability, also known as objective chance or physical probability, is rooted in the concrete world of data and statistics. It's the type of probability that Sherlock Holmes would appreciate, as it deals with measurable, repeatable events.\n",
        "\n",
        "- Definition: **Frequency-type probability** is the relative frequency of an event occurring in a large number of trials or observations. It's the ratio of the number of times an event occurs to the total number of trials.\n",
        "\n",
        "For example, let's say that in Sherlock's vast case files, he finds that out of 100 similar crimes, 75 were committed by male perpetrators. The frequency-type probability of a crime being committed by a male, based on this data, is 75/100 = 0.75 or 75%.\n",
        "\n",
        "Mathematically, we can express frequency-type probability as:\n",
        "\n",
        "$$\n",
        "Pr(\\text{Event}) = \\frac{\\text{Number of times event occurs}}{\\text{Total number of trials}}\n",
        "$$\n",
        "\n",
        "Some other examples of frequency-type probability:\n",
        "\n",
        "1. In Agatha Christie's \"A Pocketful of Rye,\" Miss Marple investigates a series of murders involving poisoned tea. If Miss Marple discovers that out of 50 tea samples from the victim's kitchen, 5 contain the poison, the frequency-type probability of selecting a poisoned tea sample is 5/50 = 0.1 or 10%.\n",
        "2. Veronica Mars, the teenage private investigator, is tasked with uncovering a cheating scandal at her high school. If she finds that out of 500 students, 30 have been caught cheating on exams in the past year, the frequency-type probability of a student being a cheater is 30/500 = 0.06 or 6%.\n",
        "3. In \"Pokémon Detective Pikachu,\" the titular character investigates a case of missing Pokémon. If Detective Pikachu discovers that out of 100 Pokémon in the city, 15 have gone missing in the past month, the frequency-type probability of a Pokémon going missing, relative to the reference class of all Pokémon in the city, is 15/100 = 0.15 or 15%.\n",
        "\n",
        "Frequency-type probability is often used in fields like genetics, where Mendelian inheritance patterns exhibit consistent ratios, or in quality control, where the frequency of defects can be measured and predicted."
      ],
      "metadata": {
        "id": "aDHNn0PDqeTk"
      }
    },
    {
      "cell_type": "markdown",
      "source": [
        "### Belief-Type Probability: The Domain of Logical Inference\n",
        "In contrast, belief-type probability, also known as logical probability, deals with the degree of certainty or confidence in a proposition based on the available evidence and reasoning. This is the realm of deductive and inductive logic that detectives like Hercule Poirot or Nancy Drew would thrive in.\n",
        "\n",
        "- Definition: **Belief-type probability** is a measure of the rational credence or degree of belief that a proposition is true, given the available evidence and logical reasoning.\n",
        "\n",
        "For instance, suppose Nancy Drew discovers a torn piece of fabric at a crime scene that matches a suspect's jacket. This evidence increases her belief in the proposition that the suspect was present at the scene. She might assign a belief-type probability of 0.8 or 80% to this hypothesis, based on the strength of the fabric match evidence and any other corroborating or conflicting clues.\n",
        "\n",
        "Belief-type probabilities can be updated as new evidence emerges, following the principles of Bayesian inference. If Nancy later learns that the suspect has an airtight alibi, her belief in the suspect's presence at the crime scene would drastically decrease, and she would revise her belief-type probability accordingly.\n",
        "\n",
        "Some other examples of belief-type probability:\n",
        "\n",
        "1. In a case from the Marvel Universe, private investigator Jessica Jones is hired by a client who seems to be withholding information. As Jessica delves deeper into the case, she discovers inconsistencies in the client's story and uncovers evidence suggesting the client's involvement in a crime. Based on the accumulation of suspicious behavior, contradictory statements, and incriminating evidence, Jessica assigns a belief-type probability of 0.7 or 70% to the proposition that her client is guilty of the crime, given her total evidence.\n",
        "2. Inspector Morse, a brilliant detective created by Colin Dexter, investigates a case of missing jewelry. A witness reports seeing a man fitting the description of a known thief near the crime scene. Considering the reliability of the witness and the thief's past record, Morse assigns a belief-type probability of 0.6 or 60% to the hypothesis that this thief is responsible for the missing jewelry.\n",
        "3. In a hypothetical Harry Potter story, Hermione Granger is tasked with identifying a mysterious potion discovered in a hidden room at Hogwarts. After extensive research and a series of magical tests, she finds that the potion's characteristics match those of a rare, ancient healing elixir. Considering the results of her tests, the historical records she has uncovered, and the context in which the potion was found, Hermione assigns a belief-type probability of 0.9 or 90% to the hypothesis that the potion is indeed the ancient healing elixir, given her total evidence.\n",
        "\n",
        "Legal reasoning heavily relies on belief-type probability. Jurors are tasked with assessing the probability of a defendant's guilt based on the evidence presented and the arguments made by the prosecution and defense. The standard of \"beyond a reasonable doubt\" in criminal cases requires a very high belief-type probability of guilt to convict."
      ],
      "metadata": {
        "id": "B4-YsS68rcES"
      }
    },
    {
      "cell_type": "markdown",
      "source": [
        "## Discussion Questions: Two Types of Probability\n",
        "1. In your own words, explain the difference between frequency-type and belief-type probabilities. Provide an example of each from your daily life.\n",
        "2. Imagine you are a detective investigating a burglary. Describe how you might use both frequency-type and belief-type probabilities to guide your investigation. How would you update your belief-type probabilities as new evidence emerges?\n",
        "3. In the medical field, doctors often use probability to make diagnoses. Discuss how frequency-type probabilities based on population data might be combined with belief-type probabilities based on a patient's specific symptoms and test results to reach a diagnosis.\n",
        "4. Probability plays a significant role in many games, from board games to sports. Choose a game you are familiar with and discuss how frequency-type and belief-type probabilities might be used to inform strategy and decision-making within the game. How might a player's understanding of these probabilities give them an advantage?"
      ],
      "metadata": {
        "id": "KzQRBHftvJ-f"
      }
    },
    {
      "cell_type": "markdown",
      "source": [
        "## Introduction to Bayes' Theorem: A Detective's Guide to Probabilistic Reasoning\n",
        "\n",
        "Imagine you're a detective, tasked with solving a complex case. You have a hunch, a hypothesis about who the culprit might be, but you need to test your theory against the evidence. This is where Bayes' Theorem comes in -- a powerful tool for updating your beliefs based on new information.\n",
        "\n",
        "At its core, Bayes' Theorem is a mathematical formula that describes how to update the probability of a hypothesis (H) given new evidence (E). It's a way to quantify the impact of evidence on your belief in a particular hypothesis. The theorem is named after Thomas Bayes, an 18th-century English statistician and minister who first developed the concept.\n",
        "\n",
        "The formula for Bayes' Theorem looks like this:\n",
        "$$\n",
        "Pr(H|E) = \\frac{Pr(H) * Pr(E|H)}{Pr(H) * Pr(E|H) + Pr(\\neg H) * Pr(E|\\neg H)}\n",
        "$$\n",
        "\n",
        "Don't let the mathematical notation scare you! Let's break it down term by term:\n",
        "\n",
        "-   $Pr(H|E)$ is the probability of the hypothesis (H) being true given the evidence (E). This is what we want to calculate.\n",
        "-   $Pr(H)$ is the prior probability of the hypothesis being true before considering the evidence. It's your initial belief in the hypothesis based on your background knowledge or intuition.\n",
        "-   $Pr(E|H)$ is the probability of observing the evidence (E) if the hypothesis (H) is true. This is also called the likelihood of the evidence given the hypothesis.\n",
        "-   $Pr(\\neg H)$ is the probability of the hypothesis being false, which is equal to 1 - Pr(H).\n",
        "-   $Pr(E|\\neg H)$ is the probability of observing the evidence (E) if the hypothesis (H) is false.\n",
        "\n",
        "Now, let's put this into the context of a detective's work. Suppose you have a prime suspect in a murder case, but you're not entirely sure of their guilt. Your initial belief in their guilt, based on your experience and the preliminary evidence, is 60%. This is your prior probability, Pr(H).\n",
        "\n",
        "Next, you discover a piece of evidence: a witness saw someone matching your suspect's description near the crime scene at the time of the murder. You know from past cases that eyewitness testimonies are correct about 80% of the time when the suspect is guilty, Pr(E|H), and only 30% of the time when the suspect is innocent, Pr(E|~H).\n",
        "\n",
        "To update your belief in the suspect's guilt, you plug these values into Bayes' Theorem:\n"
      ],
      "metadata": {
        "id": "M_-i8eq4xxtm"
      }
    },
    {
      "cell_type": "code",
      "source": [
        "bayes_theorem(pr_h=.6,\n",
        "              pr_e_given_h = .8,\n",
        "              pr_e_given_not_h = .3)"
      ],
      "metadata": {
        "colab": {
          "base_uri": "https://localhost:8080/"
        },
        "id": "YwXjKJIcljPH",
        "outputId": "78c6c824-8bb7-43d9-9be2-9eb51edc5328"
      },
      "execution_count": null,
      "outputs": [
        {
          "output_type": "stream",
          "name": "stdout",
          "text": [
            "P(H|E) = (P(E|H) * P(H)) / [P(E|H) * P(H) + P(E|not H) * P(not H)]\n",
            "       = (0.8 * 0.6) / (0.8 * 0.6 + 0.3 * 0.4)\n",
            "       =  0.80\n"
          ]
        }
      ]
    },
    {
      "cell_type": "markdown",
      "source": [
        "The result, Pr(H|E), is the updated probability of your hypothesis (the suspect's guilt) given the new evidence (the eyewitness testimony). In this case, the probability of the suspect's guilt has increased from 60% to 80% in light of the new evidence.\n",
        "\n",
        "This is the essence of Bayesian reasoning: starting with an initial belief, observing new evidence, and updating your belief based on how well the evidence supports your hypothesis relative to alternative hypotheses. It's a process of continuously refining your beliefs as you gather more information.\n",
        "\n",
        "Bayes' Theorem has wide-ranging applications, from medical diagnosis and scientific research to machine learning and artificial intelligence. As a detective, understanding and applying Bayes' Theorem can help you navigate complex cases, weigh evidence objectively, and make more informed decisions. By thinking like a Bayesian detective, you can solve crimes with the power of probabilistic reasoning."
      ],
      "metadata": {
        "id": "lqyZ14PqyEzr"
      }
    },
    {
      "cell_type": "markdown",
      "source": [
        "## Graphic: Bayes Theorem Visualized\n",
        "![image.png](data:image/png;base64,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)"
      ],
      "metadata": {
        "id": "WufeSSNKnqdD"
      }
    },
    {
      "cell_type": "markdown",
      "source": [
        "## Bayes' Theorem and Medical Tests: Navigating Uncertainty in Diagnosis\n",
        "\n",
        "Picture yourself as a medical detective, tasked with diagnosing patients based on their symptoms and test results. Just like a detective on a case, you must weigh the evidence and update your beliefs about the likelihood of different conditions. Bayes' Theorem is a powerful tool in this process, helping you navigate the uncertainties of medical diagnosis.\n",
        "\n",
        "Let's consider a specific example: a patient takes a test for a rare disease that affects 1 in 1,000 people in the population. The test is 99% accurate, meaning it correctly identifies 99% of people who have the disease (sensitivity) and 99% of people who don't have the disease (specificity). If the patient tests positive, what is the probability that they actually have the disease?\n",
        "\n",
        "To answer this question, we can apply Bayes' Theorem. Let's define our terms:\n",
        "\n",
        "-   H: The hypothesis that the patient has the disease\n",
        "-   E: The evidence that the patient tested positive\n",
        "-   Pr(H) = 0.001 (the prior probability, or base rate, of having the disease)\n",
        "-   Pr(E|H) = 0.99 (the probability of testing positive given that the patient has the disease)\n",
        "-   Pr(~H) = 0.999 (the probability of not having the disease)\n",
        "-   Pr(E|~H) = 0.01 (the probability of testing positive given that the patient does not have the disease, which is equal to 1 - specificity)\n",
        "\n",
        "Plugging these values into Bayes' Theorem:"
      ],
      "metadata": {
        "id": "gI1kUl5F0jaY"
      }
    },
    {
      "cell_type": "code",
      "source": [
        "bayes_theorem(pr_h = 0.001,\n",
        "              pr_e_given_h = 0.99,\n",
        "              pr_e_given_not_h = 0.01)"
      ],
      "metadata": {
        "id": "LVAOvgZG0qv5",
        "outputId": "96040769-c6c6-4411-d5fc-c59f71b8a0f0",
        "colab": {
          "base_uri": "https://localhost:8080/"
        }
      },
      "execution_count": null,
      "outputs": [
        {
          "output_type": "stream",
          "name": "stdout",
          "text": [
            "P(H|E) = (P(E|H) * P(H)) / [P(E|H) * P(H) + P(E|not H) * P(not H)]\n",
            "       = (0.99 * 0.001) / (0.99 * 0.001 + 0.01 * 0.999)\n",
            "       =  0.09\n"
          ]
        }
      ]
    },
    {
      "cell_type": "markdown",
      "source": [
        "The result might be surprising: even with a highly accurate test and a positive result, there's only about a 9% chance that the patient actually has the rare disease. This is because the low prior probability of having the disease (the base rate) has a significant impact on the posterior probability.\n",
        "\n",
        "This example illustrates the importance of considering base rates when interpreting medical test results. Neglecting the base rate can lead to the **base rate fallacy**, where people overestimate the probability of a condition based on a positive test result without properly accounting for the rarity of the condition in the population.\n",
        "\n",
        "The base rate fallacy can have serious consequences in medical decision-making. For example, if a doctor overestimates the probability of a patient having a disease based on a positive test result, they might recommend unnecessary treatments or procedures that carry risks and costs. On the other hand, if a doctor underestimates the probability of a disease based on a negative test result, they might fail to provide appropriate care and monitoring.\n",
        "\n",
        "To avoid the base rate fallacy and make accurate diagnoses, medical professionals (as well as patients and their advocates) must consider both the accuracy of the test and the base rate of the condition in the population. They can use Bayes' Theorem to update their beliefs about the likelihood of a condition based on the available evidence, just like a detective updating their hypothesis based on clues.\n",
        "\n",
        "Moreover, medical professionals can use Bayesian reasoning to guide further testing and investigation. If the posterior probability of a condition is still uncertain after an initial test, they can decide whether to order additional tests or gather more information to refine their diagnosis. Each new piece of evidence can be incorporated into the Bayesian framework, allowing for a continual updating of beliefs until a confident diagnosis can be made."
      ],
      "metadata": {
        "id": "XU5d86Tq08Ir"
      }
    },
    {
      "cell_type": "markdown",
      "source": [
        "## Surprising Applications of Bayes' Theorem: From Dating to Divinity and Beyond\n",
        "\n",
        "Bayes' Theorem is not just a tool for detectives and doctors; it has far-reaching applications in various aspects of life, from the everyday to the extraordinary. Let's explore some of these surprising applications and see how Bayesian reasoning can help us make better decisions and understand the world around us.\n",
        "\n",
        "1. *Determining whether to go on a date with someone.* When deciding whether to go on a date with someone, you can use Bayes' Theorem to update your belief about the likelihood of a successful relationship based on the evidence you gather. Your prior probability might be based on your past experiences with relationships or your general beliefs about compatibility. As you learn more about the person through conversations or shared experiences, you can update your probability of a successful relationship. This can help you make a more informed decision about whether to pursue a romantic connection.\n",
        "2. *Figuring out whether God exists.* The question of God's existence has puzzled philosophers and theologians for centuries. Bayes' Theorem can provide a framework for updating one's belief in the existence of God based on evidence and arguments. The prior probability of God's existence might be based on personal faith or philosophical arguments. Evidence such as the complexity of the universe, the apparent fine-tuning of physical constants, or religious experiences can be incorporated into the Bayesian framework to update the probability of God's existence. While this approach may not provide a definitive answer, it can help individuals reason about their beliefs in a more structured way.\n",
        "3. *Determining which scientific theories are true.* Science is a process of constantly updating our beliefs based on new evidence. Bayes' Theorem is a formal way of doing this, allowing scientists to compare the probability of different theories being true based on the available data. The prior probability of a theory might be based on its simplicity, elegance, or consistency with established knowledge. As new experiments are conducted and data is collected, scientists can update the probability of each theory using Bayes' Theorem. This helps the scientific community converge on the most likely explanations for natural phenomena.\n",
        "\n",
        "These are just a few examples of the many surprising applications of Bayes' Theorem. From personal decision-making to the frontiers of science and technology, Bayesian reasoning provides a powerful framework for updating our beliefs in the face of uncertainty. By embracing the principles of Bayesian inference, we can make more informed choices, uncover hidden truths, and push the boundaries of what is possible."
      ],
      "metadata": {
        "id": "liUSvnON1Y-d"
      }
    },
    {
      "cell_type": "markdown",
      "source": [
        "## Sample Problems\n",
        "Please anwser these questions using the `bayes_theorem` function.\n",
        "1.  You are a detective investigating a burglary. Based on your initial assessment of the crime scene, you believe there is a 60% chance that the burglar entered through the front door. However, upon further investigation, you discover that the lock on the back door was picked, and there are muddy footprints leading from the back door to the area where the valuables were stolen. Given this new evidence, how would you update your belief about the burglar's entry point using Bayes' Theorem?"
      ],
      "metadata": {
        "id": "rxTP8uOp26ir"
      }
    },
    {
      "cell_type": "code",
      "source": [
        "# You'll need to replace the ? with the right numbers\n",
        "bayes_theorem(pr_h = ?,\n",
        "              pr_e_given_h = ?,\n",
        "              pr_e_given_not_h = ?)"
      ],
      "metadata": {
        "id": "CVh6mAn7NHaW"
      },
      "execution_count": null,
      "outputs": []
    },
    {
      "cell_type": "markdown",
      "source": [
        "\n",
        "2.  A certain disease affects 1 in 10,000 people. A test for this disease has a 95% accuracy rate, meaning it correctly identifies 95% of people who have the disease and 95% of people who don't have the disease. If a person tests positive for the disease, what is the probability that they actually have the disease? Use Bayes' Theorem to calculate the updated probability."
      ],
      "metadata": {
        "id": "Xsa30_2tNHuI"
      }
    },
    {
      "cell_type": "code",
      "source": [
        "# You'll need to replace the ? with the right numbers\n",
        "bayes_theorem(pr_h = ?,\n",
        "              pr_e_given_h = ?,\n",
        "              pr_e_given_not_h = ?)"
      ],
      "metadata": {
        "id": "_vt9sELfNJgN"
      },
      "execution_count": null,
      "outputs": []
    },
    {
      "cell_type": "markdown",
      "source": [
        "\n",
        "3.  You are considering whether to go on a date with someone you met online. Based on their profile and your prior experiences with online dating, you initially believe there is a 30% chance that you will have a good connection in person. After exchanging a few messages, you discover that you have several shared interests and values. Given this new information, how would you update your belief about the likelihood of a successful date using Bayes' Theorem?"
      ],
      "metadata": {
        "id": "K6SoS7LUNKZQ"
      }
    },
    {
      "cell_type": "code",
      "source": [
        "# You'll need to replace the ? with the right numbers\n",
        "bayes_theorem(pr_h = ?,\n",
        "              pr_e_given_h = ?,\n",
        "              pr_e_given_not_h = ?)"
      ],
      "metadata": {
        "id": "k7h4s3ILNMeD"
      },
      "execution_count": null,
      "outputs": []
    },
    {
      "cell_type": "markdown",
      "source": [
        "## Minds that Mattered: Florence Nightingale\n",
        "\n",
        "Florence Nightingale (1820-1910) was a British nurse, statistician, and social reformer who revolutionized healthcare practices in the 19th century. Born in Florence, Italy, to a wealthy British family, Nightingale was well-educated and had a strong interest in mathematics and statistics from a young age. Despite her family's objections, she pursued a career in nursing, which was considered an unsuitable profession for a woman of her social standing at the time.\n",
        "\n",
        "Nightingale's most notable contribution came during the Crimean War (1853-1856), where she served as a nurse in military hospitals. She was appalled by the unsanitary conditions, lack of medical supplies, and high mortality rates among the wounded soldiers. Nightingale worked tirelessly to improve the hospitals, implementing strict hygiene protocols, ensuring proper ventilation, and providing adequate food and medical care. Her dedication and compassion earned her the nickname \"The Lady with the Lamp,\" as she would often make night rounds to check on her patients.\n",
        "\n",
        "After returning from the Crimean War, Nightingale continued her mission to reform healthcare. She used her statistical knowledge to analyze mortality data and demonstrate the link between sanitary conditions and patient outcomes. Nightingale's findings led to significant improvements in hospital design, sanitation practices, and patient care.\n",
        "\n",
        "### Key Ideas\n",
        "\n",
        "1.  **Evidence-Based Medicine.** Florence Nightingale strongly believed in the importance of collecting and analyzing data to inform healthcare practices. She meticulously recorded and analyzed patient outcomes, mortality rates, and hospital conditions. Nightingale's evidence-based approach laid the foundation for modern medical research and emphasized the importance of data-driven decision making in healthcare.\n",
        "2.  **Data Visualization.** Nightingale was a pioneer in data visualization. She created the polar area diagram, also known as the Nightingale Rose Diagram, to visually represent the causes of mortality in the Crimean War hospitals. The diagram used segmented circles to show the proportion of deaths due to preventable causes, such as infectious diseases, compared to other causes. This innovative visual representation made complex statistical data accessible to a wider audience and helped convince authorities to implement hospital reforms.\n",
        "3.  **Nursing Education.** Nightingale recognized the need for formal training and education for nurses. In 1860, she established the Nightingale Training School for Nurses at St. Thomas' Hospital in London. The school provided a rigorous curriculum that combined theoretical knowledge with practical training. Nightingale's model of nursing education emphasized the importance of hygiene, patient observation, and evidence-based practices. The Nightingale Training School set the standard for modern nursing education and helped elevate nursing to a respected profession.\n",
        "\n",
        "### Influence\n",
        "\n",
        "Florence Nightingale's influence extends across multiple fields, including nursing, public health, and data science.\n",
        "\n",
        "In nursing, Nightingale's reforms transformed the profession from a low-skilled, often disreputable occupation to a highly respected and essential role in healthcare. Her emphasis on hygiene, patient care, and evidence-based practices laid the foundation for modern nursing standards. Nightingale's legacy continues to inspire nurses worldwide, and International Nurses Day is celebrated on her birthday, May 12th, in her honor.\n",
        "\n",
        "In public health, Nightingale's work highlighted the importance of sanitation and hygiene in preventing the spread of infectious diseases. Her reforms in hospital design and sanitation practices led to significant reductions in mortality rates and improved patient outcomes. Nightingale's advocacy for public health measures, such as improved sanitation and access to clean water, had a lasting impact on population health.\n",
        "\n",
        "In data science, Nightingale's innovative use of statistics and data visualization to identify healthcare problems and drive reforms established her as a pioneer in the field. Her Nightingale Rose Diagram showcased the power of visual representations in communicating complex data and influencing policy decisions. Nightingale's work laid the groundwork for the use of statistical analysis in healthcare and inspired future generations of data scientists.\n",
        "\n",
        "### Review Questions\n",
        "\n",
        "1.  What were the primary challenges Florence Nightingale faced during the Crimean War, and how did she address them?\n",
        "2.  Explain the significance of evidence-based medicine in Nightingale's approach to healthcare reform.\n",
        "3.  How did Nightingale's data visualization techniques, such as the Nightingale Rose Diagram, contribute to her advocacy for hospital reforms?\n",
        "4.  Discuss the impact of the Nightingale Training School for Nurses on the nursing profession and nursing education.\n",
        "5.  In what ways did Florence Nightingale's work influence the fields of public health and data science?"
      ],
      "metadata": {
        "id": "_b5ADHRa-HuB"
      }
    },
    {
      "cell_type": "markdown",
      "source": [
        "## Glossary\n",
        "\n",
        "Here is a glossary of some helpful terms.\n",
        "\n",
        "\n",
        "| Term | Definition |\n",
        "| --- | --- |\n",
        "| Probability | A numerical measure of the likelihood that an event will occur, expressed as a value between 0 and 1, where 0 indicates impossibility and 1 indicates certainty. |\n",
        "| Complement Rule | States that the probability of an event not occurring is equal to 1 minus the probability of the event occurring. Mathematically, for an event A, P(A') = 1 - P(A). |\n",
        "| Simple Addition Rule (for mutually exclusive events) | States that the probability of either of two mutually exclusive events occurring is equal to the sum of their individual probabilities. Mathematically, for mutually exclusive events A and B, P(A or B) = P(A) + P(B). |\n",
        "| General Addition Rule | States that the probability of at least one of two events occurring is equal to the sum of their individual probabilities minus the probability of both events occurring simultaneously. Mathematically, for events A and B, P(A or B) = P(A) + P(B) - P(A and B). |\n",
        "| Simple Multiplication Rule (for independent events) | States that the probability of two independent events both occurring is equal to the product of their individual probabilities. Mathematically, for independent events A and B, P(A and B) = P(A) × P(B). |\n",
        "| General Multiplication Rule | States that the probability of two events both occurring is equal to the probability of one event occurring multiplied by the conditional probability of the second event occurring given that the first event has occurred. Mathematically, for events A and B, P(A and B) = P(A) × P(B|A). |\n",
        "| Conditional Probability | The probability of an event occurring given that another event has already occurred. Mathematically, for events A and B, the conditional probability of A given B is denoted as P(A|B) and is calculated as P(A|B) = P(A and B) / P(B), provided that P(B) > 0. |\n",
        "| Rule of Total Probability | A formula that expresses the total probability of an event as the sum of the products of the conditional probabilities of the event given each possible outcome of another event and the probabilities of those outcomes. Mathematically, if B1, B2, ..., Bn are mutually exclusive and exhaustive events, then for any event A, P(A) = P(A|B1) × P(B1) + P(A|B2) × P(B2) + ... + P(A|Bn) × P(Bn). |\n",
        "| Frequency-type probability | An interpretation of probability based on the relative frequency of an event occurring in a large number of trials or observations. |\n",
        "| Belief-type probability | An interpretation of probability based on an individual's subjective belief or confidence in the likelihood of an event occurring, often informed by prior knowledge or experience. |\n",
        "| Bayes Theorem | A formula that describes the relationship between conditional probabilities and enables the updating of probabilities based on new evidence or information. Mathematically, for events A and B, Bayes Theorem states that P(A|B) = (P(B|A) × P(A)) / P(B). |\n",
        "| Prior Probability - Pr(H) | The initial probability of a hypothesis (H) being true before considering any evidence or data. |\n",
        "| Posterior Probability - Pr(H\\|E) | The updated probability of a hypothesis (H) being true after considering the evidence (E) or data. |\n",
        "| Likelihood - Pr(E\\|H) | The probability of observing the evidence (E) given that the hypothesis (H) is true. |\n",
        "| Pr(E\\| not H) | The probability of observing the evidence (E) given that the hypothesis (H) is not true. |\n"
      ],
      "metadata": {
        "id": "kRp2z7sd9eOb"
      }
    },
    {
      "cell_type": "markdown",
      "source": [
        "## References\n",
        "\n",
        " Carnap, Rudolf. 1945. \"The Two Concepts of Probability: The Problem of Probability.\" Philosophy and Phenomenological Research 5 (4): 513-532. <https://www.jstor.org/stable/2102817>.\n",
        "\n",
        "Crane, Harry. 2016. \"Probability.\" Internet Encyclopedia of Philosophy. <https://iep.utm.edu/prob-ind/>.\n",
        "\n",
        "Fitelson, Branden. 2006. \"Inductive Logic.\" Stanford Encyclopedia of Philosophy. <https://plato.stanford.edu/entries/logic-inductive/>.\n",
        "\n",
        "Hájek, Alan. 2019. \"Interpretations of Probability.\" Stanford Encyclopedia of Philosophy. <https://plato.stanford.edu/entries/probability-interpret/>.\n",
        "\n",
        "Huber, Franz. 2016. \"Formal Representations of Belief.\" Stanford Encyclopedia of Philosophy. <https://plato.stanford.edu/entries/formal-belief/>.\n",
        "\n",
        "Joyce, James. 2003. \"Bayes' Theorem.\" Stanford Encyclopedia of Philosophy. <https://plato.stanford.edu/entries/bayes-theorem/>.\n",
        "\n",
        "Leighton, Jonathan P. 2017. \"Logic and Probability.\" In The Oxford Handbook of Philosophical Methodology, edited by Herman Cappelen, Tamar Szabó Gendler, and John Hawthorne. Oxford: Oxford University Press.\n",
        "\n",
        "Talbott, William. 2016. \"Bayesian Epistemology.\" Stanford Encyclopedia of Philosophy. <https://plato.stanford.edu/entries/epistemology-bayesian/>.\n",
        "\n",
        "The Probability and Statistics Cookbook. n.d. Matthias Vallentin. <http://statistics.zone/>.\n",
        "\n",
        "Vickers, John. 2016. \"The Problem of Induction.\" Stanford Encyclopedia of Philosophy. <https://plato.stanford.edu/entries/induction-problem/>.\n",
        "\n",
        "Vineberg, Susan. 2011. \"Dutch Book Arguments.\" Stanford Encyclopedia of Philosophy. <https://plato.stanford.edu/entries/dutch-book/>.\n",
        "\n",
        "Weisberg, Jonathan. 2011. \"Varieties of Bayesianism.\" In Handbook of the History of Logic. Vol. 10: Inductive Logic, edited by Dov M. Gabbay, Stephan Hartmann, and John Woods, 477-551. Amsterdam: Elsevier.\n",
        "\n",
        "Probability and Statistics. n.d. Khan Academy. <https://www.khanacademy.org/math/statistics-probability>."
      ],
      "metadata": {
        "id": "6rD-RdX1Phcg"
      }
    },
    {
      "cell_type": "code",
      "source": [],
      "metadata": {
        "id": "LUo6zhcv0iWN"
      },
      "execution_count": null,
      "outputs": []
    }
  ]
}